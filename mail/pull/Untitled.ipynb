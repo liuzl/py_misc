{
 "cells": [
  {
   "cell_type": "code",
   "execution_count": 1,
   "metadata": {},
   "outputs": [],
   "source": [
    "import imaplib, email, os\n",
    "import pandas as pd\n",
    "import numpy as np\n",
    "from datetime import datetime\n",
    "from email.header import decode_header"
   ]
  },
  {
   "cell_type": "code",
   "execution_count": 2,
   "metadata": {},
   "outputs": [],
   "source": [
    "#连接到qq企业邮箱，其他邮箱调整括号里的参数\n",
    "conn = imaplib.IMAP4_SSL(\"imap.exmail.qq.com\", 993)"
   ]
  },
  {
   "cell_type": "code",
   "execution_count": 3,
   "metadata": {},
   "outputs": [
    {
     "data": {
      "text/plain": [
       "('OK', [b'Success login ok'])"
      ]
     },
     "execution_count": 3,
     "metadata": {},
     "output_type": "execute_result"
    }
   ],
   "source": [
    "#用户名、密码，登陆\n",
    "conn.login(\"userfull\",\"password\")"
   ]
  },
  {
   "cell_type": "code",
   "execution_count": 4,
   "metadata": {},
   "outputs": [
    {
     "data": {
      "text/plain": [
       "('OK',\n",
       " [b'(\\\\NoSelect \\\\HasChildren) \"/\" \"&UXZO1mWHTvZZOQ-\"',\n",
       "  b'(\\\\HasNoChildren) \"/\" \"INBOX\"',\n",
       "  b'(\\\\HasNoChildren) \"/\" \"Sent Messages\"',\n",
       "  b'(\\\\HasNoChildren) \"/\" \"Drafts\"',\n",
       "  b'(\\\\HasNoChildren) \"/\" \"Deleted Messages\"',\n",
       "  b'(\\\\HasNoChildren) \"/\" \"Junk\"',\n",
       "  b'(\\\\HasNoChildren) \"/\" \"&UXZO1mWHTvZZOQ-/liu@snowgeekz.com\"'])"
      ]
     },
     "execution_count": 4,
     "metadata": {},
     "output_type": "execute_result"
    }
   ],
   "source": [
    "#folders\n",
    "conn.list()"
   ]
  },
  {
   "cell_type": "code",
   "execution_count": 5,
   "metadata": {},
   "outputs": [
    {
     "data": {
      "text/plain": [
       "('OK', [b'216'])"
      ]
     },
     "execution_count": 5,
     "metadata": {},
     "output_type": "execute_result"
    }
   ],
   "source": [
    "conn.select(\"INBOX\")"
   ]
  },
  {
   "cell_type": "code",
   "execution_count": 6,
   "metadata": {},
   "outputs": [],
   "source": [
    "#提取了文件夹中所有邮件的编号，search功能在本邮箱中没有实现……\n",
    "resp, mails = conn.search(None,'ALL')"
   ]
  },
  {
   "cell_type": "code",
   "execution_count": 7,
   "metadata": {},
   "outputs": [],
   "source": [
    "#提取了指定编号（最新一封）的邮件\n",
    "resp, data = conn.fetch (mails[0].split()[len(mails[0].split())-1],'(RFC822)')\n",
    "emailbody = data[0][1]\n",
    "mail = email.message_from_bytes(emailbody)"
   ]
  },
  {
   "cell_type": "code",
   "execution_count": 9,
   "metadata": {},
   "outputs": [],
   "source": [
    "fileName = '没有找到任何附件！' \n",
    "#获取邮件附件名称\n",
    "for part in mail.walk():\n",
    "    #print(part)\n",
    "    if part.get_content_maintype() == 'multipart':\n",
    "        continue\n",
    "    if part.get('Content-Disposition') is None:\n",
    "        continue\n",
    "    fileName = part.get_filename()"
   ]
  },
  {
   "cell_type": "code",
   "execution_count": 12,
   "metadata": {},
   "outputs": [
    {
     "data": {
      "text/plain": [
       "email.message.Message"
      ]
     },
     "execution_count": 12,
     "metadata": {},
     "output_type": "execute_result"
    }
   ],
   "source": [
    "type(mail)"
   ]
  },
  {
   "cell_type": "code",
   "execution_count": null,
   "metadata": {},
   "outputs": [],
   "source": []
  }
 ],
 "metadata": {
  "kernelspec": {
   "display_name": "Python 3",
   "language": "python",
   "name": "python3"
  },
  "language_info": {
   "codemirror_mode": {
    "name": "ipython",
    "version": 3
   },
   "file_extension": ".py",
   "mimetype": "text/x-python",
   "name": "python",
   "nbconvert_exporter": "python",
   "pygments_lexer": "ipython3",
   "version": "3.6.5"
  }
 },
 "nbformat": 4,
 "nbformat_minor": 2
}
