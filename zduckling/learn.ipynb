{
 "cells": [
  {
   "cell_type": "code",
   "execution_count": 1,
   "metadata": {},
   "outputs": [
    {
     "name": "stdout",
     "output_type": "stream",
     "text": [
      "Collecting pyduckling\n",
      "  Downloading pyduckling-0.0.1-py3-none-any.whl (6.2 kB)\n",
      "Requirement already satisfied: requests in /Users/zliu/anaconda3/lib/python3.8/site-packages (from pyduckling) (2.24.0)\n",
      "Requirement already satisfied: certifi>=2017.4.17 in /Users/zliu/anaconda3/lib/python3.8/site-packages (from requests->pyduckling) (2020.6.20)\n",
      "Requirement already satisfied: urllib3!=1.25.0,!=1.25.1,<1.26,>=1.21.1 in /Users/zliu/anaconda3/lib/python3.8/site-packages (from requests->pyduckling) (1.25.9)\n",
      "Requirement already satisfied: idna<3,>=2.5 in /Users/zliu/anaconda3/lib/python3.8/site-packages (from requests->pyduckling) (2.10)\n",
      "Requirement already satisfied: chardet<4,>=3.0.2 in /Users/zliu/anaconda3/lib/python3.8/site-packages (from requests->pyduckling) (3.0.4)\n",
      "Installing collected packages: pyduckling\n",
      "Successfully installed pyduckling-0.0.1\n"
     ]
    }
   ],
   "source": [
    "!pip install pyduckling"
   ]
  },
  {
   "cell_type": "code",
   "execution_count": 2,
   "metadata": {},
   "outputs": [],
   "source": [
    "from duckling import *"
   ]
  },
  {
   "cell_type": "code",
   "execution_count": 3,
   "metadata": {},
   "outputs": [],
   "source": [
    "nlp = Duckling()"
   ]
  },
  {
   "cell_type": "code",
   "execution_count": 4,
   "metadata": {},
   "outputs": [
    {
     "data": {
      "text/plain": [
       "[{'body': '今天',\n",
       "  'start': 0,\n",
       "  'value': {'values': [{'value': '2020-09-01T00:00:00.000+08:00',\n",
       "     'grain': 'day',\n",
       "     'type': 'value'}],\n",
       "   'value': '2020-09-01T00:00:00.000+08:00',\n",
       "   'grain': 'day',\n",
       "   'type': 'value'},\n",
       "  'end': 2,\n",
       "  'dim': 'time',\n",
       "  'latent': False}]"
      ]
     },
     "execution_count": 4,
     "metadata": {},
     "output_type": "execute_result"
    }
   ],
   "source": [
    "nlp(\"今天天气\")"
   ]
  }
 ],
 "metadata": {
  "kernelspec": {
   "display_name": "Python 3",
   "language": "python",
   "name": "python3"
  },
  "language_info": {
   "codemirror_mode": {
    "name": "ipython",
    "version": 3
   },
   "file_extension": ".py",
   "mimetype": "text/x-python",
   "name": "python",
   "nbconvert_exporter": "python",
   "pygments_lexer": "ipython3",
   "version": "3.8.3"
  }
 },
 "nbformat": 4,
 "nbformat_minor": 4
}
