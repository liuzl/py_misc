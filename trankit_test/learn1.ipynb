{
 "cells": [
  {
   "cell_type": "code",
   "execution_count": 1,
   "metadata": {},
   "outputs": [
    {
     "data": {
      "application/vnd.jupyter.widget-view+json": {
       "model_id": "2649f323edf8481faf0e50c0f942dd7c",
       "version_major": 2,
       "version_minor": 0
      },
      "text/plain": [
       "HBox(children=(FloatProgress(value=0.0, description='Downloading', max=5069051.0, style=ProgressStyle(descript…"
      ]
     },
     "metadata": {},
     "output_type": "display_data"
    },
    {
     "name": "stdout",
     "output_type": "stream",
     "text": [
      "\n",
      "http://nlp.uoregon.edu/download/trankit/english.zip\n"
     ]
    },
    {
     "name": "stderr",
     "output_type": "stream",
     "text": [
      "Downloading: 100%|██████████| 47.9M/47.9M [00:33<00:00, 1.42MiB/s]\n"
     ]
    },
    {
     "name": "stdout",
     "output_type": "stream",
     "text": [
      "Loading pretrained XLM-Roberta, this may take a while...\n"
     ]
    },
    {
     "data": {
      "application/vnd.jupyter.widget-view+json": {
       "model_id": "b704359de38741d29195c9ab237a891b",
       "version_major": 2,
       "version_minor": 0
      },
      "text/plain": [
       "HBox(children=(FloatProgress(value=0.0, description='Downloading', max=512.0, style=ProgressStyle(description_…"
      ]
     },
     "metadata": {},
     "output_type": "display_data"
    },
    {
     "name": "stdout",
     "output_type": "stream",
     "text": [
      "\n"
     ]
    },
    {
     "data": {
      "application/vnd.jupyter.widget-view+json": {
       "model_id": "c2f4ccd7dc0f47249afab16f89c5add7",
       "version_major": 2,
       "version_minor": 0
      },
      "text/plain": [
       "HBox(children=(FloatProgress(value=0.0, description='Downloading', max=1115590446.0, style=ProgressStyle(descr…"
      ]
     },
     "metadata": {},
     "output_type": "display_data"
    },
    {
     "name": "stdout",
     "output_type": "stream",
     "text": [
      "\n",
      "Loading tokenizer for english\n",
      "Loading tagger for english\n",
      "Loading lemmatizer for english\n",
      "Loading NER tagger for english\n",
      "==================================================\n",
      "Active language: english\n",
      "==================================================\n"
     ]
    }
   ],
   "source": [
    "from trankit import Pipeline\n",
    "# initialize a pipeline for English\n",
    "p = Pipeline('english')"
   ]
  },
  {
   "cell_type": "code",
   "execution_count": 2,
   "metadata": {},
   "outputs": [
    {
     "name": "stdout",
     "output_type": "stream",
     "text": [
      "{'text': 'Hello! This is Trankit.', 'sentences': [{'id': 1, 'text': 'Hello!', 'dspan': (0, 6)}, {'id': 2, 'text': 'This is Trankit.', 'dspan': (7, 23)}]}\n"
     ]
    }
   ],
   "source": [
    "# a non-empty string to process, which can be a document or a paragraph with multiple sentences\n",
    "doc_text = '''Hello! This is Trankit.'''\n",
    "\n",
    "sentences = p.ssplit(doc_text)\n",
    "\n",
    "print(sentences)"
   ]
  },
  {
   "cell_type": "code",
   "execution_count": 3,
   "metadata": {},
   "outputs": [
    {
     "name": "stdout",
     "output_type": "stream",
     "text": [
      "{'text': 'Hello! This is Trankit.', 'sentences': [{'id': 1, 'text': 'Hello!', 'tokens': [{'id': 1, 'text': 'Hello', 'dspan': (0, 5), 'span': (0, 5)}, {'id': 2, 'text': '!', 'dspan': (5, 6), 'span': (5, 6)}], 'dspan': (0, 6)}, {'id': 2, 'text': 'This is Trankit.', 'tokens': [{'id': 1, 'text': 'This', 'dspan': (7, 11), 'span': (0, 4)}, {'id': 2, 'text': 'is', 'dspan': (12, 14), 'span': (5, 7)}, {'id': 3, 'text': 'Trankit', 'dspan': (15, 22), 'span': (8, 15)}, {'id': 4, 'text': '.', 'dspan': (22, 23), 'span': (15, 16)}], 'dspan': (7, 23)}]}\n"
     ]
    }
   ],
   "source": [
    "tokenized_doc = p.tokenize(doc_text)\n",
    "\n",
    "print(tokenized_doc)"
   ]
  },
  {
   "cell_type": "code",
   "execution_count": null,
   "metadata": {},
   "outputs": [],
   "source": []
  }
 ],
 "metadata": {
  "kernelspec": {
   "display_name": "Python 3",
   "language": "python",
   "name": "python3"
  },
  "language_info": {
   "codemirror_mode": {
    "name": "ipython",
    "version": 3
   },
   "file_extension": ".py",
   "mimetype": "text/x-python",
   "name": "python",
   "nbconvert_exporter": "python",
   "pygments_lexer": "ipython3",
   "version": "3.7.6"
  }
 },
 "nbformat": 4,
 "nbformat_minor": 4
}
