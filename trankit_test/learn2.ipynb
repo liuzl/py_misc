{
 "cells": [
  {
   "cell_type": "code",
   "execution_count": 1,
   "metadata": {},
   "outputs": [],
   "source": [
    "from trankit import Pipeline"
   ]
  },
  {
   "cell_type": "code",
   "execution_count": 2,
   "metadata": {},
   "outputs": [
    {
     "name": "stdout",
     "output_type": "stream",
     "text": [
      "Loading pretrained XLM-Roberta, this may take a while...\n"
     ]
    },
    {
     "data": {
      "application/vnd.jupyter.widget-view+json": {
       "model_id": "890685052f17444eb867bdc195d2835e",
       "version_major": 2,
       "version_minor": 0
      },
      "text/plain": [
       "Downloading:   0%|          | 0.00/1.12G [00:00<?, ?B/s]"
      ]
     },
     "metadata": {},
     "output_type": "display_data"
    },
    {
     "name": "stdout",
     "output_type": "stream",
     "text": [
      "Loading tokenizer for afrikaans\n",
      "Loading tagger for afrikaans\n",
      "Loading lemmatizer for afrikaans\n",
      "http://nlp.uoregon.edu/download/trankit/v1.0.0/xlm-roberta-base/arabic.zip\n"
     ]
    },
    {
     "name": "stderr",
     "output_type": "stream",
     "text": [
      "Downloading: 100%|██████████| 38.6M/38.6M [01:11<00:00, 543kiB/s] \n"
     ]
    },
    {
     "name": "stdout",
     "output_type": "stream",
     "text": [
      "Loading tokenizer for arabic\n",
      "Loading tagger for arabic\n",
      "Loading multi-word expander for arabic\n",
      "Loading lemmatizer for arabic\n",
      "Loading NER tagger for arabic\n",
      "http://nlp.uoregon.edu/download/trankit/v1.0.0/xlm-roberta-base/armenian.zip\n"
     ]
    },
    {
     "name": "stderr",
     "output_type": "stream",
     "text": [
      "Downloading: 100%|██████████| 30.8M/30.8M [00:27<00:00, 1.12MiB/s]\n"
     ]
    },
    {
     "name": "stdout",
     "output_type": "stream",
     "text": [
      "Loading tokenizer for armenian\n",
      "Loading tagger for armenian\n",
      "Loading multi-word expander for armenian\n",
      "Loading lemmatizer for armenian\n",
      "http://nlp.uoregon.edu/download/trankit/v1.0.0/xlm-roberta-base/basque.zip\n"
     ]
    },
    {
     "name": "stderr",
     "output_type": "stream",
     "text": [
      "Downloading: 100%|██████████| 27.0M/27.0M [00:22<00:00, 1.23MiB/s]\n"
     ]
    },
    {
     "name": "stdout",
     "output_type": "stream",
     "text": [
      "Loading tokenizer for basque\n",
      "Loading tagger for basque\n",
      "Loading lemmatizer for basque\n",
      "http://nlp.uoregon.edu/download/trankit/v1.0.0/xlm-roberta-base/belarusian.zip\n"
     ]
    },
    {
     "name": "stderr",
     "output_type": "stream",
     "text": [
      "Downloading: 100%|██████████| 27.5M/27.5M [00:25<00:00, 1.06MiB/s]\n"
     ]
    },
    {
     "name": "stdout",
     "output_type": "stream",
     "text": [
      "Loading tokenizer for belarusian\n",
      "Loading tagger for belarusian\n",
      "Loading lemmatizer for belarusian\n",
      "http://nlp.uoregon.edu/download/trankit/v1.0.0/xlm-roberta-base/bulgarian.zip\n"
     ]
    },
    {
     "name": "stderr",
     "output_type": "stream",
     "text": [
      "Downloading: 100%|██████████| 29.0M/29.0M [00:27<00:00, 1.07MiB/s]\n"
     ]
    },
    {
     "name": "stdout",
     "output_type": "stream",
     "text": [
      "Loading tokenizer for bulgarian\n",
      "Loading tagger for bulgarian\n",
      "Loading lemmatizer for bulgarian\n",
      "http://nlp.uoregon.edu/download/trankit/v1.0.0/xlm-roberta-base/catalan.zip\n"
     ]
    },
    {
     "name": "stderr",
     "output_type": "stream",
     "text": [
      "Downloading: 100%|██████████| 27.2M/27.2M [00:22<00:00, 1.22MiB/s]\n"
     ]
    },
    {
     "name": "stdout",
     "output_type": "stream",
     "text": [
      "Loading tokenizer for catalan\n",
      "Loading tagger for catalan\n",
      "Loading multi-word expander for catalan\n",
      "Loading lemmatizer for catalan\n",
      "http://nlp.uoregon.edu/download/trankit/v1.0.0/xlm-roberta-base/chinese.zip\n"
     ]
    },
    {
     "name": "stderr",
     "output_type": "stream",
     "text": [
      "Downloading: 100%|██████████| 40.4M/40.4M [00:41<00:00, 980kiB/s] \n"
     ]
    },
    {
     "name": "stdout",
     "output_type": "stream",
     "text": [
      "Loading tokenizer for chinese\n",
      "Loading tagger for chinese\n",
      "Loading lemmatizer for chinese\n",
      "Loading NER tagger for chinese\n",
      "http://nlp.uoregon.edu/download/trankit/v1.0.0/xlm-roberta-base/croatian.zip\n"
     ]
    },
    {
     "name": "stderr",
     "output_type": "stream",
     "text": [
      "Downloading: 100%|██████████| 31.1M/31.1M [00:26<00:00, 1.16MiB/s]\n"
     ]
    },
    {
     "name": "stdout",
     "output_type": "stream",
     "text": [
      "Loading tokenizer for croatian\n",
      "Loading tagger for croatian\n",
      "Loading lemmatizer for croatian\n",
      "http://nlp.uoregon.edu/download/trankit/v1.0.0/xlm-roberta-base/czech.zip\n"
     ]
    },
    {
     "name": "stderr",
     "output_type": "stream",
     "text": [
      "Downloading: 100%|██████████| 41.6M/41.6M [00:35<00:00, 1.17MiB/s]\n"
     ]
    },
    {
     "name": "stdout",
     "output_type": "stream",
     "text": [
      "Loading tokenizer for czech\n",
      "Loading tagger for czech\n",
      "Loading multi-word expander for czech\n",
      "Loading lemmatizer for czech\n",
      "http://nlp.uoregon.edu/download/trankit/v1.0.0/xlm-roberta-base/danish.zip\n"
     ]
    },
    {
     "name": "stderr",
     "output_type": "stream",
     "text": [
      "Downloading: 100%|██████████| 26.5M/26.5M [00:22<00:00, 1.17MiB/s]\n"
     ]
    },
    {
     "name": "stdout",
     "output_type": "stream",
     "text": [
      "Loading tokenizer for danish\n",
      "Loading tagger for danish\n",
      "Loading lemmatizer for danish\n",
      "http://nlp.uoregon.edu/download/trankit/v1.0.0/xlm-roberta-base/dutch.zip\n"
     ]
    },
    {
     "name": "stderr",
     "output_type": "stream",
     "text": [
      "Downloading: 100%|██████████| 46.3M/46.3M [00:41<00:00, 1.12MiB/s]\n"
     ]
    },
    {
     "name": "stdout",
     "output_type": "stream",
     "text": [
      "Loading tokenizer for dutch\n",
      "Loading tagger for dutch\n",
      "Loading lemmatizer for dutch\n",
      "Loading NER tagger for dutch\n",
      "http://nlp.uoregon.edu/download/trankit/v1.0.0/xlm-roberta-base/english.zip\n"
     ]
    },
    {
     "name": "stderr",
     "output_type": "stream",
     "text": [
      "Downloading: 100%|██████████| 47.9M/47.9M [00:38<00:00, 1.23MiB/s]\n"
     ]
    },
    {
     "name": "stdout",
     "output_type": "stream",
     "text": [
      "Loading tokenizer for english\n",
      "Loading tagger for english\n",
      "Loading lemmatizer for english\n",
      "Loading NER tagger for english\n",
      "http://nlp.uoregon.edu/download/trankit/v1.0.0/xlm-roberta-base/estonian.zip\n"
     ]
    },
    {
     "name": "stderr",
     "output_type": "stream",
     "text": [
      "Downloading: 100%|██████████| 29.9M/29.9M [00:27<00:00, 1.09MiB/s]\n"
     ]
    },
    {
     "name": "stdout",
     "output_type": "stream",
     "text": [
      "Loading tokenizer for estonian\n",
      "Loading tagger for estonian\n",
      "Loading lemmatizer for estonian\n",
      "http://nlp.uoregon.edu/download/trankit/v1.0.0/xlm-roberta-base/finnish.zip\n"
     ]
    },
    {
     "name": "stderr",
     "output_type": "stream",
     "text": [
      "Downloading: 100%|██████████| 33.9M/33.9M [00:54<00:00, 618kiB/s] \n"
     ]
    },
    {
     "name": "stdout",
     "output_type": "stream",
     "text": [
      "Loading tokenizer for finnish\n",
      "Loading tagger for finnish\n",
      "Loading multi-word expander for finnish\n",
      "Loading lemmatizer for finnish\n",
      "http://nlp.uoregon.edu/download/trankit/v1.0.0/xlm-roberta-base/french.zip\n"
     ]
    },
    {
     "name": "stderr",
     "output_type": "stream",
     "text": [
      "Downloading: 100%|██████████| 39.6M/39.6M [00:36<00:00, 1.08MiB/s]\n"
     ]
    },
    {
     "name": "stdout",
     "output_type": "stream",
     "text": [
      "Loading tokenizer for french\n",
      "Loading tagger for french\n",
      "Loading multi-word expander for french\n",
      "Loading lemmatizer for french\n",
      "Loading NER tagger for french\n",
      "http://nlp.uoregon.edu/download/trankit/v1.0.0/xlm-roberta-base/galician.zip\n"
     ]
    },
    {
     "name": "stderr",
     "output_type": "stream",
     "text": [
      "Downloading: 100%|██████████| 25.4M/25.4M [00:22<00:00, 1.11MiB/s]\n"
     ]
    },
    {
     "name": "stdout",
     "output_type": "stream",
     "text": [
      "Loading tokenizer for galician\n",
      "Loading tagger for galician\n",
      "Loading multi-word expander for galician\n",
      "Loading lemmatizer for galician\n",
      "http://nlp.uoregon.edu/download/trankit/v1.0.0/xlm-roberta-base/german.zip\n"
     ]
    },
    {
     "name": "stderr",
     "output_type": "stream",
     "text": [
      "Downloading: 100%|██████████| 49.0M/49.0M [00:42<00:00, 1.14MiB/s]\n"
     ]
    },
    {
     "name": "stdout",
     "output_type": "stream",
     "text": [
      "Loading tokenizer for german\n",
      "Loading tagger for german\n",
      "Loading multi-word expander for german\n",
      "Loading lemmatizer for german\n",
      "Loading NER tagger for german\n",
      "http://nlp.uoregon.edu/download/trankit/v1.0.0/xlm-roberta-base/greek.zip\n"
     ]
    },
    {
     "name": "stderr",
     "output_type": "stream",
     "text": [
      "Downloading: 100%|██████████| 27.6M/27.6M [00:25<00:00, 1.10MiB/s]\n"
     ]
    },
    {
     "name": "stdout",
     "output_type": "stream",
     "text": [
      "Loading tokenizer for greek\n",
      "Loading tagger for greek\n",
      "Loading multi-word expander for greek\n",
      "Loading lemmatizer for greek\n",
      "http://nlp.uoregon.edu/download/trankit/v1.0.0/xlm-roberta-base/hebrew.zip\n"
     ]
    },
    {
     "name": "stderr",
     "output_type": "stream",
     "text": [
      "Downloading: 100%|██████████| 28.5M/28.5M [00:25<00:00, 1.12MiB/s]\n"
     ]
    },
    {
     "name": "stdout",
     "output_type": "stream",
     "text": [
      "Loading tokenizer for hebrew\n",
      "Loading tagger for hebrew\n",
      "Loading multi-word expander for hebrew\n",
      "Loading lemmatizer for hebrew\n",
      "http://nlp.uoregon.edu/download/trankit/v1.0.0/xlm-roberta-base/hindi.zip\n"
     ]
    },
    {
     "name": "stderr",
     "output_type": "stream",
     "text": [
      "Downloading: 100%|██████████| 27.1M/27.1M [00:22<00:00, 1.18MiB/s]\n"
     ]
    },
    {
     "name": "stdout",
     "output_type": "stream",
     "text": [
      "Loading tokenizer for hindi\n",
      "Loading tagger for hindi\n",
      "Loading lemmatizer for hindi\n",
      "http://nlp.uoregon.edu/download/trankit/v1.0.0/xlm-roberta-base/hungarian.zip\n"
     ]
    },
    {
     "name": "stderr",
     "output_type": "stream",
     "text": [
      "Downloading: 100%|██████████| 29.9M/29.9M [00:23<00:00, 1.29MiB/s]\n"
     ]
    },
    {
     "name": "stdout",
     "output_type": "stream",
     "text": [
      "Loading tokenizer for hungarian\n",
      "Loading tagger for hungarian\n",
      "Loading lemmatizer for hungarian\n",
      "http://nlp.uoregon.edu/download/trankit/v1.0.0/xlm-roberta-base/indonesian.zip\n"
     ]
    },
    {
     "name": "stderr",
     "output_type": "stream",
     "text": [
      "Downloading: 100%|██████████| 26.2M/26.2M [00:19<00:00, 1.36MiB/s]\n"
     ]
    },
    {
     "name": "stdout",
     "output_type": "stream",
     "text": [
      "Loading tokenizer for indonesian\n",
      "Loading tagger for indonesian\n",
      "Loading lemmatizer for indonesian\n",
      "http://nlp.uoregon.edu/download/trankit/v1.0.0/xlm-roberta-base/irish.zip\n"
     ]
    },
    {
     "name": "stderr",
     "output_type": "stream",
     "text": [
      "Downloading: 100%|██████████| 27.4M/27.4M [00:22<00:00, 1.23MiB/s]\n"
     ]
    },
    {
     "name": "stdout",
     "output_type": "stream",
     "text": [
      "Loading tokenizer for irish\n",
      "Loading tagger for irish\n",
      "Loading lemmatizer for irish\n",
      "http://nlp.uoregon.edu/download/trankit/v1.0.0/xlm-roberta-base/italian.zip\n"
     ]
    },
    {
     "name": "stderr",
     "output_type": "stream",
     "text": [
      "Downloading: 100%|██████████| 28.7M/28.7M [00:21<00:00, 1.31MiB/s]\n"
     ]
    },
    {
     "name": "stdout",
     "output_type": "stream",
     "text": [
      "Loading tokenizer for italian\n",
      "Loading tagger for italian\n",
      "Loading multi-word expander for italian\n",
      "Loading lemmatizer for italian\n",
      "http://nlp.uoregon.edu/download/trankit/v1.0.0/xlm-roberta-base/japanese.zip\n"
     ]
    },
    {
     "name": "stderr",
     "output_type": "stream",
     "text": [
      "Downloading: 100%|██████████| 27.5M/27.5M [00:19<00:00, 1.43MiB/s]\n"
     ]
    },
    {
     "name": "stdout",
     "output_type": "stream",
     "text": [
      "Loading tokenizer for japanese\n",
      "Loading tagger for japanese\n",
      "Loading lemmatizer for japanese\n",
      "http://nlp.uoregon.edu/download/trankit/v1.0.0/xlm-roberta-base/kazakh.zip\n"
     ]
    },
    {
     "name": "stderr",
     "output_type": "stream",
     "text": [
      "Downloading: 100%|██████████| 25.5M/25.5M [00:20<00:00, 1.24MiB/s]\n"
     ]
    },
    {
     "name": "stdout",
     "output_type": "stream",
     "text": [
      "Loading tokenizer for kazakh\n",
      "Loading tagger for kazakh\n",
      "Loading multi-word expander for kazakh\n",
      "Loading lemmatizer for kazakh\n",
      "http://nlp.uoregon.edu/download/trankit/v1.0.0/xlm-roberta-base/korean.zip\n"
     ]
    },
    {
     "name": "stderr",
     "output_type": "stream",
     "text": [
      "Downloading: 100%|██████████| 30.2M/30.2M [00:24<00:00, 1.22MiB/s]\n"
     ]
    },
    {
     "name": "stdout",
     "output_type": "stream",
     "text": [
      "Loading tokenizer for korean\n",
      "Loading tagger for korean\n",
      "Loading lemmatizer for korean\n",
      "http://nlp.uoregon.edu/download/trankit/v1.0.0/xlm-roberta-base/kurmanji.zip\n"
     ]
    },
    {
     "name": "stderr",
     "output_type": "stream",
     "text": [
      "Downloading: 100%|██████████| 24.3M/24.3M [00:20<00:00, 1.16MiB/s]\n"
     ]
    },
    {
     "name": "stdout",
     "output_type": "stream",
     "text": [
      "Loading tokenizer for kurmanji\n",
      "Loading tagger for kurmanji\n",
      "Loading lemmatizer for kurmanji\n",
      "http://nlp.uoregon.edu/download/trankit/v1.0.0/xlm-roberta-base/latin.zip\n"
     ]
    },
    {
     "name": "stderr",
     "output_type": "stream",
     "text": [
      "Downloading: 100%|██████████| 34.6M/34.6M [00:27<00:00, 1.24MiB/s]\n"
     ]
    },
    {
     "name": "stdout",
     "output_type": "stream",
     "text": [
      "Loading tokenizer for latin\n",
      "Loading tagger for latin\n",
      "Loading lemmatizer for latin\n",
      "http://nlp.uoregon.edu/download/trankit/v1.0.0/xlm-roberta-base/latvian.zip\n"
     ]
    },
    {
     "name": "stderr",
     "output_type": "stream",
     "text": [
      "Downloading: 100%|██████████| 35.0M/35.0M [00:31<00:00, 1.10MiB/s]\n"
     ]
    },
    {
     "name": "stdout",
     "output_type": "stream",
     "text": [
      "Loading tokenizer for latvian\n",
      "Loading tagger for latvian\n",
      "Loading lemmatizer for latvian\n",
      "http://nlp.uoregon.edu/download/trankit/v1.0.0/xlm-roberta-base/lithuanian.zip\n"
     ]
    },
    {
     "name": "stderr",
     "output_type": "stream",
     "text": [
      "Downloading: 100%|██████████| 30.5M/30.5M [00:27<00:00, 1.10MiB/s]\n"
     ]
    },
    {
     "name": "stdout",
     "output_type": "stream",
     "text": [
      "Loading tokenizer for lithuanian\n",
      "Loading tagger for lithuanian\n",
      "Loading lemmatizer for lithuanian\n",
      "http://nlp.uoregon.edu/download/trankit/v1.0.0/xlm-roberta-base/marathi.zip\n"
     ]
    },
    {
     "name": "stderr",
     "output_type": "stream",
     "text": [
      "Downloading: 100%|██████████| 27.5M/27.5M [00:18<00:00, 1.51MiB/s]\n"
     ]
    },
    {
     "name": "stdout",
     "output_type": "stream",
     "text": [
      "Loading tokenizer for marathi\n",
      "Loading tagger for marathi\n",
      "Loading multi-word expander for marathi\n",
      "Loading lemmatizer for marathi\n",
      "http://nlp.uoregon.edu/download/trankit/v1.0.0/xlm-roberta-base/norwegian-nynorsk.zip\n"
     ]
    },
    {
     "name": "stderr",
     "output_type": "stream",
     "text": [
      "Downloading: 100%|██████████| 27.0M/27.0M [00:20<00:00, 1.33MiB/s]\n"
     ]
    },
    {
     "name": "stdout",
     "output_type": "stream",
     "text": [
      "Loading tokenizer for norwegian-nynorsk\n",
      "Loading tagger for norwegian-nynorsk\n",
      "Loading lemmatizer for norwegian-nynorsk\n",
      "http://nlp.uoregon.edu/download/trankit/v1.0.0/xlm-roberta-base/norwegian-bokmaal.zip\n"
     ]
    },
    {
     "name": "stderr",
     "output_type": "stream",
     "text": [
      "Downloading: 100%|██████████| 27.1M/27.1M [00:25<00:00, 1.08MiB/s]\n"
     ]
    },
    {
     "name": "stdout",
     "output_type": "stream",
     "text": [
      "Loading tokenizer for norwegian-bokmaal\n",
      "Loading tagger for norwegian-bokmaal\n",
      "Loading lemmatizer for norwegian-bokmaal\n",
      "http://nlp.uoregon.edu/download/trankit/v1.0.0/xlm-roberta-base/persian.zip\n"
     ]
    },
    {
     "name": "stderr",
     "output_type": "stream",
     "text": [
      "Downloading: 100%|██████████| 27.2M/27.2M [00:23<00:00, 1.16MiB/s]\n"
     ]
    },
    {
     "name": "stdout",
     "output_type": "stream",
     "text": [
      "Loading tokenizer for persian\n",
      "Loading tagger for persian\n",
      "Loading multi-word expander for persian\n",
      "Loading lemmatizer for persian\n",
      "http://nlp.uoregon.edu/download/trankit/v1.0.0/xlm-roberta-base/polish.zip\n"
     ]
    },
    {
     "name": "stderr",
     "output_type": "stream",
     "text": [
      "Downloading: 100%|██████████| 38.5M/38.5M [00:45<00:00, 851kiB/s] \n"
     ]
    },
    {
     "name": "stdout",
     "output_type": "stream",
     "text": [
      "Loading tokenizer for polish\n",
      "Loading tagger for polish\n",
      "Loading multi-word expander for polish\n",
      "Loading lemmatizer for polish\n",
      "http://nlp.uoregon.edu/download/trankit/v1.0.0/xlm-roberta-base/portuguese.zip\n"
     ]
    },
    {
     "name": "stderr",
     "output_type": "stream",
     "text": [
      "Downloading: 100%|██████████| 28.2M/28.2M [00:26<00:00, 1.07MiB/s]\n"
     ]
    },
    {
     "name": "stdout",
     "output_type": "stream",
     "text": [
      "Loading tokenizer for portuguese\n",
      "Loading tagger for portuguese\n",
      "Loading multi-word expander for portuguese\n",
      "Loading lemmatizer for portuguese\n",
      "http://nlp.uoregon.edu/download/trankit/v1.0.0/xlm-roberta-base/romanian.zip\n"
     ]
    },
    {
     "name": "stderr",
     "output_type": "stream",
     "text": [
      "Downloading: 100%|██████████| 30.8M/30.8M [00:30<00:00, 1.02MiB/s]\n"
     ]
    },
    {
     "name": "stdout",
     "output_type": "stream",
     "text": [
      "Loading tokenizer for romanian\n",
      "Loading tagger for romanian\n",
      "Loading lemmatizer for romanian\n",
      "http://nlp.uoregon.edu/download/trankit/v1.0.0/xlm-roberta-base/russian.zip\n"
     ]
    },
    {
     "name": "stderr",
     "output_type": "stream",
     "text": [
      "Downloading: 100%|██████████| 40.3M/40.3M [01:25<00:00, 469kiB/s] \n"
     ]
    },
    {
     "name": "stdout",
     "output_type": "stream",
     "text": [
      "Loading tokenizer for russian\n",
      "Loading tagger for russian\n",
      "Loading lemmatizer for russian\n",
      "Loading NER tagger for russian\n",
      "http://nlp.uoregon.edu/download/trankit/v1.0.0/xlm-roberta-base/serbian.zip\n"
     ]
    },
    {
     "name": "stderr",
     "output_type": "stream",
     "text": [
      "Downloading: 100%|██████████| 29.4M/29.4M [00:41<00:00, 703kiB/s] \n"
     ]
    },
    {
     "name": "stdout",
     "output_type": "stream",
     "text": [
      "Loading tokenizer for serbian\n",
      "Loading tagger for serbian\n",
      "Loading lemmatizer for serbian\n",
      "http://nlp.uoregon.edu/download/trankit/v1.0.0/xlm-roberta-base/slovak.zip\n"
     ]
    },
    {
     "name": "stderr",
     "output_type": "stream",
     "text": [
      "Downloading: 100%|██████████| 32.9M/32.9M [00:37<00:00, 873kiB/s] \n"
     ]
    },
    {
     "name": "stdout",
     "output_type": "stream",
     "text": [
      "Loading tokenizer for slovak\n",
      "Loading tagger for slovak\n",
      "Loading lemmatizer for slovak\n",
      "http://nlp.uoregon.edu/download/trankit/v1.0.0/xlm-roberta-base/slovenian.zip\n"
     ]
    },
    {
     "name": "stderr",
     "output_type": "stream",
     "text": [
      "Downloading: 100%|██████████| 32.0M/32.0M [00:33<00:00, 957kiB/s] \n"
     ]
    },
    {
     "name": "stdout",
     "output_type": "stream",
     "text": [
      "Loading tokenizer for slovenian\n",
      "Loading tagger for slovenian\n",
      "Loading lemmatizer for slovenian\n",
      "http://nlp.uoregon.edu/download/trankit/v1.0.0/xlm-roberta-base/spanish.zip\n"
     ]
    },
    {
     "name": "stderr",
     "output_type": "stream",
     "text": [
      "Downloading: 100%|██████████| 37.3M/37.3M [00:34<00:00, 1.09MiB/s]\n"
     ]
    },
    {
     "name": "stdout",
     "output_type": "stream",
     "text": [
      "Loading tokenizer for spanish\n",
      "Loading tagger for spanish\n",
      "Loading multi-word expander for spanish\n",
      "Loading lemmatizer for spanish\n",
      "Loading NER tagger for spanish\n",
      "http://nlp.uoregon.edu/download/trankit/v1.0.0/xlm-roberta-base/swedish.zip\n"
     ]
    },
    {
     "name": "stderr",
     "output_type": "stream",
     "text": [
      "Downloading: 100%|██████████| 27.5M/27.5M [00:22<00:00, 1.20MiB/s]\n"
     ]
    },
    {
     "name": "stdout",
     "output_type": "stream",
     "text": [
      "Loading tokenizer for swedish\n",
      "Loading tagger for swedish\n",
      "Loading lemmatizer for swedish\n",
      "http://nlp.uoregon.edu/download/trankit/v1.0.0/xlm-roberta-base/tamil.zip\n"
     ]
    },
    {
     "name": "stderr",
     "output_type": "stream",
     "text": [
      "Downloading: 100%|██████████| 26.4M/26.4M [00:22<00:00, 1.18MiB/s]\n"
     ]
    },
    {
     "name": "stdout",
     "output_type": "stream",
     "text": [
      "Loading tokenizer for tamil\n",
      "Loading tagger for tamil\n",
      "Loading multi-word expander for tamil\n",
      "Loading lemmatizer for tamil\n",
      "http://nlp.uoregon.edu/download/trankit/v1.0.0/xlm-roberta-base/telugu.zip\n"
     ]
    },
    {
     "name": "stderr",
     "output_type": "stream",
     "text": [
      "Downloading: 100%|██████████| 26.3M/26.3M [00:21<00:00, 1.21MiB/s]\n"
     ]
    },
    {
     "name": "stdout",
     "output_type": "stream",
     "text": [
      "Loading tokenizer for telugu\n",
      "Loading tagger for telugu\n",
      "Loading lemmatizer for telugu\n",
      "http://nlp.uoregon.edu/download/trankit/v1.0.0/xlm-roberta-base/turkish.zip\n"
     ]
    },
    {
     "name": "stderr",
     "output_type": "stream",
     "text": [
      "Downloading: 100%|██████████| 28.7M/28.7M [00:24<00:00, 1.17MiB/s]\n"
     ]
    },
    {
     "name": "stdout",
     "output_type": "stream",
     "text": [
      "Loading tokenizer for turkish\n",
      "Loading tagger for turkish\n",
      "Loading multi-word expander for turkish\n",
      "Loading lemmatizer for turkish\n",
      "http://nlp.uoregon.edu/download/trankit/v1.0.0/xlm-roberta-base/ukrainian.zip\n"
     ]
    },
    {
     "name": "stderr",
     "output_type": "stream",
     "text": [
      "Downloading: 100%|██████████| 35.6M/35.6M [00:32<00:00, 1.08MiB/s]\n"
     ]
    },
    {
     "name": "stdout",
     "output_type": "stream",
     "text": [
      "Loading tokenizer for ukrainian\n",
      "Loading tagger for ukrainian\n",
      "Loading multi-word expander for ukrainian\n",
      "Loading lemmatizer for ukrainian\n",
      "http://nlp.uoregon.edu/download/trankit/v1.0.0/xlm-roberta-base/urdu.zip\n"
     ]
    },
    {
     "name": "stderr",
     "output_type": "stream",
     "text": [
      "Downloading: 100%|██████████| 26.7M/26.7M [00:24<00:00, 1.07MiB/s]\n"
     ]
    },
    {
     "name": "stdout",
     "output_type": "stream",
     "text": [
      "Loading tokenizer for urdu\n",
      "Loading tagger for urdu\n",
      "Loading lemmatizer for urdu\n",
      "http://nlp.uoregon.edu/download/trankit/v1.0.0/xlm-roberta-base/uyghur.zip\n"
     ]
    },
    {
     "name": "stderr",
     "output_type": "stream",
     "text": [
      "Downloading: 100%|██████████| 26.8M/26.8M [00:21<00:00, 1.26MiB/s]\n"
     ]
    },
    {
     "name": "stdout",
     "output_type": "stream",
     "text": [
      "Loading tokenizer for uyghur\n",
      "Loading tagger for uyghur\n",
      "Loading lemmatizer for uyghur\n",
      "http://nlp.uoregon.edu/download/trankit/v1.0.0/xlm-roberta-base/vietnamese.zip\n"
     ]
    },
    {
     "name": "stderr",
     "output_type": "stream",
     "text": [
      "Downloading: 100%|██████████| 32.8M/32.8M [00:29<00:00, 1.13MiB/s]\n"
     ]
    },
    {
     "name": "stdout",
     "output_type": "stream",
     "text": [
      "Loading tokenizer for vietnamese\n",
      "Loading tagger for vietnamese\n",
      "Loading lemmatizer for vietnamese\n",
      "Loading NER tagger for vietnamese\n",
      "==================================================\n",
      "Trankit is in auto mode!\n",
      "Available languages: ['afrikaans', 'arabic', 'armenian', 'basque', 'belarusian', 'bulgarian', 'catalan', 'chinese', 'croatian', 'czech', 'danish', 'dutch', 'english', 'estonian', 'finnish', 'french', 'galician', 'german', 'greek', 'hebrew', 'hindi', 'hungarian', 'indonesian', 'irish', 'italian', 'japanese', 'kazakh', 'korean', 'kurmanji', 'latin', 'latvian', 'lithuanian', 'marathi', 'norwegian-nynorsk', 'norwegian-bokmaal', 'persian', 'polish', 'portuguese', 'romanian', 'russian', 'serbian', 'slovak', 'slovenian', 'spanish', 'swedish', 'tamil', 'telugu', 'turkish', 'ukrainian', 'urdu', 'uyghur', 'vietnamese']\n",
      "==================================================\n"
     ]
    }
   ],
   "source": [
    "p = Pipeline('auto')"
   ]
  },
  {
   "cell_type": "code",
   "execution_count": 3,
   "metadata": {},
   "outputs": [],
   "source": [
    "en_output = p.tokenize('''I figured I would put it out there anyways.''') "
   ]
  },
  {
   "cell_type": "code",
   "execution_count": 4,
   "metadata": {},
   "outputs": [
    {
     "data": {
      "text/plain": [
       "{'text': 'I figured I would put it out there anyways.',\n",
       " 'sentences': [{'id': 1,\n",
       "   'text': 'I figured I would put it out there anyways.',\n",
       "   'tokens': [{'id': 1, 'text': 'I', 'dspan': (0, 1), 'span': (0, 1)},\n",
       "    {'id': 2, 'text': 'figured', 'dspan': (2, 9), 'span': (2, 9)},\n",
       "    {'id': 3, 'text': 'I', 'dspan': (10, 11), 'span': (10, 11)},\n",
       "    {'id': 4, 'text': 'would', 'dspan': (12, 17), 'span': (12, 17)},\n",
       "    {'id': 5, 'text': 'put', 'dspan': (18, 21), 'span': (18, 21)},\n",
       "    {'id': 6, 'text': 'it', 'dspan': (22, 24), 'span': (22, 24)},\n",
       "    {'id': 7, 'text': 'out', 'dspan': (25, 28), 'span': (25, 28)},\n",
       "    {'id': 8, 'text': 'there', 'dspan': (29, 34), 'span': (29, 34)},\n",
       "    {'id': 9, 'text': 'anyways', 'dspan': (35, 42), 'span': (35, 42)},\n",
       "    {'id': 10, 'text': '.', 'dspan': (42, 43), 'span': (42, 43)}],\n",
       "   'dspan': (0, 43)}],\n",
       " 'lang': 'english'}"
      ]
     },
     "execution_count": 4,
     "metadata": {},
     "output_type": "execute_result"
    }
   ],
   "source": [
    "en_output"
   ]
  },
  {
   "cell_type": "code",
   "execution_count": 5,
   "metadata": {},
   "outputs": [
    {
     "data": {
      "text/plain": [
       "{'text': '今年4月29日，我国在海南文昌用长征五号B遥二运载火箭成功将空间站天和核心舱送入预定轨道，中国空间站在轨组装建造全面展开。5月29日晚，我国在海南文昌航天发射场准时点火发射天舟二号货运飞船。这是空间站货物运输系统的第一次应用性飞行。',\n",
       " 'sentences': [{'id': 1,\n",
       "   'text': '今年4月29日，我国在海南文昌用长征五号B遥二运载火箭成功将空间站天和核心舱送入预定轨道，中国空间站在轨组装建造全面展开。',\n",
       "   'tokens': [{'id': 1, 'text': '今年', 'dspan': (0, 2), 'span': (0, 2)},\n",
       "    {'id': 2, 'text': '4', 'dspan': (2, 3), 'span': (2, 3)},\n",
       "    {'id': 3, 'text': '月', 'dspan': (3, 4), 'span': (3, 4)},\n",
       "    {'id': 4, 'text': '29', 'dspan': (4, 6), 'span': (4, 6)},\n",
       "    {'id': 5, 'text': '日', 'dspan': (6, 7), 'span': (6, 7)},\n",
       "    {'id': 6, 'text': '，', 'dspan': (7, 8), 'span': (7, 8)},\n",
       "    {'id': 7, 'text': '我国', 'dspan': (8, 10), 'span': (8, 10)},\n",
       "    {'id': 8, 'text': '在', 'dspan': (10, 11), 'span': (10, 11)},\n",
       "    {'id': 9, 'text': '海南', 'dspan': (11, 13), 'span': (11, 13)},\n",
       "    {'id': 10, 'text': '文昌', 'dspan': (13, 15), 'span': (13, 15)},\n",
       "    {'id': 11, 'text': '用', 'dspan': (15, 16), 'span': (15, 16)},\n",
       "    {'id': 12, 'text': '长征', 'dspan': (16, 18), 'span': (16, 18)},\n",
       "    {'id': 13, 'text': '五', 'dspan': (18, 19), 'span': (18, 19)},\n",
       "    {'id': 14, 'text': '号', 'dspan': (19, 20), 'span': (19, 20)},\n",
       "    {'id': 15, 'text': 'B', 'dspan': (20, 21), 'span': (20, 21)},\n",
       "    {'id': 16, 'text': '遥二', 'dspan': (21, 23), 'span': (21, 23)},\n",
       "    {'id': 17, 'text': '运载', 'dspan': (23, 25), 'span': (23, 25)},\n",
       "    {'id': 18, 'text': '火箭', 'dspan': (25, 27), 'span': (25, 27)},\n",
       "    {'id': 19, 'text': '成功', 'dspan': (27, 29), 'span': (27, 29)},\n",
       "    {'id': 20, 'text': '将', 'dspan': (29, 30), 'span': (29, 30)},\n",
       "    {'id': 21, 'text': '空间', 'dspan': (30, 32), 'span': (30, 32)},\n",
       "    {'id': 22, 'text': '站天', 'dspan': (32, 34), 'span': (32, 34)},\n",
       "    {'id': 23, 'text': '和', 'dspan': (34, 35), 'span': (34, 35)},\n",
       "    {'id': 24, 'text': '核心', 'dspan': (35, 37), 'span': (35, 37)},\n",
       "    {'id': 25, 'text': '舱', 'dspan': (37, 38), 'span': (37, 38)},\n",
       "    {'id': 26, 'text': '送入', 'dspan': (38, 40), 'span': (38, 40)},\n",
       "    {'id': 27, 'text': '预定', 'dspan': (40, 42), 'span': (40, 42)},\n",
       "    {'id': 28, 'text': '轨道', 'dspan': (42, 44), 'span': (42, 44)},\n",
       "    {'id': 29, 'text': '，', 'dspan': (44, 45), 'span': (44, 45)},\n",
       "    {'id': 30, 'text': '中国', 'dspan': (45, 47), 'span': (45, 47)},\n",
       "    {'id': 31, 'text': '空间', 'dspan': (47, 49), 'span': (47, 49)},\n",
       "    {'id': 32, 'text': '站', 'dspan': (49, 50), 'span': (49, 50)},\n",
       "    {'id': 33, 'text': '在轨', 'dspan': (50, 52), 'span': (50, 52)},\n",
       "    {'id': 34, 'text': '组装', 'dspan': (52, 54), 'span': (52, 54)},\n",
       "    {'id': 35, 'text': '建造', 'dspan': (54, 56), 'span': (54, 56)},\n",
       "    {'id': 36, 'text': '全面', 'dspan': (56, 58), 'span': (56, 58)},\n",
       "    {'id': 37, 'text': '展开', 'dspan': (58, 60), 'span': (58, 60)},\n",
       "    {'id': 38, 'text': '。', 'dspan': (60, 61), 'span': (60, 61)}],\n",
       "   'dspan': (0, 61)},\n",
       "  {'id': 2,\n",
       "   'text': '5月29日晚，我国在海南文昌航天发射场准时点火发射天舟二号货运飞船。',\n",
       "   'tokens': [{'id': 1, 'text': '5', 'dspan': (61, 62), 'span': (0, 1)},\n",
       "    {'id': 2, 'text': '月', 'dspan': (62, 63), 'span': (1, 2)},\n",
       "    {'id': 3, 'text': '29', 'dspan': (63, 65), 'span': (2, 4)},\n",
       "    {'id': 4, 'text': '日', 'dspan': (65, 66), 'span': (4, 5)},\n",
       "    {'id': 5, 'text': '晚', 'dspan': (66, 67), 'span': (5, 6)},\n",
       "    {'id': 6, 'text': '，', 'dspan': (67, 68), 'span': (6, 7)},\n",
       "    {'id': 7, 'text': '我国', 'dspan': (68, 70), 'span': (7, 9)},\n",
       "    {'id': 8, 'text': '在', 'dspan': (70, 71), 'span': (9, 10)},\n",
       "    {'id': 9, 'text': '海南', 'dspan': (71, 73), 'span': (10, 12)},\n",
       "    {'id': 10, 'text': '文昌', 'dspan': (73, 75), 'span': (12, 14)},\n",
       "    {'id': 11, 'text': '航天', 'dspan': (75, 77), 'span': (14, 16)},\n",
       "    {'id': 12, 'text': '发射', 'dspan': (77, 79), 'span': (16, 18)},\n",
       "    {'id': 13, 'text': '场', 'dspan': (79, 80), 'span': (18, 19)},\n",
       "    {'id': 14, 'text': '准时', 'dspan': (80, 82), 'span': (19, 21)},\n",
       "    {'id': 15, 'text': '点火', 'dspan': (82, 84), 'span': (21, 23)},\n",
       "    {'id': 16, 'text': '发射', 'dspan': (84, 86), 'span': (23, 25)},\n",
       "    {'id': 17, 'text': '天舟', 'dspan': (86, 88), 'span': (25, 27)},\n",
       "    {'id': 18, 'text': '二', 'dspan': (88, 89), 'span': (27, 28)},\n",
       "    {'id': 19, 'text': '号', 'dspan': (89, 90), 'span': (28, 29)},\n",
       "    {'id': 20, 'text': '货运', 'dspan': (90, 92), 'span': (29, 31)},\n",
       "    {'id': 21, 'text': '飞船', 'dspan': (92, 94), 'span': (31, 33)},\n",
       "    {'id': 22, 'text': '。', 'dspan': (94, 95), 'span': (33, 34)}],\n",
       "   'dspan': (61, 95)},\n",
       "  {'id': 3,\n",
       "   'text': '这是空间站货物运输系统的第一次应用性飞行。',\n",
       "   'tokens': [{'id': 1, 'text': '这', 'dspan': (95, 96), 'span': (0, 1)},\n",
       "    {'id': 2, 'text': '是', 'dspan': (96, 97), 'span': (1, 2)},\n",
       "    {'id': 3, 'text': '空间', 'dspan': (97, 99), 'span': (2, 4)},\n",
       "    {'id': 4, 'text': '站', 'dspan': (99, 100), 'span': (4, 5)},\n",
       "    {'id': 5, 'text': '货物', 'dspan': (100, 102), 'span': (5, 7)},\n",
       "    {'id': 6, 'text': '运输', 'dspan': (102, 104), 'span': (7, 9)},\n",
       "    {'id': 7, 'text': '系统', 'dspan': (104, 106), 'span': (9, 11)},\n",
       "    {'id': 8, 'text': '的', 'dspan': (106, 107), 'span': (11, 12)},\n",
       "    {'id': 9, 'text': '第一', 'dspan': (107, 109), 'span': (12, 14)},\n",
       "    {'id': 10, 'text': '次', 'dspan': (109, 110), 'span': (14, 15)},\n",
       "    {'id': 11, 'text': '应用', 'dspan': (110, 112), 'span': (15, 17)},\n",
       "    {'id': 12, 'text': '性', 'dspan': (112, 113), 'span': (17, 18)},\n",
       "    {'id': 13, 'text': '飞行', 'dspan': (113, 115), 'span': (18, 20)},\n",
       "    {'id': 14, 'text': '。', 'dspan': (115, 116), 'span': (20, 21)}],\n",
       "   'dspan': (95, 116)}],\n",
       " 'lang': 'chinese'}"
      ]
     },
     "execution_count": 5,
     "metadata": {},
     "output_type": "execute_result"
    }
   ],
   "source": [
    "p.tokenize('''今年4月29日，我国在海南文昌用长征五号B遥二运载火箭成功将空间站天和核心舱送入预定轨道，中国空间站在轨组装建造全面展开。5月29日晚，我国在海南文昌航天发射场准时点火发射天舟二号货运飞船。这是空间站货物运输系统的第一次应用性飞行。''') "
   ]
  },
  {
   "cell_type": "code",
   "execution_count": 6,
   "metadata": {},
   "outputs": [],
   "source": [
    "text = '''2012年至2020年，中国与中东欧17国贸易年均增速8%，是中国与欧盟贸易增速的2倍以上。2020年，中国与中东欧17国贸易额首次突破千亿美元，达到1034.5亿美元，同比增长8.4%。今年1-4月，中国与中东欧17国贸易额407.1亿美元，同比增长46.2%。其中，中国自中东欧国家进口强劲增长，增幅高达54.3%。'''"
   ]
  },
  {
   "cell_type": "code",
   "execution_count": 7,
   "metadata": {},
   "outputs": [
    {
     "data": {
      "text/plain": [
       "{'text': '2012年至2020年，中国与中东欧17国贸易年均增速8%，是中国与欧盟贸易增速的2倍以上。2020年，中国与中东欧17国贸易额首次突破千亿美元，达到1034.5亿美元，同比增长8.4%。今年1-4月，中国与中东欧17国贸易额407.1亿美元，同比增长46.2%。其中，中国自中东欧国家进口强劲增长，增幅高达54.3%。',\n",
       " 'sentences': [{'id': 1,\n",
       "   'text': '2012年至2020年，中国与中东欧17国贸易年均增速8%，是中国与欧盟贸易增速的2倍以上。',\n",
       "   'tokens': [{'id': 1,\n",
       "     'text': '2012',\n",
       "     'dspan': (0, 4),\n",
       "     'span': (0, 4),\n",
       "     'ner': 'B-DATE'},\n",
       "    {'id': 2, 'text': '年', 'dspan': (4, 5), 'span': (4, 5), 'ner': 'I-DATE'},\n",
       "    {'id': 3, 'text': '至', 'dspan': (5, 6), 'span': (5, 6), 'ner': 'I-DATE'},\n",
       "    {'id': 4,\n",
       "     'text': '2020',\n",
       "     'dspan': (6, 10),\n",
       "     'span': (6, 10),\n",
       "     'ner': 'I-DATE'},\n",
       "    {'id': 5,\n",
       "     'text': '年',\n",
       "     'dspan': (10, 11),\n",
       "     'span': (10, 11),\n",
       "     'ner': 'E-DATE'},\n",
       "    {'id': 6, 'text': '，', 'dspan': (11, 12), 'span': (11, 12), 'ner': 'O'},\n",
       "    {'id': 7,\n",
       "     'text': '中国',\n",
       "     'dspan': (12, 14),\n",
       "     'span': (12, 14),\n",
       "     'ner': 'S-GPE'},\n",
       "    {'id': 8, 'text': '与', 'dspan': (14, 15), 'span': (14, 15), 'ner': 'O'},\n",
       "    {'id': 9,\n",
       "     'text': '中东',\n",
       "     'dspan': (15, 17),\n",
       "     'span': (15, 17),\n",
       "     'ner': 'S-LOC'},\n",
       "    {'id': 10,\n",
       "     'text': '欧',\n",
       "     'dspan': (17, 18),\n",
       "     'span': (17, 18),\n",
       "     'ner': 'S-LOC'},\n",
       "    {'id': 11,\n",
       "     'text': '17',\n",
       "     'dspan': (18, 20),\n",
       "     'span': (18, 20),\n",
       "     'ner': 'S-CARDINAL'},\n",
       "    {'id': 12, 'text': '国', 'dspan': (20, 21), 'span': (20, 21), 'ner': 'O'},\n",
       "    {'id': 13, 'text': '贸易', 'dspan': (21, 23), 'span': (21, 23), 'ner': 'O'},\n",
       "    {'id': 14, 'text': '年均', 'dspan': (23, 25), 'span': (23, 25), 'ner': 'O'},\n",
       "    {'id': 15, 'text': '增速', 'dspan': (25, 27), 'span': (25, 27), 'ner': 'O'},\n",
       "    {'id': 16,\n",
       "     'text': '8%',\n",
       "     'dspan': (27, 29),\n",
       "     'span': (27, 29),\n",
       "     'ner': 'S-PERCENT'},\n",
       "    {'id': 17, 'text': '，', 'dspan': (29, 30), 'span': (29, 30), 'ner': 'O'},\n",
       "    {'id': 18, 'text': '是', 'dspan': (30, 31), 'span': (30, 31), 'ner': 'O'},\n",
       "    {'id': 19,\n",
       "     'text': '中国',\n",
       "     'dspan': (31, 33),\n",
       "     'span': (31, 33),\n",
       "     'ner': 'S-GPE'},\n",
       "    {'id': 20, 'text': '与', 'dspan': (33, 34), 'span': (33, 34), 'ner': 'O'},\n",
       "    {'id': 21,\n",
       "     'text': '欧盟',\n",
       "     'dspan': (34, 36),\n",
       "     'span': (34, 36),\n",
       "     'ner': 'S-ORG'},\n",
       "    {'id': 22, 'text': '贸易', 'dspan': (36, 38), 'span': (36, 38), 'ner': 'O'},\n",
       "    {'id': 23, 'text': '增速', 'dspan': (38, 40), 'span': (38, 40), 'ner': 'O'},\n",
       "    {'id': 24, 'text': '的', 'dspan': (40, 41), 'span': (40, 41), 'ner': 'O'},\n",
       "    {'id': 25,\n",
       "     'text': '2',\n",
       "     'dspan': (41, 42),\n",
       "     'span': (41, 42),\n",
       "     'ner': 'S-CARDINAL'},\n",
       "    {'id': 26, 'text': '倍', 'dspan': (42, 43), 'span': (42, 43), 'ner': 'O'},\n",
       "    {'id': 27, 'text': '以上', 'dspan': (43, 45), 'span': (43, 45), 'ner': 'O'},\n",
       "    {'id': 28, 'text': '。', 'dspan': (45, 46), 'span': (45, 46), 'ner': 'O'}],\n",
       "   'dspan': (0, 46)},\n",
       "  {'id': 2,\n",
       "   'text': '2020年，中国与中东欧17国贸易额首次突破千亿美元，达到1034.5亿美元，同比增长8.4%。',\n",
       "   'tokens': [{'id': 1,\n",
       "     'text': '2020',\n",
       "     'dspan': (46, 50),\n",
       "     'span': (0, 4),\n",
       "     'ner': 'B-DATE'},\n",
       "    {'id': 2, 'text': '年', 'dspan': (50, 51), 'span': (4, 5), 'ner': 'E-DATE'},\n",
       "    {'id': 3, 'text': '，', 'dspan': (51, 52), 'span': (5, 6), 'ner': 'O'},\n",
       "    {'id': 4, 'text': '中国', 'dspan': (52, 54), 'span': (6, 8), 'ner': 'S-GPE'},\n",
       "    {'id': 5, 'text': '与', 'dspan': (54, 55), 'span': (8, 9), 'ner': 'O'},\n",
       "    {'id': 6,\n",
       "     'text': '中东',\n",
       "     'dspan': (55, 57),\n",
       "     'span': (9, 11),\n",
       "     'ner': 'S-LOC'},\n",
       "    {'id': 7,\n",
       "     'text': '欧',\n",
       "     'dspan': (57, 58),\n",
       "     'span': (11, 12),\n",
       "     'ner': 'S-LOC'},\n",
       "    {'id': 8,\n",
       "     'text': '17',\n",
       "     'dspan': (58, 60),\n",
       "     'span': (12, 14),\n",
       "     'ner': 'S-CARDINAL'},\n",
       "    {'id': 9, 'text': '国', 'dspan': (60, 61), 'span': (14, 15), 'ner': 'O'},\n",
       "    {'id': 10, 'text': '贸易', 'dspan': (61, 63), 'span': (15, 17), 'ner': 'O'},\n",
       "    {'id': 11, 'text': '额', 'dspan': (63, 64), 'span': (17, 18), 'ner': 'O'},\n",
       "    {'id': 12, 'text': '首次', 'dspan': (64, 66), 'span': (18, 20), 'ner': 'O'},\n",
       "    {'id': 13, 'text': '突破', 'dspan': (66, 68), 'span': (20, 22), 'ner': 'O'},\n",
       "    {'id': 14,\n",
       "     'text': '千亿',\n",
       "     'dspan': (68, 70),\n",
       "     'span': (22, 24),\n",
       "     'ner': 'B-MONEY'},\n",
       "    {'id': 15,\n",
       "     'text': '美',\n",
       "     'dspan': (70, 71),\n",
       "     'span': (24, 25),\n",
       "     'ner': 'I-MONEY'},\n",
       "    {'id': 16,\n",
       "     'text': '元',\n",
       "     'dspan': (71, 72),\n",
       "     'span': (25, 26),\n",
       "     'ner': 'E-MONEY'},\n",
       "    {'id': 17, 'text': '，', 'dspan': (72, 73), 'span': (26, 27), 'ner': 'O'},\n",
       "    {'id': 18, 'text': '达到', 'dspan': (73, 75), 'span': (27, 29), 'ner': 'O'},\n",
       "    {'id': 19,\n",
       "     'text': '1034.5亿',\n",
       "     'dspan': (75, 82),\n",
       "     'span': (29, 36),\n",
       "     'ner': 'B-MONEY'},\n",
       "    {'id': 20,\n",
       "     'text': '美',\n",
       "     'dspan': (82, 83),\n",
       "     'span': (36, 37),\n",
       "     'ner': 'I-MONEY'},\n",
       "    {'id': 21,\n",
       "     'text': '元',\n",
       "     'dspan': (83, 84),\n",
       "     'span': (37, 38),\n",
       "     'ner': 'E-MONEY'},\n",
       "    {'id': 22, 'text': '，', 'dspan': (84, 85), 'span': (38, 39), 'ner': 'O'},\n",
       "    {'id': 23, 'text': '同比', 'dspan': (85, 87), 'span': (39, 41), 'ner': 'O'},\n",
       "    {'id': 24, 'text': '增长', 'dspan': (87, 89), 'span': (41, 43), 'ner': 'O'},\n",
       "    {'id': 25,\n",
       "     'text': '8.4%',\n",
       "     'dspan': (89, 93),\n",
       "     'span': (43, 47),\n",
       "     'ner': 'S-PERCENT'},\n",
       "    {'id': 26, 'text': '。', 'dspan': (93, 94), 'span': (47, 48), 'ner': 'O'}],\n",
       "   'dspan': (46, 94)},\n",
       "  {'id': 3,\n",
       "   'text': '今年1-4月，中国与中东欧17国贸易额407.1亿美元，同比增长46.2%。',\n",
       "   'tokens': [{'id': 1,\n",
       "     'text': '今年',\n",
       "     'dspan': (94, 96),\n",
       "     'span': (0, 2),\n",
       "     'ner': 'B-DATE'},\n",
       "    {'id': 2, 'text': '1', 'dspan': (96, 97), 'span': (2, 3), 'ner': 'I-DATE'},\n",
       "    {'id': 3, 'text': '-', 'dspan': (97, 98), 'span': (3, 4), 'ner': 'I-DATE'},\n",
       "    {'id': 4, 'text': '4', 'dspan': (98, 99), 'span': (4, 5), 'ner': 'I-DATE'},\n",
       "    {'id': 5,\n",
       "     'text': '月',\n",
       "     'dspan': (99, 100),\n",
       "     'span': (5, 6),\n",
       "     'ner': 'E-DATE'},\n",
       "    {'id': 6, 'text': '，', 'dspan': (100, 101), 'span': (6, 7), 'ner': 'O'},\n",
       "    {'id': 7,\n",
       "     'text': '中国',\n",
       "     'dspan': (101, 103),\n",
       "     'span': (7, 9),\n",
       "     'ner': 'S-GPE'},\n",
       "    {'id': 8, 'text': '与', 'dspan': (103, 104), 'span': (9, 10), 'ner': 'O'},\n",
       "    {'id': 9,\n",
       "     'text': '中东',\n",
       "     'dspan': (104, 106),\n",
       "     'span': (10, 12),\n",
       "     'ner': 'S-LOC'},\n",
       "    {'id': 10,\n",
       "     'text': '欧',\n",
       "     'dspan': (106, 107),\n",
       "     'span': (12, 13),\n",
       "     'ner': 'S-LOC'},\n",
       "    {'id': 11,\n",
       "     'text': '17',\n",
       "     'dspan': (107, 109),\n",
       "     'span': (13, 15),\n",
       "     'ner': 'S-CARDINAL'},\n",
       "    {'id': 12, 'text': '国', 'dspan': (109, 110), 'span': (15, 16), 'ner': 'O'},\n",
       "    {'id': 13,\n",
       "     'text': '贸易',\n",
       "     'dspan': (110, 112),\n",
       "     'span': (16, 18),\n",
       "     'ner': 'O'},\n",
       "    {'id': 14, 'text': '额', 'dspan': (112, 113), 'span': (18, 19), 'ner': 'O'},\n",
       "    {'id': 15,\n",
       "     'text': '407.1亿',\n",
       "     'dspan': (113, 119),\n",
       "     'span': (19, 25),\n",
       "     'ner': 'B-MONEY'},\n",
       "    {'id': 16,\n",
       "     'text': '美',\n",
       "     'dspan': (119, 120),\n",
       "     'span': (25, 26),\n",
       "     'ner': 'I-MONEY'},\n",
       "    {'id': 17,\n",
       "     'text': '元',\n",
       "     'dspan': (120, 121),\n",
       "     'span': (26, 27),\n",
       "     'ner': 'E-MONEY'},\n",
       "    {'id': 18, 'text': '，', 'dspan': (121, 122), 'span': (27, 28), 'ner': 'O'},\n",
       "    {'id': 19,\n",
       "     'text': '同比',\n",
       "     'dspan': (122, 124),\n",
       "     'span': (28, 30),\n",
       "     'ner': 'O'},\n",
       "    {'id': 20,\n",
       "     'text': '增长',\n",
       "     'dspan': (124, 126),\n",
       "     'span': (30, 32),\n",
       "     'ner': 'O'},\n",
       "    {'id': 21,\n",
       "     'text': '46.2%',\n",
       "     'dspan': (126, 131),\n",
       "     'span': (32, 37),\n",
       "     'ner': 'S-PERCENT'},\n",
       "    {'id': 22,\n",
       "     'text': '。',\n",
       "     'dspan': (131, 132),\n",
       "     'span': (37, 38),\n",
       "     'ner': 'O'}],\n",
       "   'dspan': (94, 132)},\n",
       "  {'id': 4,\n",
       "   'text': '其中，中国自中东欧国家进口强劲增长，增幅高达54.3%。',\n",
       "   'tokens': [{'id': 1,\n",
       "     'text': '其中',\n",
       "     'dspan': (132, 134),\n",
       "     'span': (0, 2),\n",
       "     'ner': 'O'},\n",
       "    {'id': 2, 'text': '，', 'dspan': (134, 135), 'span': (2, 3), 'ner': 'O'},\n",
       "    {'id': 3,\n",
       "     'text': '中国',\n",
       "     'dspan': (135, 137),\n",
       "     'span': (3, 5),\n",
       "     'ner': 'S-GPE'},\n",
       "    {'id': 4, 'text': '自', 'dspan': (137, 138), 'span': (5, 6), 'ner': 'O'},\n",
       "    {'id': 5,\n",
       "     'text': '中东',\n",
       "     'dspan': (138, 140),\n",
       "     'span': (6, 8),\n",
       "     'ner': 'S-LOC'},\n",
       "    {'id': 6,\n",
       "     'text': '欧',\n",
       "     'dspan': (140, 141),\n",
       "     'span': (8, 9),\n",
       "     'ner': 'S-LOC'},\n",
       "    {'id': 7, 'text': '国家', 'dspan': (141, 143), 'span': (9, 11), 'ner': 'O'},\n",
       "    {'id': 8, 'text': '进口', 'dspan': (143, 145), 'span': (11, 13), 'ner': 'O'},\n",
       "    {'id': 9, 'text': '强劲', 'dspan': (145, 147), 'span': (13, 15), 'ner': 'O'},\n",
       "    {'id': 10,\n",
       "     'text': '增长',\n",
       "     'dspan': (147, 149),\n",
       "     'span': (15, 17),\n",
       "     'ner': 'O'},\n",
       "    {'id': 11, 'text': '，', 'dspan': (149, 150), 'span': (17, 18), 'ner': 'O'},\n",
       "    {'id': 12,\n",
       "     'text': '增幅',\n",
       "     'dspan': (150, 152),\n",
       "     'span': (18, 20),\n",
       "     'ner': 'O'},\n",
       "    {'id': 13,\n",
       "     'text': '高达',\n",
       "     'dspan': (152, 154),\n",
       "     'span': (20, 22),\n",
       "     'ner': 'O'},\n",
       "    {'id': 14,\n",
       "     'text': '54.3%',\n",
       "     'dspan': (154, 159),\n",
       "     'span': (22, 27),\n",
       "     'ner': 'S-PERCENT'},\n",
       "    {'id': 15,\n",
       "     'text': '。',\n",
       "     'dspan': (159, 160),\n",
       "     'span': (27, 28),\n",
       "     'ner': 'O'}],\n",
       "   'dspan': (132, 160)}],\n",
       " 'lang': 'chinese'}"
      ]
     },
     "execution_count": 7,
     "metadata": {},
     "output_type": "execute_result"
    }
   ],
   "source": [
    "p.ner(text)"
   ]
  },
  {
   "cell_type": "code",
   "execution_count": null,
   "metadata": {},
   "outputs": [],
   "source": []
  }
 ],
 "metadata": {
  "kernelspec": {
   "display_name": "Python 3",
   "language": "python",
   "name": "python3"
  },
  "language_info": {
   "codemirror_mode": {
    "name": "ipython",
    "version": 3
   },
   "file_extension": ".py",
   "mimetype": "text/x-python",
   "name": "python",
   "nbconvert_exporter": "python",
   "pygments_lexer": "ipython3",
   "version": "3.7.6"
  }
 },
 "nbformat": 4,
 "nbformat_minor": 4
}
