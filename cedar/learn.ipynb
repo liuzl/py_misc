{
 "cells": [
  {
   "cell_type": "code",
   "execution_count": 1,
   "metadata": {},
   "outputs": [],
   "source": [
    "import pycedar\n",
    "\n",
    "d = pycedar.dict()\n",
    "\n",
    "d['nineteen'] = 19\n",
    "d.set('twenty', 20)\n",
    "d['twenty one'] = 21\n",
    "d['twenty two'] = 22\n",
    "d['twenty three'] = 23\n",
    "d['twenty four'] = 24"
   ]
  },
  {
   "cell_type": "code",
   "execution_count": 5,
   "metadata": {},
   "outputs": [
    {
     "data": {
      "text/plain": [
       "['nineteen',\n",
       " 'twenty',\n",
       " 'twenty four',\n",
       " 'twenty one',\n",
       " 'twenty three',\n",
       " 'twenty two']"
      ]
     },
     "execution_count": 5,
     "metadata": {},
     "output_type": "execute_result"
    }
   ],
   "source": [
    "[k for k in d.keys()]"
   ]
  },
  {
   "cell_type": "code",
   "execution_count": 8,
   "metadata": {},
   "outputs": [
    {
     "name": "stdout",
     "output_type": "stream",
     "text": [
      "Help on built-in function common_prefix_search:\n",
      "\n",
      "common_prefix_search(...) method of pycedar.str_trie instance\n",
      "\n"
     ]
    }
   ],
   "source": [
    "help(d.trie.common_prefix_search)"
   ]
  },
  {
   "cell_type": "code",
   "execution_count": 10,
   "metadata": {},
   "outputs": [
    {
     "data": {
      "text/plain": [
       "[('twenty', 20, 260), ('twenty four', 24, 223338299663)]"
      ]
     },
     "execution_count": 10,
     "metadata": {},
     "output_type": "execute_result"
    }
   ],
   "source": [
    "d.trie.common_prefix_search('twenty four people')"
   ]
  },
  {
   "cell_type": "code",
   "execution_count": 11,
   "metadata": {},
   "outputs": [],
   "source": [
    "d['中国'] = 100\n",
    "d['美国'] = 200"
   ]
  },
  {
   "cell_type": "code",
   "execution_count": 13,
   "metadata": {},
   "outputs": [
    {
     "data": {
      "text/plain": [
       "[('美国', 200, 309237645543)]"
      ]
     },
     "execution_count": 13,
     "metadata": {},
     "output_type": "execute_result"
    }
   ],
   "source": [
    "d.trie.common_prefix_search('美国人是怎么看中国的呢？')"
   ]
  },
  {
   "cell_type": "code",
   "execution_count": 14,
   "metadata": {},
   "outputs": [],
   "source": [
    "d['美国人'] = 300"
   ]
  },
  {
   "cell_type": "code",
   "execution_count": 16,
   "metadata": {},
   "outputs": [
    {
     "data": {
      "text/plain": [
       "[('美国', 200, 268), ('美国人', 300, 339302416873)]"
      ]
     },
     "execution_count": 16,
     "metadata": {},
     "output_type": "execute_result"
    }
   ],
   "source": [
    "d.trie.common_prefix_search('美国人是怎么看中国的呢？')"
   ]
  },
  {
   "cell_type": "code",
   "execution_count": 17,
   "metadata": {},
   "outputs": [
    {
     "data": {
      "text/plain": [
       "[('nineteen', 19, 47244640366)]"
      ]
     },
     "execution_count": 17,
     "metadata": {},
     "output_type": "execute_result"
    }
   ],
   "source": [
    "d.trie.common_prefix_search('nineteen个人都跑去哪里了？')"
   ]
  },
  {
   "cell_type": "code",
   "execution_count": 21,
   "metadata": {},
   "outputs": [
    {
     "name": "stdout",
     "output_type": "stream",
     "text": [
      "nineteen\t19\n",
      "twenty\t20\n",
      "twenty four\t24\n",
      "twenty one\t21\n",
      "twenty three\t23\n",
      "twenty two\t22\n",
      "中国\t100\n",
      "美国\t200\n",
      "美国人\t300\n"
     ]
    }
   ],
   "source": [
    "for k, v in d.items():\n",
    "    print(\"%s\\t%s\"%(k,v))"
   ]
  },
  {
   "cell_type": "code",
   "execution_count": null,
   "metadata": {},
   "outputs": [],
   "source": []
  }
 ],
 "metadata": {
  "kernelspec": {
   "display_name": "Python 3",
   "language": "python",
   "name": "python3"
  },
  "language_info": {
   "codemirror_mode": {
    "name": "ipython",
    "version": 3
   },
   "file_extension": ".py",
   "mimetype": "text/x-python",
   "name": "python",
   "nbconvert_exporter": "python",
   "pygments_lexer": "ipython3",
   "version": "3.7.1"
  }
 },
 "nbformat": 4,
 "nbformat_minor": 2
}
