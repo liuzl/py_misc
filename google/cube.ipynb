{
 "cells": [
  {
   "cell_type": "code",
   "execution_count": 1,
   "metadata": {},
   "outputs": [],
   "source": [
    "lines = open('zgc_google.txt').read().strip().split('\\n')"
   ]
  },
  {
   "cell_type": "code",
   "execution_count": 2,
   "metadata": {},
   "outputs": [],
   "source": [
    "from pandas.io.json import json_normalize\n",
    "import json\n",
    "\n",
    "df = json_normalize([json.loads(x) for x in lines])"
   ]
  },
  {
   "cell_type": "code",
   "execution_count": 3,
   "metadata": {},
   "outputs": [],
   "source": [
    "df['lang'].value_counts().to_csv(\"lang.csv\", header=None)"
   ]
  },
  {
   "cell_type": "code",
   "execution_count": 4,
   "metadata": {},
   "outputs": [],
   "source": [
    "df['domain'].value_counts().to_csv(\"domain.csv\", header=None)"
   ]
  },
  {
   "cell_type": "code",
   "execution_count": 5,
   "metadata": {},
   "outputs": [],
   "source": [
    "from collections import defaultdict"
   ]
  },
  {
   "cell_type": "code",
   "execution_count": 6,
   "metadata": {},
   "outputs": [],
   "source": [
    "dicts = {'PER':defaultdict(int), 'LOC':defaultdict(int), 'ORG':defaultdict(int), 'MISC':defaultdict(int)}"
   ]
  },
  {
   "cell_type": "code",
   "execution_count": 7,
   "metadata": {},
   "outputs": [],
   "source": [
    "for line in lines:\n",
    "    item = json.loads(line)\n",
    "    for ent in ['title_ent', 'snippet_ent']:\n",
    "        for k, v in item[ent].items():\n",
    "            for x in v:\n",
    "                dicts[k][x] += 1"
   ]
  },
  {
   "cell_type": "code",
   "execution_count": 8,
   "metadata": {},
   "outputs": [],
   "source": [
    "import pandas as pd\n",
    "d1 = pd.Series(dicts['PER'])"
   ]
  },
  {
   "cell_type": "code",
   "execution_count": 9,
   "metadata": {},
   "outputs": [],
   "source": [
    "for k, v in dicts.items():\n",
    "    d = pd.Series(v)\n",
    "    d.sort_values(ascending=False).to_csv(\"%s.csv\"%k, header=None)"
   ]
  },
  {
   "cell_type": "code",
   "execution_count": 38,
   "metadata": {},
   "outputs": [],
   "source": [
    "df[['title','url']].drop_duplicates().head(50).to_csv('top50.csv', index=None)"
   ]
  },
  {
   "cell_type": "code",
   "execution_count": 39,
   "metadata": {},
   "outputs": [],
   "source": [
    "china = set(['www.xinhuanet.com',\n",
    "             'french.xinhuanet.com',\n",
    "             'www.globaltimes.cn',\n",
    "             'filipino.cri.cn',\n",
    "             'italian.cri.cn',\n",
    "             'german.cri.cn',\n",
    "             'www.chinamoneynetwork.com',\n",
    "             'french.china.org.cn',\n",
    "             'www.chinadaily.com.cn',\n",
    "             'www.china.org.cn',\n",
    "             'german.china.org.cn'])\n",
    "df[~df['domain'].isin(china)][['title','url']].drop_duplicates().head(50).to_csv('top50_china_excluded.csv', index=None)"
   ]
  },
  {
   "cell_type": "code",
   "execution_count": null,
   "metadata": {},
   "outputs": [],
   "source": []
  }
 ],
 "metadata": {
  "kernelspec": {
   "display_name": "Python 3",
   "language": "python",
   "name": "python3"
  },
  "language_info": {
   "codemirror_mode": {
    "name": "ipython",
    "version": 3
   },
   "file_extension": ".py",
   "mimetype": "text/x-python",
   "name": "python",
   "nbconvert_exporter": "python",
   "pygments_lexer": "ipython3",
   "version": "3.7.1"
  }
 },
 "nbformat": 4,
 "nbformat_minor": 2
}
