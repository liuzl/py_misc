{
 "cells": [
  {
   "cell_type": "code",
   "execution_count": 1,
   "metadata": {},
   "outputs": [],
   "source": [
    "lines = open('zgc_google.txt').read().strip().split('\\n')"
   ]
  },
  {
   "cell_type": "code",
   "execution_count": 2,
   "metadata": {},
   "outputs": [],
   "source": [
    "from pandas.io.json import json_normalize\n",
    "import json\n",
    "\n",
    "df = json_normalize([json.loads(x) for x in lines])"
   ]
  },
  {
   "cell_type": "code",
   "execution_count": 5,
   "metadata": {},
   "outputs": [
    {
     "data": {
      "text/plain": [
       "en    1058\n",
       "it     245\n",
       "pt      30\n",
       "de      30\n",
       "fr      23\n",
       "id      20\n",
       "zh      20\n",
       "tl      15\n",
       "nl       9\n",
       "Name: lang, dtype: int64"
      ]
     },
     "execution_count": 5,
     "metadata": {},
     "output_type": "execute_result"
    }
   ],
   "source": [
    "df['lang'].value_counts()"
   ]
  },
  {
   "cell_type": "code",
   "execution_count": 6,
   "metadata": {},
   "outputs": [
    {
     "data": {
      "text/plain": [
       "italian.cri.cn                          210\n",
       "www.scmp.com                            190\n",
       "www.straitstimes.com                    160\n",
       "www.globaltimes.cn                      132\n",
       "www.china.org.cn                         77\n",
       "www.chinadaily.com.cn                    47\n",
       "www.xinhuanet.com                        41\n",
       "channels.theinnovationenterprise.com     40\n",
       "thediplomat.com                          30\n",
       "german.cri.cn                            20\n",
       "news.cgtn.com                            19\n",
       "www.ansa.it                              15\n",
       "appleinsider.com                         15\n",
       "filipino.cri.cn                          15\n",
       "german.china.org.cn                      10\n",
       "uk.reuters.com                           10\n",
       "www.zdnet.com                            10\n",
       "usa.chinadaily.com.cn                    10\n",
       "www.bloomberg.com                        10\n",
       "global.chinadaily.com.cn                 10\n",
       "www.globenewswire.com                    10\n",
       "www.audio160.com                         10\n",
       "www.gokunming.com                        10\n",
       "www.sciencesetavenir.fr                  10\n",
       "www.channelnewsasia.com                  10\n",
       "www.dailymail.co.uk                      10\n",
       "technode.com                             10\n",
       "m.convergenciadigital.com.br             10\n",
       "sputniknews.com                          10\n",
       "www.caixinglobal.com                     10\n",
       "tech.sina.com.cn                         10\n",
       "itmidia.com                              10\n",
       "canaltech.com.br                         10\n",
       "www.smh.com.au                           10\n",
       "www.aithority.com                        10\n",
       "www.vantageasia.com                      10\n",
       "www.fasi.biz                             10\n",
       "www.afr.com                              10\n",
       "www.plantbasednews.org                   10\n",
       "scandasia.com                            10\n",
       "en.nhandan.org.vn                        10\n",
       "www.ilfoglio.it                          10\n",
       "www.bangkokpost.com                      10\n",
       "www.vox.com                              10\n",
       "french.china.org.cn                      10\n",
       "www.bharian.com.my                       10\n",
       "finance.yahoo.com                        10\n",
       "www.theglobeandmail.com                  10\n",
       "www.nst.com.my                           10\n",
       "www.koreaherald.com                      10\n",
       "www.reuters.com                          10\n",
       "www.technologyreview.com                 10\n",
       "www.law.com                               9\n",
       "www.hln.be                                9\n",
       "sciencebusiness.net                       9\n",
       "www.timesofisrael.com                     8\n",
       "www.prnewswire.com                        8\n",
       "www.chinamoneynetwork.com                 7\n",
       "thepienews.com                            6\n",
       "french.xinhuanet.com                      3\n",
       "Name: domain, dtype: int64"
      ]
     },
     "execution_count": 6,
     "metadata": {},
     "output_type": "execute_result"
    }
   ],
   "source": [
    "df['domain'].value_counts()"
   ]
  },
  {
   "cell_type": "code",
   "execution_count": null,
   "metadata": {},
   "outputs": [],
   "source": []
  }
 ],
 "metadata": {
  "kernelspec": {
   "display_name": "Python 3",
   "language": "python",
   "name": "python3"
  },
  "language_info": {
   "codemirror_mode": {
    "name": "ipython",
    "version": 3
   },
   "file_extension": ".py",
   "mimetype": "text/x-python",
   "name": "python",
   "nbconvert_exporter": "python",
   "pygments_lexer": "ipython3",
   "version": "3.7.1"
  }
 },
 "nbformat": 4,
 "nbformat_minor": 2
}
