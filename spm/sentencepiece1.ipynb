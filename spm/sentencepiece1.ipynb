{
 "cells": [
  {
   "cell_type": "code",
   "execution_count": 4,
   "metadata": {},
   "outputs": [],
   "source": [
    "import json\n",
    "import glob"
   ]
  },
  {
   "cell_type": "code",
   "execution_count": 7,
   "metadata": {},
   "outputs": [],
   "source": [
    "out = open(\"rmrb2008.txt\", \"w\")\n",
    "for f in glob.glob(\"data/*.txt\"):\n",
    "    for line in open(f):\n",
    "        item = json.loads(line)\n",
    "        out.write(item['title'].strip()+\"\\n\")\n",
    "        out.write(item['content'].strip()+\"\\n\")\n",
    "out.close()"
   ]
  },
  {
   "cell_type": "code",
   "execution_count": 8,
   "metadata": {},
   "outputs": [
    {
     "name": "stdout",
     "output_type": "stream",
     "text": [
      "  357214 rmrb2008.txt\r\n"
     ]
    }
   ],
   "source": [
    "!wc -l rmrb2008.txt"
   ]
  },
  {
   "cell_type": "markdown",
   "metadata": {},
   "source": [
    "# 训练模型"
   ]
  },
  {
   "cell_type": "code",
   "execution_count": 9,
   "metadata": {},
   "outputs": [],
   "source": [
    "import sentencepiece as spm"
   ]
  },
  {
   "cell_type": "code",
   "execution_count": 10,
   "metadata": {},
   "outputs": [],
   "source": [
    "spm.SentencePieceTrainer.train(input='rmrb2008.txt', model_prefix='rmrb',\n",
    "                              vocab_size=30000)"
   ]
  },
  {
   "cell_type": "markdown",
   "metadata": {},
   "source": [
    "# 使用模型进行分词"
   ]
  },
  {
   "cell_type": "code",
   "execution_count": 11,
   "metadata": {},
   "outputs": [],
   "source": [
    "sp = spm.SentencePieceProcessor(model_file=\"rmrb.model\")"
   ]
  },
  {
   "cell_type": "code",
   "execution_count": 15,
   "metadata": {},
   "outputs": [
    {
     "data": {
      "text/plain": [
       "['▁',\n",
       " '食',\n",
       " '材',\n",
       " '上',\n",
       " '不会',\n",
       " '有',\n",
       " '这样的',\n",
       " '纠',\n",
       " '结',\n",
       " '▁',\n",
       " '我觉得',\n",
       " '还',\n",
       " '挺',\n",
       " '有意思',\n",
       " '的',\n",
       " ',',\n",
       " '哈',\n",
       " '哈',\n",
       " ',',\n",
       " '有点',\n",
       " '意思',\n",
       " '吧']"
      ]
     },
     "execution_count": 15,
     "metadata": {},
     "output_type": "execute_result"
    }
   ],
   "source": [
    "sp.encode(\"食材上不会有这样的纠结\\n我觉得还挺有意思的，哈哈，有点意思吧\", out_type=str)"
   ]
  },
  {
   "cell_type": "code",
   "execution_count": 16,
   "metadata": {},
   "outputs": [
    {
     "data": {
      "text/plain": [
       "['▁',\n",
       " '中共中央政治局',\n",
       " '这次',\n",
       " '集体',\n",
       " '学习',\n",
       " '安排',\n",
       " '的内容',\n",
       " '是',\n",
       " '中国特色社会主义理论体系',\n",
       " '研究',\n",
       " '。',\n",
       " '中央党校',\n",
       " '严',\n",
       " '书',\n",
       " '翰',\n",
       " '教授',\n",
       " '、',\n",
       " '中国人民大学',\n",
       " '秦',\n",
       " '宣',\n",
       " '教授',\n",
       " '就',\n",
       " '这个问题',\n",
       " '进行',\n",
       " '讲解',\n",
       " ',',\n",
       " '并',\n",
       " '谈',\n",
       " '了',\n",
       " '对',\n",
       " '学习贯彻',\n",
       " '中国特色社会主义理论体系',\n",
       " '的意见和建议',\n",
       " '。']"
      ]
     },
     "execution_count": 16,
     "metadata": {},
     "output_type": "execute_result"
    }
   ],
   "source": [
    "sp.EncodeAsPieces(\"中共中央政治局这次集体学习安排的内容是中国特色社会主义理论体系研究。中央党校严书翰教授、中国人民大学秦宣教授就这个问题进行讲解，并谈了对学习贯彻中国特色社会主义理论体系的意见和建议。\")"
   ]
  },
  {
   "cell_type": "code",
   "execution_count": null,
   "metadata": {},
   "outputs": [],
   "source": []
  }
 ],
 "metadata": {
  "kernelspec": {
   "display_name": "Python 3",
   "language": "python",
   "name": "python3"
  },
  "language_info": {
   "codemirror_mode": {
    "name": "ipython",
    "version": 3
   },
   "file_extension": ".py",
   "mimetype": "text/x-python",
   "name": "python",
   "nbconvert_exporter": "python",
   "pygments_lexer": "ipython3",
   "version": "3.7.6"
  }
 },
 "nbformat": 4,
 "nbformat_minor": 4
}
