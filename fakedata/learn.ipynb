{
 "cells": [
  {
   "cell_type": "code",
   "execution_count": 1,
   "metadata": {},
   "outputs": [],
   "source": [
    "from faker import Faker\n",
    "fake = Faker()"
   ]
  },
  {
   "cell_type": "code",
   "execution_count": 2,
   "metadata": {},
   "outputs": [
    {
     "data": {
      "text/plain": [
       "'Sean Anderson'"
      ]
     },
     "execution_count": 2,
     "metadata": {},
     "output_type": "execute_result"
    }
   ],
   "source": [
    "fake.name()"
   ]
  },
  {
   "cell_type": "code",
   "execution_count": 4,
   "metadata": {},
   "outputs": [
    {
     "name": "stdout",
     "output_type": "stream",
     "text": [
      "Paul Houston\n",
      "Lisa Santiago\n",
      "Mark Williams\n",
      "Dawn Crawford\n",
      "Rebecca Carpenter\n",
      "Cole Garcia\n",
      "Sara Contreras\n",
      "Alexandra Flynn\n",
      "Jill Galloway\n",
      "James Hawkins\n"
     ]
    }
   ],
   "source": [
    "for _ in range(10):\n",
    "    print(fake.name())"
   ]
  },
  {
   "cell_type": "code",
   "execution_count": 5,
   "metadata": {},
   "outputs": [],
   "source": [
    "zh_fake = Faker('zh_CN')"
   ]
  },
  {
   "cell_type": "code",
   "execution_count": 7,
   "metadata": {},
   "outputs": [
    {
     "name": "stdout",
     "output_type": "stream",
     "text": [
      "李辉\n",
      "胡柳\n",
      "陆磊\n",
      "蒋明\n",
      "林畅\n",
      "宗婷婷\n",
      "王艳\n",
      "郝华\n",
      "朱淑兰\n",
      "张建华\n"
     ]
    }
   ],
   "source": [
    "for _ in range(10):\n",
    "    print(zh_fake.name())"
   ]
  },
  {
   "cell_type": "code",
   "execution_count": 8,
   "metadata": {},
   "outputs": [
    {
     "name": "stdout",
     "output_type": "stream",
     "text": [
      "香港特别行政区冬梅市长寿周街O座 838708\n",
      "北京市淑英市海港潜江街z座 317960\n",
      "河北省深圳县闵行马街j座 594135\n",
      "陕西省桂兰市上街拉萨街e座 393734\n",
      "青海省秀云市沈河辽阳路e座 444932\n",
      "黑龙江省红梅市牧野银川街h座 276603\n",
      "西藏自治区佳市涪城谢街v座 920398\n",
      "安徽省杭州市城东白路W座 638113\n",
      "江苏省丽县平山太原路L座 993081\n",
      "内蒙古自治区淮安市徐汇兴城街Q座 415438\n"
     ]
    }
   ],
   "source": [
    "for _ in range(10):\n",
    "    print(zh_fake.address())"
   ]
  },
  {
   "cell_type": "code",
   "execution_count": null,
   "metadata": {},
   "outputs": [],
   "source": []
  }
 ],
 "metadata": {
  "kernelspec": {
   "display_name": "Python 3",
   "language": "python",
   "name": "python3"
  },
  "language_info": {
   "codemirror_mode": {
    "name": "ipython",
    "version": 3
   },
   "file_extension": ".py",
   "mimetype": "text/x-python",
   "name": "python",
   "nbconvert_exporter": "python",
   "pygments_lexer": "ipython3",
   "version": "3.7.6"
  }
 },
 "nbformat": 4,
 "nbformat_minor": 4
}
