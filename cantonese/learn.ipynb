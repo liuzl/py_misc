{
 "cells": [
  {
   "cell_type": "code",
   "execution_count": 1,
   "metadata": {},
   "outputs": [],
   "source": [
    "import pycantonese as pc\n",
    "corpus = pc.corpus.hkcancor()"
   ]
  },
  {
   "cell_type": "code",
   "execution_count": 20,
   "metadata": {},
   "outputs": [],
   "source": [
    "def process_single_file(path):\n",
    "    res = []\n",
    "    data = open(path).read().split('\\n')\n",
    "    for i, line in enumerate(data):\n",
    "        if line.startswith('*XX'):\n",
    "            words = line.split('\\t')[-1].split()\n",
    "            pos = data[i+1].split('\\t')[-1].split()\n",
    "            pos = [p.split('|')[0] for p in pos]\n",
    "            res.append([[a,b] if a!=b else [a, 'punct'] for a,b in zip(words,pos)])\n",
    "    return res"
   ]
  },
  {
   "cell_type": "code",
   "execution_count": 33,
   "metadata": {},
   "outputs": [],
   "source": [
    "data = [sent for file in corpus.filenames() for sent in process_single_file(file)]"
   ]
  },
  {
   "cell_type": "code",
   "execution_count": 36,
   "metadata": {},
   "outputs": [],
   "source": [
    "import random\n",
    "random.shuffle(data)"
   ]
  },
  {
   "cell_type": "code",
   "execution_count": 40,
   "metadata": {},
   "outputs": [],
   "source": [
    "from sklearn.model_selection import train_test_split"
   ]
  },
  {
   "cell_type": "code",
   "execution_count": 41,
   "metadata": {},
   "outputs": [],
   "source": [
    "train, test = train_test_split(data, test_size=0.2) "
   ]
  },
  {
   "cell_type": "code",
   "execution_count": 43,
   "metadata": {},
   "outputs": [],
   "source": [
    "def save_file(file, data):\n",
    "    with open(file, \"w\") as f:\n",
    "        for sent in data:\n",
    "            for token in sent:\n",
    "                f.write(f'{token[0]}\\t{token[1]}\\n')\n",
    "            f.write('EOS\\n')"
   ]
  },
  {
   "cell_type": "code",
   "execution_count": 44,
   "metadata": {},
   "outputs": [],
   "source": [
    "save_file(\"train.txt\", train)\n",
    "save_file(\"test.txt\", test)"
   ]
  },
  {
   "cell_type": "code",
   "execution_count": null,
   "metadata": {},
   "outputs": [],
   "source": []
  }
 ],
 "metadata": {
  "kernelspec": {
   "display_name": "Python 3",
   "language": "python",
   "name": "python3"
  },
  "language_info": {
   "codemirror_mode": {
    "name": "ipython",
    "version": 3
   },
   "file_extension": ".py",
   "mimetype": "text/x-python",
   "name": "python",
   "nbconvert_exporter": "python",
   "pygments_lexer": "ipython3",
   "version": "3.7.1"
  }
 },
 "nbformat": 4,
 "nbformat_minor": 2
}
