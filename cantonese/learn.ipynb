{
 "cells": [
  {
   "cell_type": "code",
   "execution_count": 1,
   "metadata": {},
   "outputs": [],
   "source": [
    "import pycantonese as pc"
   ]
  },
  {
   "cell_type": "code",
   "execution_count": 4,
   "metadata": {},
   "outputs": [],
   "source": [
    "stop_words = pc.stop_words()"
   ]
  },
  {
   "cell_type": "code",
   "execution_count": 5,
   "metadata": {},
   "outputs": [
    {
     "data": {
      "text/plain": [
       "{'一啲',\n",
       " '一定',\n",
       " '不如',\n",
       " '不過',\n",
       " '之後',\n",
       " '乜',\n",
       " '乜嘢',\n",
       " '人哋',\n",
       " '但係',\n",
       " '你',\n",
       " '你哋',\n",
       " '佢',\n",
       " '佢哋',\n",
       " '係',\n",
       " '個',\n",
       " '其他',\n",
       " '冇',\n",
       " '再',\n",
       " '到',\n",
       " '即',\n",
       " '即係',\n",
       " '原來',\n",
       " '去',\n",
       " '又',\n",
       " '可以',\n",
       " '可能',\n",
       " '同',\n",
       " '同埋',\n",
       " '吖',\n",
       " '呀',\n",
       " '呢',\n",
       " '咁',\n",
       " '咗',\n",
       " '咩',\n",
       " '咪',\n",
       " '哦',\n",
       " '哩',\n",
       " '哩個',\n",
       " '哩啲',\n",
       " '哩度',\n",
       " '哩樣',\n",
       " '唔',\n",
       " '唔使',\n",
       " '唔係',\n",
       " '啊',\n",
       " '啲',\n",
       " '喎',\n",
       " '喺',\n",
       " '喺度',\n",
       " '嗯',\n",
       " '嗰',\n",
       " '嗰個',\n",
       " '嗰啲',\n",
       " '嗰度',\n",
       " '嘅',\n",
       " '嘢',\n",
       " '噉',\n",
       " '噉樣',\n",
       " '因為',\n",
       " '多',\n",
       " '太',\n",
       " '好',\n",
       " '如果',\n",
       " '就',\n",
       " '已經',\n",
       " '幾',\n",
       " '幾多',\n",
       " '得',\n",
       " '想',\n",
       " '應該',\n",
       " '成日',\n",
       " '我',\n",
       " '我哋',\n",
       " '或者',\n",
       " '所以',\n",
       " '最',\n",
       " '會',\n",
       " '有',\n",
       " '有冇',\n",
       " '有啲',\n",
       " '未',\n",
       " '梗係',\n",
       " '然之後',\n",
       " '由',\n",
       " '真係',\n",
       " '睇',\n",
       " '知',\n",
       " '而',\n",
       " '而家',\n",
       " '自己',\n",
       " '要',\n",
       " '覺得',\n",
       " '話',\n",
       " '諗',\n",
       " '講',\n",
       " '譬如',\n",
       " '跟住',\n",
       " '返',\n",
       " '過',\n",
       " '邊個',\n",
       " '都',\n",
       " '點',\n",
       " '點樣',\n",
       " '點解'}"
      ]
     },
     "execution_count": 5,
     "metadata": {},
     "output_type": "execute_result"
    }
   ],
   "source": [
    "stop_words"
   ]
  },
  {
   "cell_type": "code",
   "execution_count": 10,
   "metadata": {},
   "outputs": [],
   "source": [
    "corpus = pc.corpus.hkcancor()"
   ]
  },
  {
   "cell_type": "code",
   "execution_count": null,
   "metadata": {},
   "outputs": [],
   "source": []
  }
 ],
 "metadata": {
  "kernelspec": {
   "display_name": "Python 3",
   "language": "python",
   "name": "python3"
  },
  "language_info": {
   "codemirror_mode": {
    "name": "ipython",
    "version": 3
   },
   "file_extension": ".py",
   "mimetype": "text/x-python",
   "name": "python",
   "nbconvert_exporter": "python",
   "pygments_lexer": "ipython3",
   "version": "3.7.1"
  }
 },
 "nbformat": 4,
 "nbformat_minor": 2
}
