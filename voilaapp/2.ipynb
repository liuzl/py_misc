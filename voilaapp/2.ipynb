{
 "cells": [
  {
   "cell_type": "code",
   "execution_count": 5,
   "metadata": {},
   "outputs": [],
   "source": [
    "import re\n",
    "import base64\n",
    "import tushare as ts\n",
    "import ipywidgets as widgets\n",
    "import pyecharts.options as opts\n",
    "from pyecharts.charts import Candlestick"
   ]
  },
  {
   "cell_type": "code",
   "execution_count": 8,
   "metadata": {},
   "outputs": [
    {
     "data": {
      "application/vnd.jupyter.widget-view+json": {
       "model_id": "298e8688fa7242899acb13e6768db3f0",
       "version_major": 2,
       "version_minor": 0
      },
      "text/plain": [
       "VBox(children=(HBox(children=(Text(value='', description='输入框'), Button(description='提交', style=ButtonStyle())…"
      ]
     },
     "metadata": {},
     "output_type": "display_data"
    }
   ],
   "source": [
    "def get_stock_plot_html(code):\n",
    "    df = ts.get_k_data(code)\n",
    "    x_data = [str(x) for x in df['date']]\n",
    "    y_data = [\n",
    "        [row['open'], row['close'], row['low'], row['high']]\n",
    "        for _, row in df.iterrows()\n",
    "    ]\n",
    "    c = (\n",
    "        Candlestick(init_opts=opts.InitOpts(width=\"600px\", height=\"400px\"))\n",
    "        .add_xaxis(xaxis_data=x_data)\n",
    "        .add_yaxis(series_name=\"\", y_axis=y_data)\n",
    "        .set_series_opts()\n",
    "        .set_global_opts(\n",
    "            yaxis_opts=opts.AxisOpts(\n",
    "                splitline_opts=opts.SplitLineOpts(\n",
    "                    is_show=True, linestyle_opts=opts.LineStyleOpts(width=1)\n",
    "                )\n",
    "            )\n",
    "        )\n",
    "    )\n",
    "    out = c.render()\n",
    "    with open(out) as fp:\n",
    "        return df, fp.read()\n",
    "\n",
    "input_text = widgets.Text(description='输入框')\n",
    "submit_button = widgets.Button(description='提交')\n",
    "html = widgets.HTML(value='')\n",
    "\n",
    "def submit(*ignore):\n",
    "    code = input_text.value\n",
    "    if re.match(r'^\\d{6}$', code):\n",
    "        # 这里我们把pyecharts生成的html转换为base64编码嵌入到结果\n",
    "        df, html_src = get_stock_plot_html(code)\n",
    "        html_src_b64 = base64.b64encode(html_src.encode('utf-8')).decode('utf-8')\n",
    "        html.value = (\n",
    "            f'<iframe src=\"data:text/html;base64,{html_src_b64}\" '\n",
    "            ' frameborder=\"0\" style=\"width: 620px; height: 420px;\"></iframe>'\n",
    "            '<br />' + df.tail().to_html()\n",
    "        )\n",
    "    else:\n",
    "        html.value = f'错误的代码\"{code}\"，不是6个数字'\n",
    "    \n",
    "submit_button.on_click(submit)\n",
    "\n",
    "widgets.VBox([\n",
    "    widgets.HBox([input_text, submit_button]),\n",
    "    html\n",
    "])"
   ]
  },
  {
   "cell_type": "code",
   "execution_count": null,
   "metadata": {},
   "outputs": [],
   "source": []
  }
 ],
 "metadata": {
  "kernelspec": {
   "display_name": "Python 3",
   "language": "python",
   "name": "python3"
  },
  "language_info": {
   "codemirror_mode": {
    "name": "ipython",
    "version": 3
   },
   "file_extension": ".py",
   "mimetype": "text/x-python",
   "name": "python",
   "nbconvert_exporter": "python",
   "pygments_lexer": "ipython3",
   "version": "3.7.1"
  }
 },
 "nbformat": 4,
 "nbformat_minor": 2
}
