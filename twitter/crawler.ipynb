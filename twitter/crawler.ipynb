{
 "cells": [
  {
   "cell_type": "code",
   "execution_count": 2,
   "metadata": {},
   "outputs": [],
   "source": [
    "#!pip install twitterscraper"
   ]
  },
  {
   "cell_type": "code",
   "execution_count": 28,
   "metadata": {},
   "outputs": [],
   "source": [
    "from twitterscraper import query_tweets\n",
    "import datetime"
   ]
  },
  {
   "cell_type": "code",
   "execution_count": 29,
   "metadata": {},
   "outputs": [],
   "source": [
    "#file = open(\"output.txt\", \"w\")\n",
    "#for tweet in query_tweets(\"Trump OR Clinton\", 10):\n",
    "#    file.write(tweet.encode('utf-8'))\n",
    "#file.close()"
   ]
  },
  {
   "cell_type": "code",
   "execution_count": 30,
   "metadata": {},
   "outputs": [
    {
     "name": "stderr",
     "output_type": "stream",
     "text": [
      "INFO: queries: ['Wuhan since:2020-01-26 until:2020-01-27']\n",
      "INFO: Querying Wuhan since:2020-01-26 until:2020-01-27\n",
      "INFO: Scraping tweets from https://twitter.com/search?f=tweets&vertical=default&q=Wuhan%20since%3A2020-01-26%20until%3A2020-01-27&l=\n",
      "INFO: Using proxy 109.224.16.195:35847\n",
      "INFO: Got 18 tweets for Wuhan%20since%3A2020-01-26%20until%3A2020-01-27.\n",
      "INFO: Got 18 tweets (18 new).\n"
     ]
    }
   ],
   "source": [
    "list_of_tweets = query_tweets(\"Wuhan\", 10, begindate=datetime.date(2020, 1, 26))"
   ]
  },
  {
   "cell_type": "code",
   "execution_count": 40,
   "metadata": {},
   "outputs": [],
   "source": [
    "def default(obj):\n",
    "    \"\"\"Default JSON serializer.\"\"\"\n",
    "    import calendar, datetime\n",
    "\n",
    "    if isinstance(obj, datetime.datetime):\n",
    "        if obj.utcoffset() is not None:\n",
    "            obj = obj - obj.utcoffset()\n",
    "        millis = int(\n",
    "            calendar.timegm(obj.timetuple()) * 1000 +\n",
    "            obj.microsecond / 1000\n",
    "        )\n",
    "        return millis\n",
    "    raise TypeError('Not sure how to serialize %s' % (obj,))"
   ]
  },
  {
   "cell_type": "code",
   "execution_count": 42,
   "metadata": {},
   "outputs": [],
   "source": [
    "import json\n",
    "file = open(\"wuhan.txt\", \"w\")\n",
    "for tweet in list_of_tweets:\n",
    "    file.write(json.dumps(vars(tweet),ensure_ascii=False,default=default)+\"\\n\")\n",
    "file.close()"
   ]
  },
  {
   "cell_type": "code",
   "execution_count": 43,
   "metadata": {},
   "outputs": [],
   "source": [
    "import pandas as pd"
   ]
  },
  {
   "cell_type": "code",
   "execution_count": 46,
   "metadata": {},
   "outputs": [],
   "source": [
    "from pandas.io.json import json_normalize\n",
    "import json\n",
    "\n",
    "df = json_normalize([json.loads(x) for x in open('wuhan.txt')])"
   ]
  },
  {
   "cell_type": "code",
   "execution_count": 50,
   "metadata": {},
   "outputs": [
    {
     "data": {
      "text/plain": [
       "0     Sebenarnya kerajaan luluskan visa tu, nak umpa...\n",
       "1     Life during quarantine: Recently updated, nice...\n",
       "2     More than 2500 people infected and 80 people h...\n",
       "3     Itu lah kalau dah jadi malas membaca. Philiphi...\n",
       "4     4th mutation in Wuhan, second in surrounding a...\n",
       "5     Still, wala prin ako naririnig na official sta...\n",
       "6     It is not the truth. She is not a doctor becau...\n",
       "7     Prof gak kepengen wisata ke wuhan apa? Mumpung...\n",
       "8     #Wuhan, erste Provinz mit vollständiger 5G Abd...\n",
       "9     I hope he does okay and people listen to his w...\n",
       "10    Shithole Xi's grand idea of constructing a sha...\n",
       "11         Imagine him trying to find Wuhan on a map ? \n",
       "12                                 This is nothing yet!\n",
       "13    三天后预测总诊断人数：  2020-01-30 = 3787 \\n ( 模型R平方决定系数 ...\n",
       "14    çin de dünyada ki en tehlikeli patojenlerini a...\n",
       "15    Pesan Mahasiswa dari Wuhan: Kami Ingin Pulang,...\n",
       "16    If you’re in the US and freaking out about the...\n",
       "17    WNI di Wuhan aja susah balik ke indo, lah kita...\n",
       "Name: text, dtype: object"
      ]
     },
     "execution_count": 50,
     "metadata": {},
     "output_type": "execute_result"
    }
   ],
   "source": [
    "df['text']"
   ]
  },
  {
   "cell_type": "code",
   "execution_count": null,
   "metadata": {},
   "outputs": [],
   "source": []
  }
 ],
 "metadata": {
  "kernelspec": {
   "display_name": "Python 3",
   "language": "python",
   "name": "python3"
  },
  "language_info": {
   "codemirror_mode": {
    "name": "ipython",
    "version": 3
   },
   "file_extension": ".py",
   "mimetype": "text/x-python",
   "name": "python",
   "nbconvert_exporter": "python",
   "pygments_lexer": "ipython3",
   "version": "3.7.1"
  }
 },
 "nbformat": 4,
 "nbformat_minor": 2
}
