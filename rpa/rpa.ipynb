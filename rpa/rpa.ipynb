{
 "cells": [
  {
   "cell_type": "code",
   "execution_count": 1,
   "id": "b35e34d8",
   "metadata": {},
   "outputs": [],
   "source": [
    "import rpa as r"
   ]
  },
  {
   "cell_type": "code",
   "execution_count": 3,
   "id": "b1fd1889",
   "metadata": {},
   "outputs": [
    {
     "data": {
      "text/plain": [
       "True"
      ]
     },
     "execution_count": 3,
     "metadata": {},
     "output_type": "execute_result"
    }
   ],
   "source": [
    "r.init()"
   ]
  },
  {
   "cell_type": "code",
   "execution_count": 4,
   "id": "40f147c5",
   "metadata": {},
   "outputs": [
    {
     "data": {
      "text/plain": [
       "True"
      ]
     },
     "execution_count": 4,
     "metadata": {},
     "output_type": "execute_result"
    }
   ],
   "source": [
    "r.url('https://www.google.com')"
   ]
  },
  {
   "cell_type": "code",
   "execution_count": 5,
   "id": "1de4037a",
   "metadata": {},
   "outputs": [
    {
     "name": "stdout",
     "output_type": "stream",
     "text": [
      "找到约 61,800,000 条结果 （用时 0.40 秒）\n"
     ]
    }
   ],
   "source": [
    "r.type('//*[@name=\"q\"]', 'decentralisation[enter]')\n",
    "print(r.read('result-stats'))"
   ]
  },
  {
   "cell_type": "code",
   "execution_count": 7,
   "id": "29cf4ae0",
   "metadata": {},
   "outputs": [
    {
     "name": "stdout",
     "output_type": "stream",
     "text": [
      "找到约 3,130,000 条结果 （用时 0.42 秒）\n"
     ]
    }
   ],
   "source": [
    "r.url('https://www.google.com')\n",
    "r.type('//*[@name=\"q\"]', 'RPA是什么[enter]')\n",
    "print(r.read('result-stats'))"
   ]
  },
  {
   "cell_type": "code",
   "execution_count": null,
   "id": "a0c2f47f",
   "metadata": {},
   "outputs": [],
   "source": [
    "r.snap('page', 'results.png')"
   ]
  }
 ],
 "metadata": {
  "kernelspec": {
   "display_name": "Python 3 (ipykernel)",
   "language": "python",
   "name": "python3"
  },
  "language_info": {
   "codemirror_mode": {
    "name": "ipython",
    "version": 3
   },
   "file_extension": ".py",
   "mimetype": "text/x-python",
   "name": "python",
   "nbconvert_exporter": "python",
   "pygments_lexer": "ipython3",
   "version": "3.9.13"
  }
 },
 "nbformat": 4,
 "nbformat_minor": 5
}
