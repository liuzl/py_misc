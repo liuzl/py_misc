{
 "cells": [
  {
   "cell_type": "code",
   "execution_count": 3,
   "metadata": {},
   "outputs": [],
   "source": [
    "#!pip install pdfplumber"
   ]
  },
  {
   "cell_type": "code",
   "execution_count": 4,
   "metadata": {},
   "outputs": [],
   "source": [
    "import pdfplumber"
   ]
  },
  {
   "cell_type": "code",
   "execution_count": 6,
   "metadata": {},
   "outputs": [
    {
     "name": "stdout",
     "output_type": "stream",
     "text": [
      "{'fontname': 'EJJILL+TimesNewRomanPSMT', 'adv': Decimal('6.000'), 'upright': 1, 'x0': Decimal('303.000'), 'y0': Decimal('49.980'), 'x1': Decimal('309.000'), 'y1': Decimal('60.888'), 'width': Decimal('6.000'), 'height': Decimal('10.908'), 'size': Decimal('10.908'), 'object_type': 'char', 'page_number': 1, 'text': '3', 'top': Decimal('731.112'), 'bottom': Decimal('742.020'), 'doctop': Decimal('731.112')}\n"
     ]
    }
   ],
   "source": [
    "pdf = pdfplumber.open(\"foo.pdf\")\n",
    "first_page = pdf.pages[0]\n",
    "print(first_page.chars[0])"
   ]
  },
  {
   "cell_type": "code",
   "execution_count": 13,
   "metadata": {},
   "outputs": [],
   "source": [
    "#!brew install freetype imagemagick\n",
    "table = first_page.extract_table()"
   ]
  },
  {
   "cell_type": "code",
   "execution_count": 23,
   "metadata": {},
   "outputs": [],
   "source": [
    "import pandas as pd\n",
    "df = pd.DataFrame(table[2:], columns=table[0][:3]+table[1][-4:])"
   ]
  },
  {
   "cell_type": "code",
   "execution_count": 24,
   "metadata": {},
   "outputs": [
    {
     "data": {
      "text/html": [
       "<div>\n",
       "<style scoped>\n",
       "    .dataframe tbody tr th:only-of-type {\n",
       "        vertical-align: middle;\n",
       "    }\n",
       "\n",
       "    .dataframe tbody tr th {\n",
       "        vertical-align: top;\n",
       "    }\n",
       "\n",
       "    .dataframe thead th {\n",
       "        text-align: right;\n",
       "    }\n",
       "</style>\n",
       "<table border=\"1\" class=\"dataframe\">\n",
       "  <thead>\n",
       "    <tr style=\"text-align: right;\">\n",
       "      <th></th>\n",
       "      <th>Cycle \n",
       "Name</th>\n",
       "      <th>KI \n",
       "(1/km)</th>\n",
       "      <th>Distance \n",
       "(mi)</th>\n",
       "      <th>Improved \n",
       "Speed</th>\n",
       "      <th>Decreased \n",
       "Accel</th>\n",
       "      <th>Eliminate \n",
       "Stops</th>\n",
       "      <th>Decreased \n",
       "Idle</th>\n",
       "    </tr>\n",
       "  </thead>\n",
       "  <tbody>\n",
       "    <tr>\n",
       "      <th>0</th>\n",
       "      <td>2012_2</td>\n",
       "      <td>3.30</td>\n",
       "      <td>1.3</td>\n",
       "      <td>5.9%</td>\n",
       "      <td>9.5%</td>\n",
       "      <td>29.2%</td>\n",
       "      <td>17.4%</td>\n",
       "    </tr>\n",
       "    <tr>\n",
       "      <th>1</th>\n",
       "      <td>2145_1</td>\n",
       "      <td>0.68</td>\n",
       "      <td>11.2</td>\n",
       "      <td>2.4%</td>\n",
       "      <td>0.1%</td>\n",
       "      <td>9.5%</td>\n",
       "      <td>2.7%</td>\n",
       "    </tr>\n",
       "    <tr>\n",
       "      <th>2</th>\n",
       "      <td>4234_1</td>\n",
       "      <td>0.59</td>\n",
       "      <td>58.7</td>\n",
       "      <td>8.5%</td>\n",
       "      <td>1.3%</td>\n",
       "      <td>8.5%</td>\n",
       "      <td>3.3%</td>\n",
       "    </tr>\n",
       "    <tr>\n",
       "      <th>3</th>\n",
       "      <td>2032_2</td>\n",
       "      <td>0.17</td>\n",
       "      <td>57.8</td>\n",
       "      <td>21.7%</td>\n",
       "      <td>0.3%</td>\n",
       "      <td>2.7%</td>\n",
       "      <td>1.2%</td>\n",
       "    </tr>\n",
       "    <tr>\n",
       "      <th>4</th>\n",
       "      <td>4171_1</td>\n",
       "      <td>0.07</td>\n",
       "      <td>173.9</td>\n",
       "      <td>58.1%</td>\n",
       "      <td>1.6%</td>\n",
       "      <td>2.1%</td>\n",
       "      <td>0.5%</td>\n",
       "    </tr>\n",
       "  </tbody>\n",
       "</table>\n",
       "</div>"
      ],
      "text/plain": [
       "  Cycle \\nName KI \\n(1/km) Distance \\n(mi) Improved \\nSpeed Decreased \\nAccel  \\\n",
       "0       2012_2        3.30             1.3             5.9%              9.5%   \n",
       "1       2145_1        0.68            11.2             2.4%              0.1%   \n",
       "2       4234_1        0.59            58.7             8.5%              1.3%   \n",
       "3       2032_2        0.17            57.8            21.7%              0.3%   \n",
       "4       4171_1        0.07           173.9            58.1%              1.6%   \n",
       "\n",
       "  Eliminate \\nStops Decreased \\nIdle  \n",
       "0             29.2%            17.4%  \n",
       "1              9.5%             2.7%  \n",
       "2              8.5%             3.3%  \n",
       "3              2.7%             1.2%  \n",
       "4              2.1%             0.5%  "
      ]
     },
     "execution_count": 24,
     "metadata": {},
     "output_type": "execute_result"
    }
   ],
   "source": [
    "df"
   ]
  },
  {
   "cell_type": "code",
   "execution_count": 25,
   "metadata": {},
   "outputs": [
    {
     "data": {
      "text/plain": [
       "[['Cycle \\nName',\n",
       "  'KI \\n(1/km)',\n",
       "  'Distance \\n(mi)',\n",
       "  'Percent Fuel Savings',\n",
       "  None,\n",
       "  None,\n",
       "  None],\n",
       " [None,\n",
       "  None,\n",
       "  None,\n",
       "  'Improved \\nSpeed',\n",
       "  'Decreased \\nAccel',\n",
       "  'Eliminate \\nStops',\n",
       "  'Decreased \\nIdle'],\n",
       " ['2012_2', '3.30', '1.3', '5.9%', '9.5%', '29.2%', '17.4%'],\n",
       " ['2145_1', '0.68', '11.2', '2.4%', '0.1%', '9.5%', '2.7%'],\n",
       " ['4234_1', '0.59', '58.7', '8.5%', '1.3%', '8.5%', '3.3%'],\n",
       " ['2032_2', '0.17', '57.8', '21.7%', '0.3%', '2.7%', '1.2%'],\n",
       " ['4171_1', '0.07', '173.9', '58.1%', '1.6%', '2.1%', '0.5%']]"
      ]
     },
     "execution_count": 25,
     "metadata": {},
     "output_type": "execute_result"
    }
   ],
   "source": [
    "table"
   ]
  },
  {
   "cell_type": "code",
   "execution_count": null,
   "metadata": {},
   "outputs": [],
   "source": []
  }
 ],
 "metadata": {
  "kernelspec": {
   "display_name": "Python 3",
   "language": "python",
   "name": "python3"
  },
  "language_info": {
   "codemirror_mode": {
    "name": "ipython",
    "version": 3
   },
   "file_extension": ".py",
   "mimetype": "text/x-python",
   "name": "python",
   "nbconvert_exporter": "python",
   "pygments_lexer": "ipython3",
   "version": "3.7.1"
  }
 },
 "nbformat": 4,
 "nbformat_minor": 2
}
