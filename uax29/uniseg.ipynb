{
 "cells": [
  {
   "cell_type": "code",
   "execution_count": 3,
   "metadata": {},
   "outputs": [],
   "source": [
    "import uniseg\n",
    "import uniseg.wordbreak"
   ]
  },
  {
   "cell_type": "code",
   "execution_count": 11,
   "metadata": {},
   "outputs": [],
   "source": [
    "def words(text):\n",
    "    return [x for x in uniseg.wordbreak.words(text)]"
   ]
  },
  {
   "cell_type": "code",
   "execution_count": 12,
   "metadata": {},
   "outputs": [],
   "source": [
    "texts = [\n",
    "    '北京的冬天',\n",
    "    'one night in Beijing',\n",
    "    'liang@zliu.org是我的邮箱',\n",
    "    'abc123 is my alias, 是我的用户名',\n",
    "    \"Emerging after two hours of talks with Chinese President Xi Jinping, Trump said he doesn't fault China for taking advantage of differences between the way the two countries do business.\",\n",
    "    \"「東京動画」東京都公式動画チャンネル。都政の仕組みや街の魅力を伝える、いつでも・どこでも・誰でも楽しめるコンテンツがここに集まる！\",\n",
    "    \"트럼프 대통령의 방한은 대통령 취임 후 첫 번째 방한이자 문재인 대통령과의 세 번째 정상회담이고 미국 대통령으로서는 25년 만에 국빈 방한이라는 의미가 있었다. \",\n",
    "    \"Официальный сайт Московского государственного университета имени М.В.Ломоносова (МГУ)\",\n",
    "    \"ทันทุกเหตุการณ์ข่าววันนี้ข่าวล่าสุดตรวจหวยดวงข่าวบันเทิงคอลัมน์ดังเรื่องย่อ\",\n",
    "    \"Swedish photograper Per-Anders Jörgensen and Art Director Lotta Jörgensen are the duo behind one of the most interesting Food Magazines in the world.\",\n",
    "    \"zhanliangliu@gmail.com,      \\t\\t\\t .@#$!@  zliu.org 123 is one two three\",\n",
    "    \",，.。有意思quanjian１２３\",\n",
    "    \"，。！？【】（）％＃＠＆１２３４５６７８９０“”‘’''\\\"\\\"『』「」﹃﹄〔〕—-《》：、\",\n",
    "    \"123hj is goo. goog1e brightliang137 liang@zliu.org\",\n",
    "    \"1238 3.1415 -1.618 6.023e23 1e-13 1,234,234\",\n",
    "    \"自建房2樓3室2廳1衛1廚92.00㎡戶型圖，92km到北京\",\n",
    "    \"one-hundred and twenty-five\",\n",
    "    \"山西省煤炭地质１４８勘查院煤层气工程处\",\n",
    "    \"#\",\n",
    "    \"##\",\n",
    "    \"###\",\n",
    "    \"hello hellooooooo\"\n",
    "]"
   ]
  },
  {
   "cell_type": "code",
   "execution_count": 15,
   "metadata": {},
   "outputs": [
    {
     "name": "stdout",
     "output_type": "stream",
     "text": [
      "['北', '京', '的', '冬', '天']\n",
      "['one', ' ', 'night', ' ', 'in', ' ', 'Beijing']\n",
      "['liang', '@', 'zliu.org', '是', '我', '的', '邮', '箱']\n",
      "['abc123', ' ', 'is', ' ', 'my', ' ', 'alias', ',', ' ', '是', '我', '的', '用', '户', '名']\n",
      "['Emerging', ' ', 'after', ' ', 'two', ' ', 'hours', ' ', 'of', ' ', 'talks', ' ', 'with', ' ', 'Chinese', ' ', 'President', ' ', 'Xi', ' ', 'Jinping', ',', ' ', 'Trump', ' ', 'said', ' ', 'he', ' ', \"doesn't\", ' ', 'fault', ' ', 'China', ' ', 'for', ' ', 'taking', ' ', 'advantage', ' ', 'of', ' ', 'differences', ' ', 'between', ' ', 'the', ' ', 'way', ' ', 'the', ' ', 'two', ' ', 'countries', ' ', 'do', ' ', 'business', '.']\n",
      "['「', '東', '京', '動', '画', '」', '東', '京', '都', '公', '式', '動', '画', 'チャンネル', '。', '都', '政', 'の', '仕', '組', 'み', 'や', '街', 'の', '魅', '力', 'を', '伝', 'え', 'る', '、', 'い', 'つ', 'で', 'も', '・', 'ど', 'こ', 'で', 'も', '・', '誰', 'で', 'も', '楽', 'し', 'め', 'る', 'コンテンツ', 'が', 'こ', 'こ', 'に', '集', 'ま', 'る', '！']\n",
      "['트럼프', ' ', '대통령의', ' ', '방한은', ' ', '대통령', ' ', '취임', ' ', '후', ' ', '첫', ' ', '번째', ' ', '방한이자', ' ', '문재인', ' ', '대통령과의', ' ', '세', ' ', '번째', ' ', '정상회담이고', ' ', '미국', ' ', '대통령으로서는', ' ', '25년', ' ', '만에', ' ', '국빈', ' ', '방한이라는', ' ', '의미가', ' ', '있었다', '.', ' ']\n",
      "['Официальный', ' ', 'сайт', ' ', 'Московского', ' ', 'государственного', ' ', 'университета', ' ', 'имени', ' ', 'М.В.Ломоносова', ' ', '(', 'МГУ', ')']\n",
      "['ทั', 'น', 'ทุ', 'ก', 'เ', 'ห', 'ตุ', 'ก', 'า', 'ร', 'ณ์', 'ข่', 'า', 'ว', 'วั', 'น', 'นี้', 'ข่', 'า', 'ว', 'ล่', 'า', 'สุ', 'ด', 'ต', 'ร', 'ว', 'จ', 'ห', 'ว', 'ย', 'ด', 'ว', 'ง', 'ข่', 'า', 'ว', 'บั', 'น', 'เ', 'ทิ', 'ง', 'ค', 'อ', 'ลั', 'ม', 'น์', 'ดั', 'ง', 'เ', 'รื่', 'อ', 'ง', 'ย่', 'อ']\n",
      "['Swedish', ' ', 'photograper', ' ', 'Per', '-', 'Anders', ' ', 'Jörgensen', ' ', 'and', ' ', 'Art', ' ', 'Director', ' ', 'Lotta', ' ', 'Jörgensen', ' ', 'are', ' ', 'the', ' ', 'duo', ' ', 'behind', ' ', 'one', ' ', 'of', ' ', 'the', ' ', 'most', ' ', 'interesting', ' ', 'Food', ' ', 'Magazines', ' ', 'in', ' ', 'the', ' ', 'world', '.']\n",
      "['zhanliangliu', '@', 'gmail.com', ',', ' ', ' ', ' ', ' ', ' ', ' ', '\\t', '\\t', '\\t', ' ', '.', '@', '#', '$', '!', '@', ' ', ' ', 'zliu.org', ' ', '123', ' ', 'is', ' ', 'one', ' ', 'two', ' ', 'three']\n",
      "[',', '，', '.', '。', '有', '意', '思', 'quanjian', '１', '２', '３']\n",
      "['，', '。', '！', '？', '【', '】', '（', '）', '％', '＃', '＠', '＆', '１', '２', '３', '４', '５', '６', '７', '８', '９', '０', '“', '”', '‘', '’', \"'\", \"'\", '\"', '\"', '『', '』', '「', '」', '﹃', '﹄', '〔', '〕', '—', '-', '《', '》', '：', '、']\n",
      "['123hj', ' ', 'is', ' ', 'goo', '.', ' ', 'goog1e', ' ', 'brightliang137', ' ', 'liang', '@', 'zliu.org']\n",
      "['1238', ' ', '3.1415', ' ', '-', '1.618', ' ', '6.023e23', ' ', '1e', '-', '13', ' ', '1,234,234']\n",
      "['自', '建', '房', '2', '樓', '3', '室', '2', '廳', '1', '衛', '1', '廚', '92.00', '㎡', '戶', '型', '圖', '，', '92km', '到', '北', '京']\n",
      "['one', '-', 'hundred', ' ', 'and', ' ', 'twenty', '-', 'five']\n",
      "['山', '西', '省', '煤', '炭', '地', '质', '１', '４', '８', '勘', '查', '院', '煤', '层', '气', '工', '程', '处']\n",
      "['#']\n",
      "['#', '#']\n",
      "['#', '#', '#']\n",
      "['hello', ' ', 'hellooooooo']\n"
     ]
    }
   ],
   "source": [
    "for text in texts:\n",
    "    print(words(text))"
   ]
  },
  {
   "cell_type": "code",
   "execution_count": null,
   "metadata": {},
   "outputs": [],
   "source": []
  }
 ],
 "metadata": {
  "kernelspec": {
   "display_name": "Python 3",
   "language": "python",
   "name": "python3"
  },
  "language_info": {
   "codemirror_mode": {
    "name": "ipython",
    "version": 3
   },
   "file_extension": ".py",
   "mimetype": "text/x-python",
   "name": "python",
   "nbconvert_exporter": "python",
   "pygments_lexer": "ipython3",
   "version": "3.7.1"
  }
 },
 "nbformat": 4,
 "nbformat_minor": 2
}
