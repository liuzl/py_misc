{
 "cells": [
  {
   "cell_type": "code",
   "execution_count": 1,
   "metadata": {},
   "outputs": [],
   "source": [
    "import uniseg\n",
    "import uniseg.wordbreak"
   ]
  },
  {
   "cell_type": "code",
   "execution_count": 2,
   "metadata": {},
   "outputs": [],
   "source": [
    "def words(text):\n",
    "    return [x for x in uniseg.wordbreak.words(text)]"
   ]
  },
  {
   "cell_type": "code",
   "execution_count": 3,
   "metadata": {},
   "outputs": [],
   "source": [
    "texts = [\n",
    "\"I'm ok. but I still don't know who's my boy.\",\n",
    "\"This is Zhanliang's book. the boys' books.\",\n",
    "\"自建房2樓3室2廳1衛1廚92.00㎡戶型圖，2,123km到北京\",\n",
    "\"自建房2樓3室2廳1衛1廚92.00㎡戶型圖，92km到北京\",\n",
    "\"自建房2樓3室2廳1衛1廚92.00㎡戶型圖，+92.54km到北京\",\n",
    "\"山西省煤炭地质１４８勘查院煤层气工程处\",\n",
    "\"北京ทันทุกเหตุการ有限公司\",\n",
    "\"23:45:31.965.805\",\n",
    "\"23:45:31.965.805cm\",\n",
    "\"pada 2018-06-30 23:45:31.965805 +7:00. Saldo\",\n",
    "\"2008-09-15T15:53:00 +04:30\",\n",
    "]"
   ]
  },
  {
   "cell_type": "code",
   "execution_count": 4,
   "metadata": {},
   "outputs": [
    {
     "name": "stdout",
     "output_type": "stream",
     "text": [
      "[\"I'm\", ' ', 'ok', '.', ' ', 'but', ' ', 'I', ' ', 'still', ' ', \"don't\", ' ', 'know', ' ', \"who's\", ' ', 'my', ' ', 'boy', '.']\n",
      "['This', ' ', 'is', ' ', \"Zhanliang's\", ' ', 'book', '.', ' ', 'the', ' ', 'boys', \"'\", ' ', 'books', '.']\n",
      "['自', '建', '房', '2', '樓', '3', '室', '2', '廳', '1', '衛', '1', '廚', '92.00', '㎡', '戶', '型', '圖', '，', '2,123km', '到', '北', '京']\n",
      "['自', '建', '房', '2', '樓', '3', '室', '2', '廳', '1', '衛', '1', '廚', '92.00', '㎡', '戶', '型', '圖', '，', '92km', '到', '北', '京']\n",
      "['自', '建', '房', '2', '樓', '3', '室', '2', '廳', '1', '衛', '1', '廚', '92.00', '㎡', '戶', '型', '圖', '，', '+', '92.54km', '到', '北', '京']\n",
      "['山', '西', '省', '煤', '炭', '地', '质', '１', '４', '８', '勘', '查', '院', '煤', '层', '气', '工', '程', '处']\n",
      "['北', '京', 'ทั', 'น', 'ทุ', 'ก', 'เ', 'ห', 'ตุ', 'ก', 'า', 'ร', '有', '限', '公', '司']\n",
      "['23', ':', '45', ':', '31.965.805']\n",
      "['23', ':', '45', ':', '31.965.805cm']\n",
      "['pada', ' ', '2018', '-', '06', '-', '30', ' ', '23', ':', '45', ':', '31.965805', ' ', '+', '7', ':', '00', '.', ' ', 'Saldo']\n",
      "['2008', '-', '09', '-', '15T15', ':', '53', ':', '00', ' ', '+', '04', ':', '30']\n"
     ]
    }
   ],
   "source": [
    "for text in texts:\n",
    "    print(words(text))"
   ]
  },
  {
   "cell_type": "code",
   "execution_count": null,
   "metadata": {},
   "outputs": [],
   "source": []
  }
 ],
 "metadata": {
  "kernelspec": {
   "display_name": "Python 3",
   "language": "python",
   "name": "python3"
  },
  "language_info": {
   "codemirror_mode": {
    "name": "ipython",
    "version": 3
   },
   "file_extension": ".py",
   "mimetype": "text/x-python",
   "name": "python",
   "nbconvert_exporter": "python",
   "pygments_lexer": "ipython3",
   "version": "3.7.1"
  }
 },
 "nbformat": 4,
 "nbformat_minor": 2
}
