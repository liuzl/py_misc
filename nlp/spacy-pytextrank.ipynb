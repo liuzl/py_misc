{
 "cells": [
  {
   "cell_type": "code",
   "execution_count": 5,
   "metadata": {},
   "outputs": [],
   "source": [
    "import spacy\n",
    "import pytextrank"
   ]
  },
  {
   "cell_type": "code",
   "execution_count": 2,
   "metadata": {},
   "outputs": [],
   "source": [
    "nlp = spacy.load('en_core_web_sm')"
   ]
  },
  {
   "cell_type": "code",
   "execution_count": 6,
   "metadata": {},
   "outputs": [],
   "source": [
    "tr = pytextrank.TextRank()\n",
    "nlp.add_pipe(tr.PipelineComponent, name='textrank', last=True)"
   ]
  },
  {
   "cell_type": "code",
   "execution_count": 7,
   "metadata": {},
   "outputs": [],
   "source": [
    "text = 'Compatibility of systems of linear constraints over the set of natural numbers. Criteria of compatibility of a system of linear Diophantine equations, strict inequations, and nonstrict inequations are considered.'\n",
    "doc = nlp(text)"
   ]
  },
  {
   "cell_type": "code",
   "execution_count": 8,
   "metadata": {},
   "outputs": [
    {
     "name": "stdout",
     "output_type": "stream",
     "text": [
      "0.1907     1  linear diophantine equations\n",
      "[linear Diophantine equations]\n",
      "0.1781     1  nonstrict inequations\n",
      "[nonstrict inequations]\n",
      "0.1699     1  strict inequations\n",
      "[strict inequations]\n",
      "0.1669     1  linear constraints\n",
      "[linear constraints]\n",
      "0.1555     2  systems\n",
      "[systems, a system]\n",
      "0.1410     1  natural numbers\n",
      "[natural numbers]\n",
      "0.1250     1  diophantine\n",
      "[Diophantine]\n",
      "0.1202     2  compatibility\n",
      "[Compatibility, compatibility]\n",
      "0.0795     1  criteria\n",
      "[Criteria]\n",
      "0.0672     1  the set\n",
      "[the set]\n"
     ]
    }
   ],
   "source": [
    "# examine the top-ranked phrases in the document\n",
    "for p in doc._.phrases:\n",
    "    print('{:.4f} {:5d}  {}'.format(p.rank, p.count, p.text))\n",
    "    print(p.chunks)"
   ]
  },
  {
   "cell_type": "code",
   "execution_count": null,
   "metadata": {},
   "outputs": [],
   "source": []
  }
 ],
 "metadata": {
  "kernelspec": {
   "display_name": "Python 3",
   "language": "python",
   "name": "python3"
  },
  "language_info": {
   "codemirror_mode": {
    "name": "ipython",
    "version": 3
   },
   "file_extension": ".py",
   "mimetype": "text/x-python",
   "name": "python",
   "nbconvert_exporter": "python",
   "pygments_lexer": "ipython3",
   "version": "3.7.1"
  }
 },
 "nbformat": 4,
 "nbformat_minor": 2
}
