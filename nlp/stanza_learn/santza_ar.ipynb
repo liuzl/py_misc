{
 "cells": [
  {
   "cell_type": "code",
   "execution_count": 1,
   "metadata": {},
   "outputs": [],
   "source": [
    "import stanza"
   ]
  },
  {
   "cell_type": "code",
   "execution_count": 2,
   "metadata": {},
   "outputs": [
    {
     "name": "stderr",
     "output_type": "stream",
     "text": [
      "2020-03-17 20:52:03 INFO: Loading these models for language: ar (Arabic):\n",
      "=======================\n",
      "| Processor | Package |\n",
      "-----------------------\n",
      "| tokenize  | padt    |\n",
      "| mwt       | padt    |\n",
      "| pos       | padt    |\n",
      "| lemma     | padt    |\n",
      "| depparse  | padt    |\n",
      "| ner       | aqmar   |\n",
      "=======================\n",
      "\n",
      "2020-03-17 20:52:03 INFO: Use device: gpu\n",
      "2020-03-17 20:52:03 INFO: Loading: tokenize\n",
      "2020-03-17 20:52:09 INFO: Loading: mwt\n",
      "2020-03-17 20:52:09 INFO: Loading: pos\n",
      "2020-03-17 20:52:10 INFO: Loading: lemma\n",
      "2020-03-17 20:52:10 INFO: Loading: depparse\n",
      "2020-03-17 20:52:12 INFO: Loading: ner\n",
      "2020-03-17 20:52:13 INFO: Done loading processors!\n"
     ]
    }
   ],
   "source": [
    "nlp = stanza.Pipeline(lang='ar')"
   ]
  },
  {
   "cell_type": "code",
   "execution_count": 3,
   "metadata": {},
   "outputs": [],
   "source": [
    "text = '''شهدت نهاية الستينيات من القرن الماضي تكاتف كل من معهد ماساتشوستس للتقنية, شركة إيه تي أند تي (مختبرات بيل)، وشركة جنرال إلكتريك للعمل على نظام تشغيل تجريبي أُطلق عليه اسم مولتكس. كان يفترض بالنظام مولتكس أن يكون تفاعلياً ومتجاوباً مع مستخدمي النظام ناهيك عن الضرورة الأمنية للنظام من محاولات اختراق الملفات السرية التي يقوم بحفظها في مستودع الحفظ. رأى المشروع النور على شكل نظام تشغيل قابل للتطبيق إلا أن النظام أظهر أداءً '''"
   ]
  },
  {
   "cell_type": "code",
   "execution_count": 4,
   "metadata": {},
   "outputs": [],
   "source": [
    "doc = nlp(text)"
   ]
  },
  {
   "cell_type": "code",
   "execution_count": 5,
   "metadata": {},
   "outputs": [
    {
     "data": {
      "text/plain": [
       "3"
      ]
     },
     "execution_count": 5,
     "metadata": {},
     "output_type": "execute_result"
    }
   ],
   "source": [
    "len(doc.sentences)"
   ]
  },
  {
   "cell_type": "code",
   "execution_count": 6,
   "metadata": {},
   "outputs": [],
   "source": [
    "tokens = doc.sentences[0].tokens"
   ]
  },
  {
   "cell_type": "code",
   "execution_count": 7,
   "metadata": {},
   "outputs": [
    {
     "data": {
      "text/plain": [
       "{\n",
       "  \"id\": \"1\",\n",
       "  \"text\": \"شهدت\",\n",
       "  \"lemma\": \"شَهِد\",\n",
       "  \"upos\": \"VERB\",\n",
       "  \"xpos\": \"VP-A-3FS--\",\n",
       "  \"feats\": \"Aspect=Perf|Gender=Fem|Number=Sing|Person=3|Voice=Act\",\n",
       "  \"head\": 0,\n",
       "  \"deprel\": \"root\",\n",
       "  \"misc\": \"start_char=0|end_char=4\"\n",
       "}"
      ]
     },
     "execution_count": 7,
     "metadata": {},
     "output_type": "execute_result"
    }
   ],
   "source": [
    "doc.sentences[0].words[0]"
   ]
  },
  {
   "cell_type": "code",
   "execution_count": 10,
   "metadata": {},
   "outputs": [
    {
     "data": {
      "text/plain": [
       "{\n",
       "  \"text\": \"معهد ماساتشوستس للتقنية\",\n",
       "  \"type\": \"LOC\",\n",
       "  \"start_char\": 49,\n",
       "  \"end_char\": 72\n",
       "}"
      ]
     },
     "execution_count": 10,
     "metadata": {},
     "output_type": "execute_result"
    }
   ],
   "source": [
    "doc.sentences[0].ents[0]"
   ]
  },
  {
   "cell_type": "code",
   "execution_count": null,
   "metadata": {},
   "outputs": [],
   "source": []
  }
 ],
 "metadata": {
  "kernelspec": {
   "display_name": "Python 3",
   "language": "python",
   "name": "python3"
  },
  "language_info": {
   "codemirror_mode": {
    "name": "ipython",
    "version": 3
   },
   "file_extension": ".py",
   "mimetype": "text/x-python",
   "name": "python",
   "nbconvert_exporter": "python",
   "pygments_lexer": "ipython3",
   "version": "3.7.6"
  }
 },
 "nbformat": 4,
 "nbformat_minor": 4
}
