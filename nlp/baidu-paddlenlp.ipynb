{
 "cells": [
  {
   "cell_type": "code",
   "execution_count": 3,
   "id": "b2e365cf",
   "metadata": {},
   "outputs": [],
   "source": [
    "from paddlenlp import Taskflow"
   ]
  },
  {
   "cell_type": "markdown",
   "id": "501702eb",
   "metadata": {},
   "source": [
    "# 中文分词"
   ]
  },
  {
   "cell_type": "code",
   "execution_count": 36,
   "id": "4323504b",
   "metadata": {},
   "outputs": [
    {
     "name": "stderr",
     "output_type": "stream",
     "text": [
      "\u001b[32m[2022-05-18 09:43:40,695] [    INFO]\u001b[0m - Already cached /Users/zliu/.paddlenlp/models/wordtag/vocab.txt\u001b[0m\n"
     ]
    }
   ],
   "source": [
    "seg = Taskflow(\"word_segmentation\")\n",
    "seg_accurate = Taskflow(\"word_segmentation\", mode=\"accurate\")"
   ]
  },
  {
   "cell_type": "code",
   "execution_count": 7,
   "id": "8085d41e",
   "metadata": {},
   "outputs": [
    {
     "data": {
      "text/plain": [
       "['近日', '国家卫健委', '发布', '第九版', '新型', '冠状病毒肺炎', '诊疗', '方案']"
      ]
     },
     "execution_count": 7,
     "metadata": {},
     "output_type": "execute_result"
    }
   ],
   "source": [
    "seg(\"近日国家卫健委发布第九版新型冠状病毒肺炎诊疗方案\")"
   ]
  },
  {
   "cell_type": "code",
   "execution_count": 8,
   "id": "83f5660d",
   "metadata": {},
   "outputs": [
    {
     "data": {
      "text/plain": [
       "['近日', '国家卫健委', '发布', '第九版', '新型冠状病毒肺炎', '诊疗', '方案']"
      ]
     },
     "execution_count": 8,
     "metadata": {},
     "output_type": "execute_result"
    }
   ],
   "source": [
    "seg_accurate(\"近日国家卫健委发布第九版新型冠状病毒肺炎诊疗方案\")"
   ]
  },
  {
   "cell_type": "code",
   "execution_count": 9,
   "id": "4472bd3d",
   "metadata": {},
   "outputs": [
    {
     "data": {
      "text/plain": [
       "[['第十四届', '全运会', '在', '西安', '举办'], ['三亚', '是', '一个', '美丽', '的', '城市']]"
      ]
     },
     "execution_count": 9,
     "metadata": {},
     "output_type": "execute_result"
    }
   ],
   "source": [
    "seg([\"第十四届全运会在西安举办\", \"三亚是一个美丽的城市\"])"
   ]
  },
  {
   "cell_type": "markdown",
   "id": "06e6a650",
   "metadata": {},
   "source": [
    "# 词性标注\n",
    "\n",
    "基于百度词法分析工具LAC"
   ]
  },
  {
   "cell_type": "code",
   "execution_count": 10,
   "id": "28c64524",
   "metadata": {},
   "outputs": [],
   "source": [
    "tag = Taskflow(\"pos_tagging\")"
   ]
  },
  {
   "cell_type": "code",
   "execution_count": 11,
   "id": "becc9b2d",
   "metadata": {},
   "outputs": [
    {
     "data": {
      "text/plain": [
       "[[('第十四届', 'm'), ('全运会', 'nz'), ('在', 'p'), ('西安', 'LOC'), ('举办', 'v')],\n",
       " [('三亚', 'LOC'),\n",
       "  ('是', 'v'),\n",
       "  ('一个', 'm'),\n",
       "  ('美丽', 'a'),\n",
       "  ('的', 'u'),\n",
       "  ('城市', 'n')]]"
      ]
     },
     "execution_count": 11,
     "metadata": {},
     "output_type": "execute_result"
    }
   ],
   "source": [
    "tag([\"第十四届全运会在西安举办\", \"三亚是一个美丽的城市\"])"
   ]
  },
  {
   "cell_type": "markdown",
   "id": "6f3ef7db",
   "metadata": {},
   "source": [
    "# 命名实体识别"
   ]
  },
  {
   "cell_type": "code",
   "execution_count": 12,
   "id": "4433efad",
   "metadata": {},
   "outputs": [
    {
     "name": "stderr",
     "output_type": "stream",
     "text": [
      "\u001b[32m[2022-05-17 15:23:30,371] [    INFO]\u001b[0m - Already cached /Users/zliu/.paddlenlp/models/wordtag/vocab.txt\u001b[0m\n"
     ]
    }
   ],
   "source": [
    "ner = Taskflow('ner')"
   ]
  },
  {
   "cell_type": "code",
   "execution_count": 13,
   "id": "1174827b",
   "metadata": {},
   "outputs": [
    {
     "data": {
      "text/plain": [
       "[('《', 'w'),\n",
       " ('孤女', '作品类_实体'),\n",
       " ('》', 'w'),\n",
       " ('是', '肯定词'),\n",
       " ('2010年', '时间类'),\n",
       " ('九州出版社', '组织机构类'),\n",
       " ('出版', '场景事件'),\n",
       " ('的', '助词'),\n",
       " ('小说', '作品类_概念'),\n",
       " ('，', 'w'),\n",
       " ('作者', '人物类_概念'),\n",
       " ('是', '肯定词'),\n",
       " ('余兼羽', '人物类_实体')]"
      ]
     },
     "execution_count": 13,
     "metadata": {},
     "output_type": "execute_result"
    }
   ],
   "source": [
    "ner(\"《孤女》是2010年九州出版社出版的小说，作者是余兼羽\")"
   ]
  },
  {
   "cell_type": "markdown",
   "id": "b52aaa0a",
   "metadata": {},
   "source": [
    "# 信息抽取"
   ]
  },
  {
   "cell_type": "code",
   "execution_count": 33,
   "id": "6d02d1af",
   "metadata": {},
   "outputs": [
    {
     "name": "stderr",
     "output_type": "stream",
     "text": [
      "\u001b[32m[2022-05-17 20:34:08,952] [    INFO]\u001b[0m - We are using <class 'paddlenlp.transformers.ernie.tokenizer.ErnieTokenizer'> to load 'ernie-3.0-base-zh'.\u001b[0m\n",
      "\u001b[32m[2022-05-17 20:34:08,955] [    INFO]\u001b[0m - Already cached /Users/zliu/.paddlenlp/models/ernie-3.0-base-zh/ernie_3.0_base_zh_vocab.txt\u001b[0m\n"
     ]
    }
   ],
   "source": [
    "schema = ['时间', '选手', '赛事名称', '得分', '国籍', '城市']\n",
    "ie = Taskflow('information_extraction', schema=schema)"
   ]
  },
  {
   "cell_type": "code",
   "execution_count": 35,
   "id": "de0cc873",
   "metadata": {},
   "outputs": [
    {
     "data": {
      "text/plain": [
       "[{'时间': [{'text': '2月8日上午',\n",
       "    'start': 0,\n",
       "    'end': 6,\n",
       "    'probability': 0.9857378532924486}],\n",
       "  '选手': [{'text': '谷爱凌',\n",
       "    'start': 28,\n",
       "    'end': 31,\n",
       "    'probability': 0.8981548639781138}],\n",
       "  '赛事名称': [{'text': '北京冬奥会自由式滑雪女子大跳台决赛',\n",
       "    'start': 6,\n",
       "    'end': 23,\n",
       "    'probability': 0.8503089452180177}],\n",
       "  '得分': [{'text': '188.25分',\n",
       "    'start': 32,\n",
       "    'end': 39,\n",
       "    'probability': 0.9880464285063937}],\n",
       "  '国籍': [{'text': '中国',\n",
       "    'start': 24,\n",
       "    'end': 26,\n",
       "    'probability': 0.9938963619438255}],\n",
       "  '城市': [{'text': '北京',\n",
       "    'start': 6,\n",
       "    'end': 8,\n",
       "    'probability': 0.8775704618909685}]}]"
      ]
     },
     "execution_count": 35,
     "metadata": {},
     "output_type": "execute_result"
    }
   ],
   "source": [
    "ie(\"2月8日上午北京冬奥会自由式滑雪女子大跳台决赛中中国选手谷爱凌以188.25分获得金牌！\")"
   ]
  },
  {
   "cell_type": "code",
   "execution_count": 29,
   "id": "92540e34",
   "metadata": {},
   "outputs": [
    {
     "data": {
      "text/plain": [
       "[{'出发城市': [{'text': '北京',\n",
       "    'start': 1,\n",
       "    'end': 3,\n",
       "    'probability': 0.720984035426504},\n",
       "   {'text': '深圳', 'start': 4, 'end': 6, 'probability': 0.49259938673353787}]}]"
      ]
     },
     "execution_count": 29,
     "metadata": {},
     "output_type": "execute_result"
    }
   ],
   "source": [
    "ie(\"从北京到深圳的火车\")"
   ]
  },
  {
   "cell_type": "code",
   "execution_count": null,
   "id": "a5de120c",
   "metadata": {},
   "outputs": [],
   "source": []
  }
 ],
 "metadata": {
  "kernelspec": {
   "display_name": "Python 3 (ipykernel)",
   "language": "python",
   "name": "python3"
  },
  "language_info": {
   "codemirror_mode": {
    "name": "ipython",
    "version": 3
   },
   "file_extension": ".py",
   "mimetype": "text/x-python",
   "name": "python",
   "nbconvert_exporter": "python",
   "pygments_lexer": "ipython3",
   "version": "3.9.7"
  }
 },
 "nbformat": 4,
 "nbformat_minor": 5
}
