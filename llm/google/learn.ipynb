{
 "cells": [
  {
   "cell_type": "code",
   "execution_count": 1,
   "metadata": {},
   "outputs": [],
   "source": [
    "import os\n",
    "import json\n",
    "import requests\n",
    "from dotenv import load_dotenv, find_dotenv\n",
    "_ = load_dotenv(find_dotenv())"
   ]
  },
  {
   "cell_type": "code",
   "execution_count": 2,
   "metadata": {},
   "outputs": [],
   "source": [
    "model = \"gemini-pro\"\n",
    "prompt = \"北京下大雪了，以李白的风格写一首诗：\\n\"\n",
    "url = f\"https://googleapis.fmr.wiki/v1beta/models/{model}:generateContent?key={os.getenv('GOOGLE_API_KEY')}\"\n",
    "headers = {\"Content-Type\": \"application/json\"}\n",
    "data = {\n",
    "    \"contents\": [{\n",
    "        \"parts\":[{\n",
    "            \"text\": prompt\n",
    "        }]\n",
    "    }]\n",
    "}"
   ]
  },
  {
   "cell_type": "code",
   "execution_count": 3,
   "metadata": {},
   "outputs": [],
   "source": [
    "ret = requests.post(url, json.dumps(data), headers=headers)"
   ]
  },
  {
   "cell_type": "code",
   "execution_count": 4,
   "metadata": {},
   "outputs": [],
   "source": [
    "text = ret.json()['candidates'][0]['content']['parts'][0]['text']"
   ]
  },
  {
   "cell_type": "code",
   "execution_count": 5,
   "metadata": {},
   "outputs": [
    {
     "name": "stdout",
     "output_type": "stream",
     "text": [
      "北风怒号雪飞扬，玉宇琼楼下界来。\n",
      "万里江山披银装，九州大地一片白。\n",
      "\n",
      "银装素裹分外妖，琼枝玉叶舞翩跹。\n",
      "恰似天仙下凡尘，人间仙境入画来。\n",
      "\n",
      "雪花飞舞如柳絮，柳絮轻扬似雪花。\n",
      "忽散忽聚难捉摸，缥缈虚无如梦境。\n",
      "\n",
      "雪压枝头花不惧，迎风傲雪绽芬芳。\n",
      "梅花独傲凌寒开，风骨铮铮傲然在。\n",
      "\n",
      "银色世界美如画，白雪皑皑壮如歌。\n",
      "赞叹伟大造物主，奇观异景醉人心。\n",
      "\n",
      "同享冰雪童话趣，共赏北国冬日美。\n",
      "寒冬时节暖意浓，雪中洋溢欢声笑。\n",
      "\n",
      "诗成雪落观梅时，一碗清酒醉己身。\n",
      "人生得意须尽欢，且行且珍惜眼前。\n"
     ]
    }
   ],
   "source": [
    "print(text)"
   ]
  },
  {
   "cell_type": "code",
   "execution_count": 6,
   "metadata": {},
   "outputs": [],
   "source": [
    "model = \"gemini-pro-vision\"\n",
    "prompt = '''As a genius expert, your task is to understand the content and provide the parsed objects in json that match the following json_schema:\n",
    "\n",
    "{'result': {'default': [], 'items': {'$ref': '#/$defs/ResultDetail'}, 'title': 'Result', 'type': 'array'}, 'description': {'title': 'Description', 'type': 'string'}}\n",
    "                \n",
    "Here are some more definitions to adhere too:\n",
    "{'Category': {'properties': {'primary': {'title': 'Primary', 'type': 'string'}, 'secondary': {'title': 'Secondary', 'type': 'string'}}, 'required': ['primary', 'secondary'], 'title': 'Category', 'type': 'object'}, 'ResultDetail': {'properties': {'exist': {'title': 'Exist', 'type': 'string'}, 'category': {'anyOf': [{'$ref': '#/$defs/Category'}, {'type': 'null'}], 'default': None}, 'freshness': {'title': 'Freshness', 'type': 'string'}, 'description': {'title': 'Description', 'type': 'string'}}, 'required': ['exist', 'freshness', 'description'], 'title': 'ResultDetail', 'type': 'object'}}\n",
    "\n",
    "任务简介：\n",
    "- 识别每张图片中的主要物品，判断其分类并评估新旧程度。\n",
    "\n",
    "分类标准：\n",
    "- 服装：大衣、皮衣、半袖、裤子、裙子、内衣裤、秋衣类、毛衣类、工装、校服。\n",
    "- 家电：空气净化器、厨房家电、家居家电。\n",
    "- 乐器：电子乐器、琴类。\n",
    "- 玩具：小件（手办）、大件、毛绒玩具。\n",
    "- 图书：儿童绘本、课外书、小说、套装书籍、课本。\n",
    "- 手机：智能手机、功能机。\n",
    "- 笔记本电脑：品牌电脑、非品牌电脑。\n",
    "\n",
    "对于没有给出分类的物品，需要你自行判断一级分类（primary）和二级分类（secondary），此时exist设置为\"否\"。\n",
    "'''\n",
    "url = f\"https://googleapis.fmr.wiki/v1beta/models/{model}:generateContent?key={os.getenv('GOOGLE_API_KEY')}\"\n",
    "headers = {\"Content-Type\": \"application/json\"}"
   ]
  },
  {
   "cell_type": "code",
   "execution_count": 7,
   "metadata": {},
   "outputs": [],
   "source": [
    "import base64\n",
    "\n",
    "def image_data(image):\n",
    "    return base64.b64encode(requests.get(image).content).decode()\n",
    "\n",
    "def describe_multiple(images, prompt=prompt):\n",
    "    data = {\n",
    "        \"contents\": [{\n",
    "            \"parts\":[{\"text\": prompt}] +\n",
    "                [{\"inline_data\": {\"mime_type\":\"image/jpeg\",\"data\": image_data(image)}} for image in images]\n",
    "        }]\n",
    "    }\n",
    "    resp = requests.post(url, json.dumps(data), headers=headers)\n",
    "    return resp"
   ]
  },
  {
   "cell_type": "code",
   "execution_count": 8,
   "metadata": {},
   "outputs": [],
   "source": [
    "urls = [f\"https://milo-test.oss-cn-zhangjiakou.aliyuncs.com/hdd/batch1/image{i+1:03}.png\" for i in range(241)]"
   ]
  },
  {
   "cell_type": "code",
   "execution_count": 9,
   "metadata": {},
   "outputs": [
    {
     "name": "stdout",
     "output_type": "stream",
     "text": [
      "CPU times: user 461 ms, sys: 51.3 ms, total: 512 ms\n",
      "Wall time: 33.5 s\n"
     ]
    }
   ],
   "source": [
    "%%time\n",
    "ret = describe_multiple(urls[:10])"
   ]
  },
  {
   "cell_type": "code",
   "execution_count": 10,
   "metadata": {},
   "outputs": [],
   "source": [
    "result = ret.json()['candidates'][0]['content']['parts'][0]['text']"
   ]
  },
  {
   "cell_type": "code",
   "execution_count": 11,
   "metadata": {},
   "outputs": [],
   "source": [
    "from typing import List\n",
    "from pydantic import BaseModel\n",
    "\n",
    "class Category(BaseModel):\n",
    "    primary: str\n",
    "    secondary: str\n",
    "\n",
    "class ResultDetail(BaseModel):\n",
    "    exist: str\n",
    "    category: Category | None = None\n",
    "    freshness: str\n",
    "    description: str\n",
    "\n",
    "class ResultList(BaseModel):\n",
    "    result: List[ResultDetail] = []\n",
    "    description: str = None"
   ]
  },
  {
   "cell_type": "code",
   "execution_count": 12,
   "metadata": {},
   "outputs": [],
   "source": [
    "import json"
   ]
  },
  {
   "cell_type": "code",
   "execution_count": 13,
   "metadata": {},
   "outputs": [],
   "source": [
    "data = json.loads(result.strip().lstrip(\"```json\").rstrip(\"```\"))"
   ]
  },
  {
   "cell_type": "code",
   "execution_count": 14,
   "metadata": {},
   "outputs": [],
   "source": [
    "ret = ResultList(**data)"
   ]
  },
  {
   "cell_type": "code",
   "execution_count": 15,
   "metadata": {},
   "outputs": [],
   "source": [
    "from IPython.display import Image, display, HTML"
   ]
  },
  {
   "cell_type": "code",
   "execution_count": 16,
   "metadata": {},
   "outputs": [],
   "source": [
    "table = \"<table><tr><th>Text</th><th>Image</th></tr>\"\n",
    "for i in range(10):\n",
    "    table += f\"<tr><td><img src='{urls[i]}' width='100'></td><td>{ret.result[i]}</td></tr>\"  "
   ]
  },
  {
   "cell_type": "code",
   "execution_count": 17,
   "metadata": {},
   "outputs": [
    {
     "data": {
      "text/html": [
       "<table><tr><th>Text</th><th>Image</th></tr><tr><td><img src='https://milo-test.oss-cn-zhangjiakou.aliyuncs.com/hdd/batch1/image001.png' width='100'></td><td>exist='是' category=Category(primary='服装', secondary='童鞋') freshness='新' description='白色鞋子，有魔术贴'</td></tr><tr><td><img src='https://milo-test.oss-cn-zhangjiakou.aliyuncs.com/hdd/batch1/image002.png' width='100'></td><td>exist='是' category=Category(primary='家居家电', secondary='其他') freshness='新' description='蓝色的鼻喷雾剂'</td></tr><tr><td><img src='https://milo-test.oss-cn-zhangjiakou.aliyuncs.com/hdd/batch1/image003.png' width='100'></td><td>exist='是' category=Category(primary='服装', secondary='休闲鞋') freshness='旧' description='灰色帆布鞋，有鞋带'</td></tr><tr><td><img src='https://milo-test.oss-cn-zhangjiakou.aliyuncs.com/hdd/batch1/image004.png' width='100'></td><td>exist='是' category=Category(primary='图书', secondary='杂志') freshness='旧' description='《故事会》2017年9月刊'</td></tr><tr><td><img src='https://milo-test.oss-cn-zhangjiakou.aliyuncs.com/hdd/batch1/image005.png' width='100'></td><td>exist='是' category=Category(primary='图书', secondary='课本') freshness='新' description='习近平新时代中国特色社会主义思想学习纲要'</td></tr><tr><td><img src='https://milo-test.oss-cn-zhangjiakou.aliyuncs.com/hdd/batch1/image006.png' width='100'></td><td>exist='是' category=Category(primary='家居家电', secondary='其他') freshness='新' description='木质搓衣板'</td></tr><tr><td><img src='https://milo-test.oss-cn-zhangjiakou.aliyuncs.com/hdd/batch1/image007.png' width='100'></td><td>exist='是' category=Category(primary='服装', secondary='凉拖') freshness='旧' description='绿色人字拖，有卡通图案'</td></tr><tr><td><img src='https://milo-test.oss-cn-zhangjiakou.aliyuncs.com/hdd/batch1/image008.png' width='100'></td><td>exist='是' category=Category(primary='服装', secondary='婴儿背带') freshness='旧' description='红色婴儿背带'</td></tr><tr><td><img src='https://milo-test.oss-cn-zhangjiakou.aliyuncs.com/hdd/batch1/image009.png' width='100'></td><td>exist='是' category=Category(primary='服装', secondary='T恤') freshness='新' description='蓝色短袖T恤，有领标'</td></tr><tr><td><img src='https://milo-test.oss-cn-zhangjiakou.aliyuncs.com/hdd/batch1/image010.png' width='100'></td><td>exist='是' category=Category(primary='厨房家电', secondary='咖啡机') freshness='新' description='伊莱克斯咖啡机'</td></tr>"
      ],
      "text/plain": [
       "<IPython.core.display.HTML object>"
      ]
     },
     "metadata": {},
     "output_type": "display_data"
    }
   ],
   "source": [
    "display(HTML(table))"
   ]
  },
  {
   "cell_type": "code",
   "execution_count": null,
   "metadata": {},
   "outputs": [],
   "source": []
  }
 ],
 "metadata": {
  "kernelspec": {
   "display_name": "Python 3 (ipykernel)",
   "language": "python",
   "name": "python3"
  },
  "language_info": {
   "codemirror_mode": {
    "name": "ipython",
    "version": 3
   },
   "file_extension": ".py",
   "mimetype": "text/x-python",
   "name": "python",
   "nbconvert_exporter": "python",
   "pygments_lexer": "ipython3",
   "version": "3.11.5"
  }
 },
 "nbformat": 4,
 "nbformat_minor": 4
}
