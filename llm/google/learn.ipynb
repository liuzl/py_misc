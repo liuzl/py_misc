{
 "cells": [
  {
   "cell_type": "code",
   "execution_count": 1,
   "metadata": {},
   "outputs": [],
   "source": [
    "import os\n",
    "import json\n",
    "import requests\n",
    "from dotenv import load_dotenv, find_dotenv\n",
    "_ = load_dotenv(find_dotenv())"
   ]
  },
  {
   "cell_type": "code",
   "execution_count": 4,
   "metadata": {},
   "outputs": [],
   "source": [
    "model = \"gemini-pro\"\n",
    "prompt = \"北京下大雪了，以李白的风格写一首诗：\\n\"\n",
    "url = f\"https://googleapis.fmr.wiki/v1beta/models/{model}:generateContent?key={os.getenv('GOOGLE_API_KEY')}\"\n",
    "headers = {\"Content-Type\": \"application/json\"}\n",
    "data = {\n",
    "    \"contents\": [{\n",
    "        \"parts\":[{\n",
    "            \"text\": prompt\n",
    "        }]\n",
    "    }]\n",
    "}"
   ]
  },
  {
   "cell_type": "code",
   "execution_count": 5,
   "metadata": {},
   "outputs": [],
   "source": [
    "ret = requests.post(url, json.dumps(data), headers=headers)"
   ]
  },
  {
   "cell_type": "code",
   "execution_count": 16,
   "metadata": {},
   "outputs": [],
   "source": [
    "text = ret.json()['candidates'][0]['content']['parts'][0]['text']"
   ]
  },
  {
   "cell_type": "code",
   "execution_count": 17,
   "metadata": {},
   "outputs": [
    {
     "name": "stdout",
     "output_type": "stream",
     "text": [
      "**雪落长安**\n",
      "\n",
      "飞雪漫天舞，\n",
      "长安银装素裹。\n",
      "千门万户闭，\n",
      "万籁俱寂。\n",
      "\n",
      "片片雪花飄，\n",
      "如柳絮随风舞。\n",
      "簌簌花枝落，\n",
      "如天女散花。\n",
      "\n",
      "雪落屋檐下，\n",
      "如晶莹的珍珠。\n",
      "雪落树梢头，\n",
      "如绽放的梨花。\n",
      "\n",
      "雪落大地，\n",
      "如铺上了白色的地毯。\n",
      "雪落山川，\n",
      "如披上了银色的纱衣。\n",
      "\n",
      "雪，如诗，\n",
      "如画，\n",
      "如梦，\n",
      "如幻。\n",
      "\n",
      "雪，是冬天的使者，\n",
      "带来寒冷，也带来寂静。\n",
      "雪，是自然的精灵，\n",
      "带来美丽，也带来希望。\n"
     ]
    }
   ],
   "source": [
    "print(text)"
   ]
  },
  {
   "cell_type": "code",
   "execution_count": null,
   "metadata": {},
   "outputs": [],
   "source": []
  }
 ],
 "metadata": {
  "kernelspec": {
   "display_name": "py311",
   "language": "python",
   "name": "python3"
  },
  "language_info": {
   "codemirror_mode": {
    "name": "ipython",
    "version": 3
   },
   "file_extension": ".py",
   "mimetype": "text/x-python",
   "name": "python",
   "nbconvert_exporter": "python",
   "pygments_lexer": "ipython3",
   "version": "3.11.5"
  }
 },
 "nbformat": 4,
 "nbformat_minor": 2
}
