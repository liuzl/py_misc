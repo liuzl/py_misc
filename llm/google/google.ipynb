{
 "cells": [
  {
   "cell_type": "code",
   "execution_count": 1,
   "id": "af03a5cd-314d-4488-805a-008d843077dd",
   "metadata": {},
   "outputs": [],
   "source": [
    "import os\n",
    "\n",
    "from dotenv import load_dotenv, find_dotenv\n",
    "_ = load_dotenv(find_dotenv())"
   ]
  },
  {
   "cell_type": "code",
   "execution_count": 2,
   "id": "cf81b9fc-aed1-4534-8b2f-c3e48f58c75a",
   "metadata": {},
   "outputs": [],
   "source": [
    "import google.generativeai as genai"
   ]
  },
  {
   "cell_type": "code",
   "execution_count": 4,
   "id": "3a37a4d8-dd1a-43ad-93e1-f9d5ed856ddb",
   "metadata": {},
   "outputs": [],
   "source": [
    "import pathlib\n",
    "import textwrap\n",
    "\n",
    "from IPython.display import display\n",
    "from IPython.display import Markdown\n",
    "\n",
    "\n",
    "def to_markdown(text):\n",
    "  text = text.replace('•', '  *')\n",
    "  return Markdown(textwrap.indent(text, '> ', predicate=lambda _: True))"
   ]
  },
  {
   "cell_type": "code",
   "execution_count": 7,
   "id": "ad60e9a1-aba4-40b8-8535-b5bb0ea350ea",
   "metadata": {},
   "outputs": [],
   "source": [
    "genai.configure(api_key=os.getenv(\"API_KEY\"))"
   ]
  },
  {
   "cell_type": "code",
   "execution_count": 8,
   "id": "359f21b5-0adf-4d9b-b54d-6bf6efedbcdf",
   "metadata": {},
   "outputs": [
    {
     "name": "stdout",
     "output_type": "stream",
     "text": [
      "models/gemini-pro\n",
      "models/gemini-pro-vision\n"
     ]
    }
   ],
   "source": [
    "for m in genai.list_models():\n",
    "  if 'generateContent' in m.supported_generation_methods:\n",
    "    print(m.name)"
   ]
  },
  {
   "cell_type": "code",
   "execution_count": 9,
   "metadata": {},
   "outputs": [],
   "source": [
    "model = genai.GenerativeModel('gemini-pro')"
   ]
  },
  {
   "cell_type": "code",
   "execution_count": 10,
   "metadata": {},
   "outputs": [
    {
     "name": "stdout",
     "output_type": "stream",
     "text": [
      "CPU times: user 4.31 ms, sys: 8.27 ms, total: 12.6 ms\n",
      "Wall time: 9.29 s\n"
     ]
    }
   ],
   "source": [
    "%%time\n",
    "response = model.generate_content(\"What is the meaning of life?\")"
   ]
  },
  {
   "cell_type": "code",
   "execution_count": 11,
   "metadata": {},
   "outputs": [
    {
     "data": {
      "text/markdown": [
       "> 1. **Eudaimonia or flourishing:** This perspective, rooted in ancient Greek philosophy, suggests that the meaning of life lies in living in accordance with one's true nature and fulfilling one's potential to achieve happiness, well-being, and a sense of flourishing.\n",
       "> \n",
       "> \n",
       "> 2. **Purpose-driven life:** The belief that finding meaning in life involves discovering and pursuing a unique purpose or calling that aligns with one's values, interests, and strengths. This purpose often involves making a positive contribution to society or the world.\n",
       "> \n",
       "> \n",
       "> 3. **Relationships and connections:** For many people, the meaning of life is found in the quality and depth of their relationships with others. It involves fostering strong bonds with loved ones, cultivating supportive communities, and experiencing a sense of belonging and connection with others.\n",
       "> \n",
       "> \n",
       "> 4. **Personal growth and learning:** The meaning of life can be found in the pursuit of personal growth, development, and learning. This includes acquiring new skills, exploring new ideas, and challenging oneself to become a better person, both intellectually and emotionally.\n",
       "> \n",
       "> \n",
       "> 5. **Creating and contributing:** Many find meaning in creating something that will outlast them, whether it's a work of art, a business, a family, or a legacy. Contributing to society or making a difference in the world can provide a sense of purpose and fulfillment.\n",
       "> \n",
       "> \n",
       "> 6. **Experiencing and appreciating life:** Some believe that the meaning of life lies in simply being present and appreciating the beauty and wonder of the world around us. This may involve engaging with nature, practicing mindfulness, or savoring life's simple pleasures.\n",
       "> \n",
       "> \n",
       "> 7. **Religious or spiritual beliefs:** For many people, the meaning of life is closely intertwined with their religious or spiritual beliefs. They may find meaning through worship, prayer, meditation, or connecting with a higher power or divine being.\n",
       "> \n",
       "> \n",
       "> 8. **Legacy and impact:** The meaning of life for some may be found in the legacy they leave behind and the impact they have on others. This could involve raising a family, mentoring others, or contributing to a cause or movement that will continue to have a positive influence long after one's lifetime.\n",
       "> \n",
       "> \n",
       "> 9. **Flow and peak experiences:** Some believe that the meaning of life can be found in moments of flow or peak experiences, where one feels a sense of complete absorption, engagement, and fulfillment in an activity or situation.\n",
       "> \n",
       "> \n",
       "> 10. **Subjective and personal:** Ultimately, the meaning of life is subjective and personal, and what brings meaning to one person may not be the same for another. It is a journey of self-discovery, reflection, and personal growth, where individuals seek to find their own unique answers to this profound question."
      ],
      "text/plain": [
       "<IPython.core.display.Markdown object>"
      ]
     },
     "execution_count": 11,
     "metadata": {},
     "output_type": "execute_result"
    }
   ],
   "source": [
    "to_markdown(response.text)"
   ]
  },
  {
   "cell_type": "code",
   "execution_count": 21,
   "metadata": {},
   "outputs": [
    {
     "data": {
      "text/plain": [
       "['models/chat-bison-001',\n",
       " 'models/text-bison-001',\n",
       " 'models/embedding-gecko-001',\n",
       " 'models/gemini-pro',\n",
       " 'models/gemini-pro-vision',\n",
       " 'models/embedding-001',\n",
       " 'models/aqa']"
      ]
     },
     "execution_count": 21,
     "metadata": {},
     "output_type": "execute_result"
    }
   ],
   "source": [
    "[m.name for m in genai.list_models()]"
   ]
  },
  {
   "cell_type": "code",
   "execution_count": 22,
   "metadata": {},
   "outputs": [
    {
     "name": "stdout",
     "output_type": "stream",
     "text": [
      "CPU times: user 5.04 ms, sys: 3.04 ms, total: 8.08 ms\n",
      "Wall time: 2.04 s\n"
     ]
    }
   ],
   "source": [
    "%%time\n",
    "response = model.generate_content(\"What is the meaning of life?\", stream=True)"
   ]
  },
  {
   "cell_type": "code",
   "execution_count": 23,
   "metadata": {},
   "outputs": [
    {
     "name": "stdout",
     "output_type": "stream",
     "text": [
      "There is no one answer to the question \"What is the meaning of life?\"\n",
      "________________________________________________________________________________\n",
      " as the meaning of life is subjective and varies from person to person. However, some suggested meanings of life include:\n",
      "\n",
      "1. To Find Fulfillment and Happiness:\n",
      "________________________________________________________________________________\n",
      " For many people, the meaning of life is to find fulfillment and happiness in their lives. This can be achieved through pursuing personal goals, engaging in fulfilling activities, and fostering meaningful relationships.\n",
      "\n",
      "2. To Make a Positive Contribution: Some individuals find meaning in life by making a positive contribution to the world. This can involve\n",
      "________________________________________________________________________________\n",
      " using one's skills and talents to help others, volunteering for causes they care about, or creating something that will have a lasting impact.\n",
      "\n",
      "3. To Connect with Others: For some, the meaning of life lies in connecting with others and building strong relationships. This can involve spending time with loved ones, fostering meaningful friendships, and contributing to a sense of community.\n",
      "\n",
      "4. To Discover and Explore: For those with a curious nature, the meaning of life may be found in the journey of discovery and exploration. This can involve learning new things, traveling to different places, and immersing oneself in new experiences.\n",
      "\n",
      "5. To\n",
      "________________________________________________________________________________\n",
      " Grow and Develop: Many people find meaning in the process of personal growth and development. This can involve learning from life experiences, overcoming challenges, and becoming a better version of oneself.\n",
      "\n",
      "6. To Leave a Legacy: Some individuals find meaning in leaving a legacy or mark on the world. This can involve creating something that will be remembered, inspiring others, or passing on knowledge and wisdom to future generations.\n",
      "\n",
      "7. To Experience Beauty and Wonder: For some, the meaning of life is found in appreciating the beauty and wonder of the world around them. This can involve immersing themselves in nature, appreciating art or music, or simply taking time to notice the small joys in life.\n",
      "\n",
      "8. To Fulfill a Purpose or Calling: Certain individuals may find meaning in fulfilling a specific purpose or calling in their lives. This could involve following a particular career path, pursuing a creative endeavor, or dedicating oneself to a cause or mission.\n",
      "\n",
      "It's important to note that the meaning of life is not something that is fixed or static. It can evolve and change over time as people grow and experience different things. Ultimately, the meaning of life is unique to each individual and is something that they must discover for themselves.\n",
      "________________________________________________________________________________\n"
     ]
    }
   ],
   "source": [
    "for chunk in response:\n",
    "  print(chunk.text)\n",
    "  print(\"_\"*80)"
   ]
  },
  {
   "cell_type": "code",
   "execution_count": 24,
   "metadata": {},
   "outputs": [
    {
     "name": "stdout",
     "output_type": "stream",
     "text": [
      "  % Total    % Received % Xferd  Average Speed   Time    Time     Time  Current\n",
      "                                 Dload  Upload   Total   Spent    Left  Speed\n",
      "100  405k  100  405k    0     0  1835k      0 --:--:-- --:--:-- --:--:-- 1841k\n"
     ]
    }
   ],
   "source": [
    "!curl -o image.jpg https://t0.gstatic.com/licensed-image?q=tbn:ANd9GcQ_Kevbk21QBRy-PgB4kQpS79brbmmEG7m3VOTShAn4PecDU5H5UxrJxE3Dw1JiaG17V88QIol19-3TM2wCHw"
   ]
  },
  {
   "cell_type": "code",
   "execution_count": 25,
   "metadata": {},
   "outputs": [],
   "source": [
    "import PIL.Image"
   ]
  },
  {
   "cell_type": "code",
   "execution_count": 26,
   "metadata": {},
   "outputs": [],
   "source": [
    "img = PIL.Image.open('image.jpg')"
   ]
  },
  {
   "cell_type": "code",
   "execution_count": 28,
   "metadata": {},
   "outputs": [],
   "source": [
    "model = genai.GenerativeModel('gemini-pro-vision')"
   ]
  },
  {
   "cell_type": "code",
   "execution_count": 29,
   "metadata": {},
   "outputs": [
    {
     "data": {
      "text/markdown": [
       ">  Chicken Teriyaki Meal Prep Bowls with brown rice, roasted broccoli and bell peppers."
      ],
      "text/plain": [
       "<IPython.core.display.Markdown object>"
      ]
     },
     "execution_count": 29,
     "metadata": {},
     "output_type": "execute_result"
    }
   ],
   "source": [
    "response = model.generate_content(img)\n",
    "\n",
    "to_markdown(response.text)"
   ]
  },
  {
   "cell_type": "code",
   "execution_count": 32,
   "metadata": {},
   "outputs": [],
   "source": [
    "response = model.generate_content([\"Write a short, engaging blog post based on this picture. It should include a description of the meal in the photo and talk about my journey meal prepping. YOUR RESPONSE SHOULD BE IN CHINESE!!\", img], stream=True)\n",
    "response.resolve()"
   ]
  },
  {
   "cell_type": "code",
   "execution_count": 33,
   "metadata": {},
   "outputs": [
    {
     "data": {
      "text/markdown": [
       ">  **标题：** 我的便当🍱：照烧鸡肉、糙米饭和蔬菜\n",
       "> \n",
       "> **正文：**\n",
       "> \n",
       "> 大家好！今天我想和大家分享一下我的便当🍱。便当是一种日本料理，通常包括米饭、肉类或鱼类、蔬菜和水果。便当可以提前做好，然后在午餐或晚餐时食用。\n",
       "> \n",
       "> 我开始做便当🍱是为了省钱和吃得更健康。在外面的餐馆吃饭既贵又不健康，所以我决定自己做饭。做便当🍱不仅可以帮我省钱，还可以让我吃到更健康的食物。\n",
       "> \n",
       "> 我通常会在周日晚上做一周的便当🍱。我会先把米饭煮好，然后把肉类或鱼类烤熟或煎熟。蔬菜我会焯一下水，然后切成小块。最后，我会把米饭、肉类或鱼类、蔬菜和水果都装进便当盒里。\n",
       "> \n",
       "> 做便当🍱其实很简单，也不需要花费太多时间。如果你也想省钱和吃得更健康，不妨试试做便当🍱吧！\n",
       "> \n",
       "> **标签：** 便当🍱、省钱、健康饮食"
      ],
      "text/plain": [
       "<IPython.core.display.Markdown object>"
      ]
     },
     "execution_count": 33,
     "metadata": {},
     "output_type": "execute_result"
    }
   ],
   "source": [
    "to_markdown(response.text)"
   ]
  },
  {
   "cell_type": "code",
   "execution_count": null,
   "metadata": {},
   "outputs": [],
   "source": []
  }
 ],
 "metadata": {
  "kernelspec": {
   "display_name": "Python 3 (ipykernel)",
   "language": "python",
   "name": "python3"
  },
  "language_info": {
   "codemirror_mode": {
    "name": "ipython",
    "version": 3
   },
   "file_extension": ".py",
   "mimetype": "text/x-python",
   "name": "python",
   "nbconvert_exporter": "python",
   "pygments_lexer": "ipython3",
   "version": "3.10.11"
  }
 },
 "nbformat": 4,
 "nbformat_minor": 5
}
