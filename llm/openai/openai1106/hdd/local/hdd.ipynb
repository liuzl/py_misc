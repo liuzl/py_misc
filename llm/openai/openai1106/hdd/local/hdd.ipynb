{
 "cells": [
  {
   "cell_type": "code",
   "execution_count": 1,
   "id": "d0a5b119-b2f1-4a10-906c-ba298e59a4a5",
   "metadata": {},
   "outputs": [],
   "source": [
    "import os\n",
    "import openai\n",
    "from dotenv import load_dotenv, find_dotenv\n",
    "_ = load_dotenv(find_dotenv())\n",
    "from typing import List\n",
    "import instructor\n",
    "from pydantic import BaseModel\n",
    "\n",
    "class Category(BaseModel):\n",
    "    primary: str\n",
    "    secondary: str\n",
    "\n",
    "class ResultDetail(BaseModel):\n",
    "    exist: str\n",
    "    category: Category | None = None\n",
    "    freshness: str\n",
    "    description: str\n",
    "\n",
    "class ResultList(BaseModel):\n",
    "    result: List[ResultDetail] = []\n",
    "    description: str\n",
    "\n",
    "\n",
    "client = instructor.patch(openai.OpenAI(\n",
    "    api_key=os.getenv(\"OPENAI_API_KEY\"),\n",
    "    base_url=os.getenv(\"OPENAI_API_BASE\"),\n",
    "), mode=instructor.function_calls.Mode.MD_JSON)\n",
    "\n",
    "gpt_prompt1='''任务简介：\n",
    "- 识别每张图片中的主要物品，判断其分类并评估新旧程度。\n",
    "\n",
    "分类标准：\n",
    "- 服装：大衣、皮衣、半袖、裤子、裙子、内衣裤、秋衣类、毛衣类、工装、校服。\n",
    "- 家电：空气净化器、厨房家电、家居家电。\n",
    "- 乐器：电子乐器、琴类。\n",
    "- 玩具：小件（手办）、大件、毛绒玩具。\n",
    "- 图书：儿童绘本、课外书、小说、套装书籍、课本。\n",
    "- 手机：智能手机、功能机。\n",
    "- 笔记本电脑：品牌电脑、非品牌电脑。\n",
    "\n",
    "对于没有给出分类的物品，需要你自行判断一级分类（primary）和二级分类（secondary），此时exist设置为\"否\"。\n",
    "'''\n",
    "\n",
    "def describe_multiple(images, prompt=gpt_prompt1):\n",
    "    response = client.chat.completions.create(\n",
    "        model=\"gpt-4-vision-preview\",\n",
    "        response_model=ResultList,\n",
    "        messages=[{\n",
    "            \"role\": \"user\",\n",
    "            \"content\": [{\"type\": \"text\", \"text\": prompt},] + \n",
    "            [{\"type\": \"image_url\", \"image_url\": {\"url\": image, \"detail\": \"low\",}} for image in images]\n",
    "        }],\n",
    "        max_tokens=3000,\n",
    "        temperature=0,\n",
    "    )\n",
    "    return response"
   ]
  },
  {
   "cell_type": "code",
   "execution_count": 2,
   "id": "c8d2e2d0-8c40-4c91-81f8-ef32885cb401",
   "metadata": {},
   "outputs": [],
   "source": [
    "urls = [f\"https://milo-test.oss-cn-zhangjiakou.aliyuncs.com/hdd/batch1/image{i+1:03}.png\" for i in range(241)]"
   ]
  },
  {
   "cell_type": "code",
   "execution_count": 3,
   "id": "24db6d85-1c64-4c76-83c4-9f815c786914",
   "metadata": {},
   "outputs": [],
   "source": [
    "from IPython.display import Image, display, HTML"
   ]
  },
  {
   "cell_type": "code",
   "execution_count": 15,
   "id": "9e32e744-98c6-48d1-8719-483473a14aed",
   "metadata": {},
   "outputs": [
    {
     "name": "stdout",
     "output_type": "stream",
     "text": [
      "CPU times: user 15 ms, sys: 2.26 ms, total: 17.2 ms\n",
      "Wall time: 1min 9s\n"
     ]
    }
   ],
   "source": [
    "%%time\n",
    "ret = describe_multiple(urls[:1])"
   ]
  },
  {
   "cell_type": "code",
   "execution_count": 16,
   "id": "bec7a56d-58ad-4501-a69c-8279da65e3e1",
   "metadata": {},
   "outputs": [],
   "source": [
    "table = \"<table><tr><th>Text</th><th>Image</th></tr>\"\n",
    "for i in range(1):\n",
    "    table += f\"<tr><td><img src='{urls[i]}' width='100'></td><td>{ret.result[i]}</td></tr>\"    "
   ]
  },
  {
   "cell_type": "code",
   "execution_count": 17,
   "id": "fa315662-40a7-4403-a8b0-9a1c4709b712",
   "metadata": {},
   "outputs": [
    {
     "data": {
      "text/html": [
       "<table><tr><th>Text</th><th>Image</th></tr><tr><td><img src='https://milo-test.oss-cn-zhangjiakou.aliyuncs.com/hdd/batch1/image001.png' width='100'></td><td>exist='否' category=Category(primary='运动鞋', secondary='') freshness='新' description='白色运动鞋，有跑步绳和三个带子。'</td></tr>"
      ],
      "text/plain": [
       "<IPython.core.display.HTML object>"
      ]
     },
     "metadata": {},
     "output_type": "display_data"
    }
   ],
   "source": [
    "display(HTML(table))"
   ]
  },
  {
   "cell_type": "code",
   "execution_count": 19,
   "id": "de3a3ae4-5d48-4179-9d63-570d15c7065c",
   "metadata": {},
   "outputs": [
    {
     "data": {
      "text/html": [
       "<img src=\"https://milo-test.oss-cn-zhangjiakou.aliyuncs.com/hdd/batch1/image001.png\"/>"
      ],
      "text/plain": [
       "<IPython.core.display.Image object>"
      ]
     },
     "metadata": {},
     "output_type": "display_data"
    }
   ],
   "source": [
    "display(Image(url=urls[:1][0]))"
   ]
  },
  {
   "cell_type": "code",
   "execution_count": null,
   "id": "2c09c4b1-5358-4cc8-ad09-641d8ad60337",
   "metadata": {},
   "outputs": [],
   "source": []
  }
 ],
 "metadata": {
  "kernelspec": {
   "display_name": "Python 3 (ipykernel)",
   "language": "python",
   "name": "python3"
  },
  "language_info": {
   "codemirror_mode": {
    "name": "ipython",
    "version": 3
   },
   "file_extension": ".py",
   "mimetype": "text/x-python",
   "name": "python",
   "nbconvert_exporter": "python",
   "pygments_lexer": "ipython3",
   "version": "3.11.5"
  }
 },
 "nbformat": 4,
 "nbformat_minor": 5
}
