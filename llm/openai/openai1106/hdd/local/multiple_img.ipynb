{
 "cells": [
  {
   "cell_type": "code",
   "execution_count": 14,
   "metadata": {},
   "outputs": [],
   "source": [
    "import os\n",
    "import openai\n",
    "from dotenv import load_dotenv, find_dotenv\n",
    "_ = load_dotenv(find_dotenv())\n",
    "\n",
    "client = openai.OpenAI(\n",
    "    api_key=os.getenv(\"OPENAI_API_KEY\"),\n",
    "    base_url=os.getenv(\"OPENAI_API_BASE\"),\n",
    ")"
   ]
  },
  {
   "cell_type": "code",
   "execution_count": 30,
   "metadata": {},
   "outputs": [],
   "source": [
    "gpt_prompt1='''任务简介：\n",
    "- 识别图片中的主要物品，判断其分类并评估新旧程度。\n",
    "\n",
    "分类标准：\n",
    "- 服装：大衣、皮衣、半袖、裤子、裙子、内衣裤、秋衣类、毛衣类、工装、校服。\n",
    "- 家电：空气净化器、厨房家电、家居家电。\n",
    "- 乐器：电子乐器、琴类。\n",
    "- 玩具：小件（手办）、大件、毛绒玩具。\n",
    "- 图书：儿童绘本、课外书、小说、套装书籍、课本。\n",
    "- 手机：智能手机、功能机。\n",
    "- 笔记本电脑：品牌电脑、非品牌电脑。\n",
    "\n",
    "对于没有给出分类的物品，可以自行判断分类，此时exist设置为\"否\"。\n",
    "\n",
    "回答格式（JSON）：\n",
    "{\n",
    "    \"exist\": \"是/否\",\n",
    "    \"category\": {\n",
    "        \"primary\": \"一级分类\",\n",
    "        \"secondary\": \"二级分类\"\n",
    "    },\n",
    "    \"freshness\": \"新/旧/中等\"\n",
    "}\n",
    "'''"
   ]
  },
  {
   "cell_type": "code",
   "execution_count": 31,
   "metadata": {},
   "outputs": [],
   "source": [
    "def describe_multiple(images, prompt=gpt_prompt1):\n",
    "    response = client.chat.completions.create(\n",
    "        model=\"gpt-4-vision-preview\",\n",
    "        messages=[{\n",
    "            \"role\": \"user\",\n",
    "            \"content\": [{\"type\": \"text\", \"text\": prompt},] + [{\n",
    "                    \"type\": \"image_url\",\n",
    "                    \"image_url\": {\"url\": image, \"detail\": \"low\",}\n",
    "            } for image in images]\n",
    "        }],\n",
    "        max_tokens=3000,\n",
    "    )\n",
    "    print(response.model_dump_json())\n",
    "    return response"
   ]
  },
  {
   "cell_type": "code",
   "execution_count": 32,
   "metadata": {},
   "outputs": [],
   "source": [
    "urls = [f\"https://milo-test.oss-cn-zhangjiakou.aliyuncs.com/hdd/batch1/image{i+1:03}.png\" for i in range(241)]"
   ]
  },
  {
   "cell_type": "code",
   "execution_count": 51,
   "metadata": {},
   "outputs": [
    {
     "name": "stdout",
     "output_type": "stream",
     "text": [
      "{\"id\":\"chatcmpl-89ca4737-445b-4164-ad5b-10531bb63d35\",\"choices\":[{\"finish_reason\":\"stop\",\"index\":0,\"message\":{\"content\":\" {\\n\\\"exist\\\": \\\"是\\\",\\n\\\"category\\\": {\\n\\\"primary\\\": \\\"背包\\\",\\n\\\"secondary\\\": \\\"\\\"\\n},\\n\\\"freshness\\\": \\\"新\\\"\\n}\",\"role\":\"assistant\",\"function_call\":null,\"tool_calls\":null}}],\"created\":1700714116,\"model\":\"gpt-4-vision-preview\",\"object\":\"chat.completion\",\"system_fingerprint\":null,\"usage\":{\"completion_tokens\":42,\"prompt_tokens\":1015,\"total_tokens\":1057}}\n"
     ]
    }
   ],
   "source": [
    "response = describe_multiple(urls[88:89])"
   ]
  },
  {
   "cell_type": "code",
   "execution_count": 52,
   "metadata": {},
   "outputs": [],
   "source": [
    "content = response.choices[0].message.content"
   ]
  },
  {
   "cell_type": "code",
   "execution_count": 53,
   "metadata": {},
   "outputs": [
    {
     "name": "stdout",
     "output_type": "stream",
     "text": [
      " {\n",
      "\"exist\": \"是\",\n",
      "\"category\": {\n",
      "\"primary\": \"背包\",\n",
      "\"secondary\": \"\"\n",
      "},\n",
      "\"freshness\": \"新\"\n",
      "}\n"
     ]
    }
   ],
   "source": [
    "print(content)"
   ]
  },
  {
   "cell_type": "code",
   "execution_count": 47,
   "metadata": {},
   "outputs": [
    {
     "data": {
      "text/plain": [
       "['https://milo-test.oss-cn-zhangjiakou.aliyuncs.com/hdd/batch1/image081.png']"
      ]
     },
     "execution_count": 47,
     "metadata": {},
     "output_type": "execute_result"
    }
   ],
   "source": [
    "urls[80:81]"
   ]
  },
  {
   "cell_type": "code",
   "execution_count": null,
   "metadata": {},
   "outputs": [],
   "source": []
  }
 ],
 "metadata": {
  "kernelspec": {
   "display_name": "oai1106",
   "language": "python",
   "name": "python3"
  },
  "language_info": {
   "codemirror_mode": {
    "name": "ipython",
    "version": 3
   },
   "file_extension": ".py",
   "mimetype": "text/x-python",
   "name": "python",
   "nbconvert_exporter": "python",
   "pygments_lexer": "ipython3",
   "version": "3.11.5"
  }
 },
 "nbformat": 4,
 "nbformat_minor": 2
}
