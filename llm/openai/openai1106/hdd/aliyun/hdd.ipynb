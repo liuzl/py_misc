{
 "cells": [
  {
   "cell_type": "code",
   "execution_count": 1,
   "id": "d0a5b119-b2f1-4a10-906c-ba298e59a4a5",
   "metadata": {},
   "outputs": [],
   "source": [
    "import os\n",
    "from dotenv import load_dotenv, find_dotenv\n",
    "_ = load_dotenv(find_dotenv())\n",
    "from typing import List\n",
    "import instructor\n",
    "from pydantic import BaseModel\n",
    "\n",
    "class Category(BaseModel):\n",
    "    primary: str\n",
    "    secondary: str\n",
    "\n",
    "class ResultDetail(BaseModel):\n",
    "    exist: str\n",
    "    category: Category | None = None\n",
    "    freshness: str\n",
    "    description: str\n",
    "\n",
    "class ResultList(BaseModel):\n",
    "    result: List[ResultDetail] = []\n",
    "    description: str\n",
    "\n",
    "import dashscope\n",
    "\n",
    "gpt_prompt1='''任务简介：\n",
    "- 识别每张图片中的主要物品，判断其分类并评估新旧程度。\n",
    "\n",
    "分类标准：\n",
    "- 服装：大衣、皮衣、半袖、裤子、裙子、内衣裤、秋衣类、毛衣类、工装、校服。\n",
    "- 家电：空气净化器、厨房家电、家居家电。\n",
    "- 乐器：电子乐器、琴类。\n",
    "- 玩具：小件（手办）、大件、毛绒玩具。\n",
    "- 图书：儿童绘本、课外书、小说、套装书籍、课本。\n",
    "- 手机：智能手机、功能机。\n",
    "- 笔记本电脑：品牌电脑、非品牌电脑。\n",
    "\n",
    "对于没有给出分类的物品，需要你自行判断一级分类（primary）和二级分类（secondary），此时exist设置为\"否\"。\n",
    "\n",
    "回答格式（JSON）：\n",
    "{\n",
    "    \"exist\": \"是/否\",\n",
    "    \"category\": {\n",
    "        \"primary\": \"一级分类\",\n",
    "        \"secondary\": \"二级分类\"\n",
    "    },\n",
    "    \"freshness\": \"新/旧/中等\",\n",
    "    \"description\": \"具体描述\"\n",
    "}\n",
    "'''\n",
    "\n",
    "def describe_multiple(images, prompt=gpt_prompt1):\n",
    "    response = dashscope.MultiModalConversation.call(\n",
    "        model=\"qwen-vl-plus\",\n",
    "        messages=[{\n",
    "            \"role\": \"user\",\n",
    "            \"content\": [{\"text\": prompt},] + \n",
    "            [{\"image\": image} for image in images]\n",
    "        }]\n",
    "    )\n",
    "    return response"
   ]
  },
  {
   "cell_type": "code",
   "execution_count": 2,
   "id": "c8d2e2d0-8c40-4c91-81f8-ef32885cb401",
   "metadata": {},
   "outputs": [],
   "source": [
    "urls = [f\"https://milo-test.oss-cn-zhangjiakou.aliyuncs.com/hdd/batch1/image{i+1:03}.png\" for i in range(241)]"
   ]
  },
  {
   "cell_type": "code",
   "execution_count": 3,
   "id": "24db6d85-1c64-4c76-83c4-9f815c786914",
   "metadata": {},
   "outputs": [],
   "source": [
    "from IPython.display import Image, display, HTML"
   ]
  },
  {
   "cell_type": "code",
   "execution_count": 4,
   "id": "9e32e744-98c6-48d1-8719-483473a14aed",
   "metadata": {},
   "outputs": [
    {
     "name": "stdout",
     "output_type": "stream",
     "text": [
      "CPU times: user 40.1 ms, sys: 8.7 ms, total: 48.8 ms\n",
      "Wall time: 2.92 s\n"
     ]
    }
   ],
   "source": [
    "%%time\n",
    "ret = describe_multiple(urls[:1])"
   ]
  },
  {
   "cell_type": "code",
   "execution_count": 5,
   "id": "61ad4a9a-f29e-4894-87fe-5ddfe8c2371c",
   "metadata": {},
   "outputs": [],
   "source": [
    "result = ret.output.choices[0].message.content[0][\"text\"]"
   ]
  },
  {
   "cell_type": "code",
   "execution_count": 6,
   "id": "37ccf9fd-dd94-43ca-b24e-87573cd86b6d",
   "metadata": {},
   "outputs": [],
   "source": [
    "text = result.strip().lstrip(\"```json\").rstrip(\"```\").strip()"
   ]
  },
  {
   "cell_type": "code",
   "execution_count": 7,
   "id": "be53383c-badb-48b0-a53f-659d72259d51",
   "metadata": {},
   "outputs": [
    {
     "name": "stdout",
     "output_type": "stream",
     "text": [
      "{\n",
      "    \"exist\": \"是\",\n",
      "    \"category\": {\n",
      "        \"primary\": \"鞋子\",\n",
      "        \"secondary\": \"运动鞋\"\n",
      "    },\n",
      "    \"freshness\": \"旧\",\n",
      "    \"description\": \"一双白色带有蓝色条纹装饰的运动鞋。\"\n",
      "}\n"
     ]
    }
   ],
   "source": [
    "print(text)"
   ]
  },
  {
   "cell_type": "code",
   "execution_count": 8,
   "id": "d7d8ca5c-68b4-4d7f-b18d-ffc10a9b94f3",
   "metadata": {},
   "outputs": [],
   "source": [
    "from typing import List\n",
    "from pydantic import BaseModel\n",
    "\n",
    "class Category(BaseModel):\n",
    "    primary: str\n",
    "    secondary: str\n",
    "\n",
    "class ResultDetail(BaseModel):\n",
    "    exist: str\n",
    "    category: Category | None = None\n",
    "    freshness: str\n",
    "    description: str\n",
    "\n",
    "class ResultList(BaseModel):\n",
    "    result: List[ResultDetail] = []\n",
    "    description: str = None\n",
    "\n",
    "import json\n",
    "data = json.loads(result.strip().lstrip(\"```json\").rstrip(\"```\").strip())\n",
    "item = ResultDetail(**data)"
   ]
  },
  {
   "cell_type": "code",
   "execution_count": 9,
   "id": "bec7a56d-58ad-4501-a69c-8279da65e3e1",
   "metadata": {},
   "outputs": [],
   "source": [
    "table = \"<table><tr><th>Text</th><th>Image</th></tr>\"\n",
    "for i in range(1):\n",
    "    table += f\"<tr><td><img src='{urls[i]}' width='100'></td><td>{item}</td></tr>\"    "
   ]
  },
  {
   "cell_type": "code",
   "execution_count": 10,
   "id": "fa315662-40a7-4403-a8b0-9a1c4709b712",
   "metadata": {},
   "outputs": [
    {
     "data": {
      "text/html": [
       "<table><tr><th>Text</th><th>Image</th></tr><tr><td><img src='https://milo-test.oss-cn-zhangjiakou.aliyuncs.com/hdd/batch1/image001.png' width='100'></td><td>exist='是' category=Category(primary='鞋子', secondary='运动鞋') freshness='旧' description='一双白色带有蓝色条纹装饰的运动鞋。'</td></tr>"
      ],
      "text/plain": [
       "<IPython.core.display.HTML object>"
      ]
     },
     "metadata": {},
     "output_type": "display_data"
    }
   ],
   "source": [
    "display(HTML(table))"
   ]
  },
  {
   "cell_type": "code",
   "execution_count": null,
   "id": "de3a3ae4-5d48-4179-9d63-570d15c7065c",
   "metadata": {},
   "outputs": [],
   "source": []
  }
 ],
 "metadata": {
  "kernelspec": {
   "display_name": "Python 3 (ipykernel)",
   "language": "python",
   "name": "python3"
  },
  "language_info": {
   "codemirror_mode": {
    "name": "ipython",
    "version": 3
   },
   "file_extension": ".py",
   "mimetype": "text/x-python",
   "name": "python",
   "nbconvert_exporter": "python",
   "pygments_lexer": "ipython3",
   "version": "3.11.5"
  }
 },
 "nbformat": 4,
 "nbformat_minor": 5
}
