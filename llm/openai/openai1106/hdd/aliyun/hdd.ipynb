{
 "cells": [
  {
   "cell_type": "code",
   "execution_count": 58,
   "id": "d0a5b119-b2f1-4a10-906c-ba298e59a4a5",
   "metadata": {},
   "outputs": [],
   "source": [
    "import os\n",
    "import json\n",
    "import time\n",
    "from dotenv import load_dotenv, find_dotenv\n",
    "_ = load_dotenv(find_dotenv())\n",
    "from typing import List\n",
    "import instructor\n",
    "from pydantic import BaseModel\n",
    "\n",
    "class Category(BaseModel):\n",
    "    primary: str\n",
    "    secondary: str\n",
    "\n",
    "class ResultDetail(BaseModel):\n",
    "    exist: str\n",
    "    category: Category | None = None\n",
    "    freshness: str | None = None\n",
    "    description: str | None = None\n",
    "\n",
    "class ResultList(BaseModel):\n",
    "    result: List[ResultDetail] = []\n",
    "    description: str\n",
    "\n",
    "import dashscope\n",
    "\n",
    "import re\n",
    "def extract_json_content_multiline(text):\n",
    "    matched_content = re.search(r\"```json\\s([\\s\\S]+?)\\s```\", text)\n",
    "    return matched_content.group(1) if matched_content else None\n",
    "\n",
    "gpt_prompt1='''任务简介：\n",
    "- 识别每张图片中的主要物品，判断其分类并评估新旧程度。\n",
    "\n",
    "分类标准：\n",
    "- 服装：大衣、皮衣、半袖、裤子、裙子、内衣裤、秋衣类、毛衣类、工装、校服。\n",
    "- 家电：空气净化器、厨房家电、家居家电。\n",
    "- 乐器：电子乐器、琴类。\n",
    "- 玩具：小件（手办）、大件、毛绒玩具。\n",
    "- 图书：儿童绘本、课外书、小说、套装书籍、课本。\n",
    "- 手机：智能手机、功能机。\n",
    "- 笔记本电脑：品牌电脑、非品牌电脑。\n",
    "\n",
    "对于没有给出分类的物品，需要你自行判断一级分类（primary）和二级分类（secondary），此时exist设置为\"否\"。\n",
    "\n",
    "回答格式（JSON）,切勿返回除JSON格式外的其他内容：\n",
    "{\n",
    "    \"exist\": \"是/否\",\n",
    "    \"category\": {\n",
    "        \"primary\": \"一级分类\",\n",
    "        \"secondary\": \"二级分类\"\n",
    "    },\n",
    "    \"freshness\": \"新/旧/中等\",\n",
    "    \"description\": \"具体描述\"\n",
    "}\n",
    "'''\n",
    "\n",
    "def describe_multiple(images, prompt=gpt_prompt1):\n",
    "    response = dashscope.MultiModalConversation.call(\n",
    "        model=\"qwen-vl-plus\",\n",
    "        messages=[{\n",
    "            \"role\": \"user\",\n",
    "            \"content\": [{\"text\": prompt},] +\n",
    "            [{\"image\": image} for image in images]\n",
    "        }]\n",
    "    )\n",
    "    result = response.output.choices[0].message.content[0][\"text\"]\n",
    "    print(result)\n",
    "    text = extract_json_content_multiline(result)\n",
    "    print(text)\n",
    "    if text is None: return ResultDetail(exist=\"否\", description=result)\n",
    "    data = json.loads(text)\n",
    "    if type(data) == dict:\n",
    "        item = ResultDetail(**data)\n",
    "        return item\n",
    "    #elif type(data) == list and len(data) > 0:\n",
    "    return data\n",
    "        "
   ]
  },
  {
   "cell_type": "code",
   "execution_count": 50,
   "id": "c8d2e2d0-8c40-4c91-81f8-ef32885cb401",
   "metadata": {},
   "outputs": [],
   "source": [
    "urls = [f\"https://milo-test.oss-cn-zhangjiakou.aliyuncs.com/hdd/batch1/image{i+1:03}.png\" for i in range(241)]"
   ]
  },
  {
   "cell_type": "code",
   "execution_count": 51,
   "id": "24db6d85-1c64-4c76-83c4-9f815c786914",
   "metadata": {},
   "outputs": [],
   "source": [
    "from IPython.display import Image, display, HTML"
   ]
  },
  {
   "cell_type": "code",
   "execution_count": 52,
   "id": "9e32e744-98c6-48d1-8719-483473a14aed",
   "metadata": {},
   "outputs": [
    {
     "name": "stderr",
     "output_type": "stream",
     "text": [
      "  7%|█████▋                                                                           | 17/241 [01:08<15:08,  4.05s/it]\n"
     ]
    },
    {
     "ename": "JSONDecodeError",
     "evalue": "Extra data: line 9 column 2 (char 149)",
     "output_type": "error",
     "traceback": [
      "\u001b[1;31m---------------------------------------------------------------------------\u001b[0m",
      "\u001b[1;31mJSONDecodeError\u001b[0m                           Traceback (most recent call last)",
      "File \u001b[1;32m<timed exec>:3\u001b[0m\n",
      "Cell \u001b[1;32mIn[49], line 69\u001b[0m, in \u001b[0;36mdescribe_multiple\u001b[1;34m(images, prompt)\u001b[0m\n\u001b[0;32m     67\u001b[0m text \u001b[38;5;241m=\u001b[39m extract_json_content_multiline(result)\n\u001b[0;32m     68\u001b[0m \u001b[38;5;28;01mif\u001b[39;00m text \u001b[38;5;129;01mis\u001b[39;00m \u001b[38;5;28;01mNone\u001b[39;00m: \u001b[38;5;28;01mreturn\u001b[39;00m ResultDetail(exist\u001b[38;5;241m=\u001b[39m\u001b[38;5;124m\"\u001b[39m\u001b[38;5;124m否\u001b[39m\u001b[38;5;124m\"\u001b[39m, description\u001b[38;5;241m=\u001b[39mresult)\n\u001b[1;32m---> 69\u001b[0m data \u001b[38;5;241m=\u001b[39m \u001b[43mjson\u001b[49m\u001b[38;5;241;43m.\u001b[39;49m\u001b[43mloads\u001b[49m\u001b[43m(\u001b[49m\u001b[43mtext\u001b[49m\u001b[43m)\u001b[49m\n\u001b[0;32m     70\u001b[0m \u001b[38;5;28;01mif\u001b[39;00m \u001b[38;5;28mtype\u001b[39m(data) \u001b[38;5;241m==\u001b[39m \u001b[38;5;28mdict\u001b[39m:\n\u001b[0;32m     71\u001b[0m     item \u001b[38;5;241m=\u001b[39m ResultDetail(\u001b[38;5;241m*\u001b[39m\u001b[38;5;241m*\u001b[39mdata)\n",
      "File \u001b[1;32mD:\\ProgramData\\Miniconda3\\envs\\py311\\Lib\\json\\__init__.py:346\u001b[0m, in \u001b[0;36mloads\u001b[1;34m(s, cls, object_hook, parse_float, parse_int, parse_constant, object_pairs_hook, **kw)\u001b[0m\n\u001b[0;32m    341\u001b[0m     s \u001b[38;5;241m=\u001b[39m s\u001b[38;5;241m.\u001b[39mdecode(detect_encoding(s), \u001b[38;5;124m'\u001b[39m\u001b[38;5;124msurrogatepass\u001b[39m\u001b[38;5;124m'\u001b[39m)\n\u001b[0;32m    343\u001b[0m \u001b[38;5;28;01mif\u001b[39;00m (\u001b[38;5;28mcls\u001b[39m \u001b[38;5;129;01mis\u001b[39;00m \u001b[38;5;28;01mNone\u001b[39;00m \u001b[38;5;129;01mand\u001b[39;00m object_hook \u001b[38;5;129;01mis\u001b[39;00m \u001b[38;5;28;01mNone\u001b[39;00m \u001b[38;5;129;01mand\u001b[39;00m\n\u001b[0;32m    344\u001b[0m         parse_int \u001b[38;5;129;01mis\u001b[39;00m \u001b[38;5;28;01mNone\u001b[39;00m \u001b[38;5;129;01mand\u001b[39;00m parse_float \u001b[38;5;129;01mis\u001b[39;00m \u001b[38;5;28;01mNone\u001b[39;00m \u001b[38;5;129;01mand\u001b[39;00m\n\u001b[0;32m    345\u001b[0m         parse_constant \u001b[38;5;129;01mis\u001b[39;00m \u001b[38;5;28;01mNone\u001b[39;00m \u001b[38;5;129;01mand\u001b[39;00m object_pairs_hook \u001b[38;5;129;01mis\u001b[39;00m \u001b[38;5;28;01mNone\u001b[39;00m \u001b[38;5;129;01mand\u001b[39;00m \u001b[38;5;129;01mnot\u001b[39;00m kw):\n\u001b[1;32m--> 346\u001b[0m     \u001b[38;5;28;01mreturn\u001b[39;00m \u001b[43m_default_decoder\u001b[49m\u001b[38;5;241;43m.\u001b[39;49m\u001b[43mdecode\u001b[49m\u001b[43m(\u001b[49m\u001b[43ms\u001b[49m\u001b[43m)\u001b[49m\n\u001b[0;32m    347\u001b[0m \u001b[38;5;28;01mif\u001b[39;00m \u001b[38;5;28mcls\u001b[39m \u001b[38;5;129;01mis\u001b[39;00m \u001b[38;5;28;01mNone\u001b[39;00m:\n\u001b[0;32m    348\u001b[0m     \u001b[38;5;28mcls\u001b[39m \u001b[38;5;241m=\u001b[39m JSONDecoder\n",
      "File \u001b[1;32mD:\\ProgramData\\Miniconda3\\envs\\py311\\Lib\\json\\decoder.py:340\u001b[0m, in \u001b[0;36mJSONDecoder.decode\u001b[1;34m(self, s, _w)\u001b[0m\n\u001b[0;32m    338\u001b[0m end \u001b[38;5;241m=\u001b[39m _w(s, end)\u001b[38;5;241m.\u001b[39mend()\n\u001b[0;32m    339\u001b[0m \u001b[38;5;28;01mif\u001b[39;00m end \u001b[38;5;241m!=\u001b[39m \u001b[38;5;28mlen\u001b[39m(s):\n\u001b[1;32m--> 340\u001b[0m     \u001b[38;5;28;01mraise\u001b[39;00m JSONDecodeError(\u001b[38;5;124m\"\u001b[39m\u001b[38;5;124mExtra data\u001b[39m\u001b[38;5;124m\"\u001b[39m, s, end)\n\u001b[0;32m    341\u001b[0m \u001b[38;5;28;01mreturn\u001b[39;00m obj\n",
      "\u001b[1;31mJSONDecodeError\u001b[0m: Extra data: line 9 column 2 (char 149)"
     ]
    }
   ],
   "source": [
    "%%time\n",
    "items = []\n",
    "for i in tqdm(range(241)):\n",
    "    ret = describe_multiple(urls[i:i+1])\n",
    "    items.append(ret)\n",
    "    #time.sleep(1)"
   ]
  },
  {
   "cell_type": "code",
   "execution_count": 53,
   "id": "be53383c-badb-48b0-a53f-659d72259d51",
   "metadata": {},
   "outputs": [
    {
     "name": "stdout",
     "output_type": "stream",
     "text": [
      "exist='是' category=Category(primary='衣物', secondary='条纹衫') freshness='新' description='一件红黑相间的竖条纹短袖衬衫。' 17\n"
     ]
    }
   ],
   "source": [
    "print(ret, i)"
   ]
  },
  {
   "cell_type": "code",
   "execution_count": 59,
   "id": "8df1f380-f70d-43f6-8b24-3fed4d460e17",
   "metadata": {},
   "outputs": [
    {
     "name": "stdout",
     "output_type": "stream",
     "text": [
      "```json\n",
      "{\n",
      "    \"exist\": \"是\",\n",
      "    \"category\": {\n",
      "        \"primary\": \"衣物\",\n",
      "        \"secondary\": \"上衣\"\n",
      "    },\n",
      "    \"freshness\": \"新\",\n",
      "    \"description\": \"灰色高领长袖衬衫\"\n",
      "},\n",
      "```\n",
      "{\n",
      "    \"exist\": \"是\",\n",
      "    \"category\": {\n",
      "        \"primary\": \"衣物\",\n",
      "        \"secondary\": \"上衣\"\n",
      "    },\n",
      "    \"freshness\": \"新\",\n",
      "    \"description\": \"灰色高领长袖衬衫\"\n",
      "},\n"
     ]
    },
    {
     "ename": "JSONDecodeError",
     "evalue": "Extra data: line 9 column 2 (char 149)",
     "output_type": "error",
     "traceback": [
      "\u001b[1;31m---------------------------------------------------------------------------\u001b[0m",
      "\u001b[1;31mJSONDecodeError\u001b[0m                           Traceback (most recent call last)",
      "Cell \u001b[1;32mIn[59], line 1\u001b[0m\n\u001b[1;32m----> 1\u001b[0m \u001b[43mdescribe_multiple\u001b[49m\u001b[43m(\u001b[49m\u001b[43murls\u001b[49m\u001b[43m[\u001b[49m\u001b[43mi\u001b[49m\u001b[43m:\u001b[49m\u001b[43mi\u001b[49m\u001b[38;5;241;43m+\u001b[39;49m\u001b[38;5;241;43m1\u001b[39;49m\u001b[43m]\u001b[49m\u001b[43m)\u001b[49m\n",
      "Cell \u001b[1;32mIn[58], line 71\u001b[0m, in \u001b[0;36mdescribe_multiple\u001b[1;34m(images, prompt)\u001b[0m\n\u001b[0;32m     69\u001b[0m \u001b[38;5;28mprint\u001b[39m(text)\n\u001b[0;32m     70\u001b[0m \u001b[38;5;28;01mif\u001b[39;00m text \u001b[38;5;129;01mis\u001b[39;00m \u001b[38;5;28;01mNone\u001b[39;00m: \u001b[38;5;28;01mreturn\u001b[39;00m ResultDetail(exist\u001b[38;5;241m=\u001b[39m\u001b[38;5;124m\"\u001b[39m\u001b[38;5;124m否\u001b[39m\u001b[38;5;124m\"\u001b[39m, description\u001b[38;5;241m=\u001b[39mresult)\n\u001b[1;32m---> 71\u001b[0m data \u001b[38;5;241m=\u001b[39m \u001b[43mjson\u001b[49m\u001b[38;5;241;43m.\u001b[39;49m\u001b[43mloads\u001b[49m\u001b[43m(\u001b[49m\u001b[43mtext\u001b[49m\u001b[43m)\u001b[49m\n\u001b[0;32m     72\u001b[0m \u001b[38;5;28;01mif\u001b[39;00m \u001b[38;5;28mtype\u001b[39m(data) \u001b[38;5;241m==\u001b[39m \u001b[38;5;28mdict\u001b[39m:\n\u001b[0;32m     73\u001b[0m     item \u001b[38;5;241m=\u001b[39m ResultDetail(\u001b[38;5;241m*\u001b[39m\u001b[38;5;241m*\u001b[39mdata)\n",
      "File \u001b[1;32mD:\\ProgramData\\Miniconda3\\envs\\py311\\Lib\\json\\__init__.py:346\u001b[0m, in \u001b[0;36mloads\u001b[1;34m(s, cls, object_hook, parse_float, parse_int, parse_constant, object_pairs_hook, **kw)\u001b[0m\n\u001b[0;32m    341\u001b[0m     s \u001b[38;5;241m=\u001b[39m s\u001b[38;5;241m.\u001b[39mdecode(detect_encoding(s), \u001b[38;5;124m'\u001b[39m\u001b[38;5;124msurrogatepass\u001b[39m\u001b[38;5;124m'\u001b[39m)\n\u001b[0;32m    343\u001b[0m \u001b[38;5;28;01mif\u001b[39;00m (\u001b[38;5;28mcls\u001b[39m \u001b[38;5;129;01mis\u001b[39;00m \u001b[38;5;28;01mNone\u001b[39;00m \u001b[38;5;129;01mand\u001b[39;00m object_hook \u001b[38;5;129;01mis\u001b[39;00m \u001b[38;5;28;01mNone\u001b[39;00m \u001b[38;5;129;01mand\u001b[39;00m\n\u001b[0;32m    344\u001b[0m         parse_int \u001b[38;5;129;01mis\u001b[39;00m \u001b[38;5;28;01mNone\u001b[39;00m \u001b[38;5;129;01mand\u001b[39;00m parse_float \u001b[38;5;129;01mis\u001b[39;00m \u001b[38;5;28;01mNone\u001b[39;00m \u001b[38;5;129;01mand\u001b[39;00m\n\u001b[0;32m    345\u001b[0m         parse_constant \u001b[38;5;129;01mis\u001b[39;00m \u001b[38;5;28;01mNone\u001b[39;00m \u001b[38;5;129;01mand\u001b[39;00m object_pairs_hook \u001b[38;5;129;01mis\u001b[39;00m \u001b[38;5;28;01mNone\u001b[39;00m \u001b[38;5;129;01mand\u001b[39;00m \u001b[38;5;129;01mnot\u001b[39;00m kw):\n\u001b[1;32m--> 346\u001b[0m     \u001b[38;5;28;01mreturn\u001b[39;00m \u001b[43m_default_decoder\u001b[49m\u001b[38;5;241;43m.\u001b[39;49m\u001b[43mdecode\u001b[49m\u001b[43m(\u001b[49m\u001b[43ms\u001b[49m\u001b[43m)\u001b[49m\n\u001b[0;32m    347\u001b[0m \u001b[38;5;28;01mif\u001b[39;00m \u001b[38;5;28mcls\u001b[39m \u001b[38;5;129;01mis\u001b[39;00m \u001b[38;5;28;01mNone\u001b[39;00m:\n\u001b[0;32m    348\u001b[0m     \u001b[38;5;28mcls\u001b[39m \u001b[38;5;241m=\u001b[39m JSONDecoder\n",
      "File \u001b[1;32mD:\\ProgramData\\Miniconda3\\envs\\py311\\Lib\\json\\decoder.py:340\u001b[0m, in \u001b[0;36mJSONDecoder.decode\u001b[1;34m(self, s, _w)\u001b[0m\n\u001b[0;32m    338\u001b[0m end \u001b[38;5;241m=\u001b[39m _w(s, end)\u001b[38;5;241m.\u001b[39mend()\n\u001b[0;32m    339\u001b[0m \u001b[38;5;28;01mif\u001b[39;00m end \u001b[38;5;241m!=\u001b[39m \u001b[38;5;28mlen\u001b[39m(s):\n\u001b[1;32m--> 340\u001b[0m     \u001b[38;5;28;01mraise\u001b[39;00m JSONDecodeError(\u001b[38;5;124m\"\u001b[39m\u001b[38;5;124mExtra data\u001b[39m\u001b[38;5;124m\"\u001b[39m, s, end)\n\u001b[0;32m    341\u001b[0m \u001b[38;5;28;01mreturn\u001b[39;00m obj\n",
      "\u001b[1;31mJSONDecodeError\u001b[0m: Extra data: line 9 column 2 (char 149)"
     ]
    }
   ],
   "source": [
    " describe_multiple(urls[i:i+1])"
   ]
  },
  {
   "cell_type": "code",
   "execution_count": 9,
   "id": "bec7a56d-58ad-4501-a69c-8279da65e3e1",
   "metadata": {},
   "outputs": [],
   "source": [
    "table = \"<table><tr><th>Image</th><th>Result</th></tr>\"\n",
    "for i in range(1):\n",
    "    table += f\"<tr><td><img src='{urls[i]}' width='100'></td><td>{ret}</td></tr>\"    "
   ]
  },
  {
   "cell_type": "code",
   "execution_count": 10,
   "id": "fa315662-40a7-4403-a8b0-9a1c4709b712",
   "metadata": {},
   "outputs": [
    {
     "data": {
      "text/html": [
       "<table><tr><th>Image</th><th>Result</th></tr><tr><td><img src='https://milo-test.oss-cn-zhangjiakou.aliyuncs.com/hdd/batch1/image001.png' width='100'></td><td>exist='是' category=Category(primary='鞋子', secondary='运动鞋') freshness='旧' description='一双白色带有蓝色条纹装饰的运动鞋。'</td></tr>"
      ],
      "text/plain": [
       "<IPython.core.display.HTML object>"
      ]
     },
     "metadata": {},
     "output_type": "display_data"
    }
   ],
   "source": [
    "display(HTML(table))"
   ]
  },
  {
   "cell_type": "code",
   "execution_count": 11,
   "id": "de3a3ae4-5d48-4179-9d63-570d15c7065c",
   "metadata": {},
   "outputs": [],
   "source": [
    "from tqdm import tqdm"
   ]
  },
  {
   "cell_type": "code",
   "execution_count": 12,
   "id": "e8847407-9a71-490f-aaad-c41a1716d5a3",
   "metadata": {},
   "outputs": [
    {
     "name": "stderr",
     "output_type": "stream",
     "text": [
      "100%|████████████████████████████████████████████████████████████████████████████| 100/100 [00:00<00:00, 197100.75it/s]\n"
     ]
    }
   ],
   "source": [
    "for i in tqdm(range(100)):\n",
    "    pass"
   ]
  },
  {
   "cell_type": "code",
   "execution_count": 14,
   "id": "3e0b674e-3da5-471c-a735-0af03e885e46",
   "metadata": {},
   "outputs": [
    {
     "name": "stdout",
     "output_type": "stream",
     "text": [
      "CPU times: total: 15.6 ms\n",
      "Wall time: 1 s\n"
     ]
    }
   ],
   "source": [
    "%%time\n",
    "import time\n",
    "time.sleep(1)"
   ]
  },
  {
   "cell_type": "code",
   "execution_count": 26,
   "id": "5dd288af-4577-4587-9f07-0608cd41cf80",
   "metadata": {},
   "outputs": [
    {
     "data": {
      "text/html": [
       "<img src=\"https://milo-test.oss-cn-zhangjiakou.aliyuncs.com/hdd/batch1/image015.png\"/>"
      ],
      "text/plain": [
       "<IPython.core.display.Image object>"
      ]
     },
     "metadata": {},
     "output_type": "display_data"
    }
   ],
   "source": [
    "display(Image(url=f\"https://milo-test.oss-cn-zhangjiakou.aliyuncs.com/hdd/batch1/image{i+1:03}.png\"))"
   ]
  },
  {
   "cell_type": "code",
   "execution_count": 27,
   "id": "900f7f1c-da9d-4913-9686-5b93e7c93b28",
   "metadata": {},
   "outputs": [
    {
     "name": "stdout",
     "output_type": "stream",
     "text": [
      "```json\n",
      "[\n",
      "    {\n",
      "        \"exist\": \"是\",\n",
      "        \"category\": {\n",
      "            \"primary\": \"图书\",\n",
      "            \"secondary\": \"儿童绘本\"\n",
      "        },\n",
      "        \"freshness\": \"新\",\n",
      "        \"description\": \"中国儿童百科全书科学与技术篇\"\n",
      "    },\n",
      "    {\n",
      "        \"exist\": \"是\",\n",
      "        \"category\": {\n",
      "            \"primary\": \"图书\",\n",
      "            \"secondary\": \"儿童绘本\"\n",
      "        },\n",
      "        \"freshness\": \"新\",\n",
      "        \"description\": \"中国儿童百科全书文化生活篇\"\n",
      "    }\n",
      "]\n",
      "```\n",
      "\n",
      "根据提供的信息，两张图都是关于《中国儿童百科全书》系列的两册。这两本书都属于“儿童绘本”类别，并且它们的新旧程度均为“新”。\n"
     ]
    },
    {
     "ename": "JSONDecodeError",
     "evalue": "Extra data: line 21 column 1 (char 392)",
     "output_type": "error",
     "traceback": [
      "\u001b[1;31m---------------------------------------------------------------------------\u001b[0m",
      "\u001b[1;31mJSONDecodeError\u001b[0m                           Traceback (most recent call last)",
      "Cell \u001b[1;32mIn[27], line 1\u001b[0m\n\u001b[1;32m----> 1\u001b[0m \u001b[43mdescribe_multiple\u001b[49m\u001b[43m(\u001b[49m\u001b[43murls\u001b[49m\u001b[43m[\u001b[49m\u001b[43mi\u001b[49m\u001b[43m:\u001b[49m\u001b[43mi\u001b[49m\u001b[38;5;241;43m+\u001b[39;49m\u001b[38;5;241;43m1\u001b[39;49m\u001b[43m]\u001b[49m\u001b[43m)\u001b[49m\n",
      "Cell \u001b[1;32mIn[25], line 63\u001b[0m, in \u001b[0;36mdescribe_multiple\u001b[1;34m(images, prompt)\u001b[0m\n\u001b[0;32m     61\u001b[0m result \u001b[38;5;241m=\u001b[39m response\u001b[38;5;241m.\u001b[39moutput\u001b[38;5;241m.\u001b[39mchoices[\u001b[38;5;241m0\u001b[39m]\u001b[38;5;241m.\u001b[39mmessage\u001b[38;5;241m.\u001b[39mcontent[\u001b[38;5;241m0\u001b[39m][\u001b[38;5;124m\"\u001b[39m\u001b[38;5;124mtext\u001b[39m\u001b[38;5;124m\"\u001b[39m]\n\u001b[0;32m     62\u001b[0m \u001b[38;5;28mprint\u001b[39m(result)\n\u001b[1;32m---> 63\u001b[0m data \u001b[38;5;241m=\u001b[39m \u001b[43mjson\u001b[49m\u001b[38;5;241;43m.\u001b[39;49m\u001b[43mloads\u001b[49m\u001b[43m(\u001b[49m\u001b[43mresult\u001b[49m\u001b[38;5;241;43m.\u001b[39;49m\u001b[43mstrip\u001b[49m\u001b[43m(\u001b[49m\u001b[43m)\u001b[49m\u001b[38;5;241;43m.\u001b[39;49m\u001b[43mlstrip\u001b[49m\u001b[43m(\u001b[49m\u001b[38;5;124;43m\"\u001b[39;49m\u001b[38;5;124;43m```json\u001b[39;49m\u001b[38;5;124;43m\"\u001b[39;49m\u001b[43m)\u001b[49m\u001b[38;5;241;43m.\u001b[39;49m\u001b[43mrstrip\u001b[49m\u001b[43m(\u001b[49m\u001b[38;5;124;43m\"\u001b[39;49m\u001b[38;5;124;43m```\u001b[39;49m\u001b[38;5;124;43m\"\u001b[39;49m\u001b[43m)\u001b[49m\u001b[38;5;241;43m.\u001b[39;49m\u001b[43mstrip\u001b[49m\u001b[43m(\u001b[49m\u001b[43m)\u001b[49m\u001b[43m)\u001b[49m\n\u001b[0;32m     64\u001b[0m item \u001b[38;5;241m=\u001b[39m ResultDetail(\u001b[38;5;241m*\u001b[39m\u001b[38;5;241m*\u001b[39mdata)\n\u001b[0;32m     65\u001b[0m \u001b[38;5;28;01mreturn\u001b[39;00m item\n",
      "File \u001b[1;32mD:\\ProgramData\\Miniconda3\\envs\\py311\\Lib\\json\\__init__.py:346\u001b[0m, in \u001b[0;36mloads\u001b[1;34m(s, cls, object_hook, parse_float, parse_int, parse_constant, object_pairs_hook, **kw)\u001b[0m\n\u001b[0;32m    341\u001b[0m     s \u001b[38;5;241m=\u001b[39m s\u001b[38;5;241m.\u001b[39mdecode(detect_encoding(s), \u001b[38;5;124m'\u001b[39m\u001b[38;5;124msurrogatepass\u001b[39m\u001b[38;5;124m'\u001b[39m)\n\u001b[0;32m    343\u001b[0m \u001b[38;5;28;01mif\u001b[39;00m (\u001b[38;5;28mcls\u001b[39m \u001b[38;5;129;01mis\u001b[39;00m \u001b[38;5;28;01mNone\u001b[39;00m \u001b[38;5;129;01mand\u001b[39;00m object_hook \u001b[38;5;129;01mis\u001b[39;00m \u001b[38;5;28;01mNone\u001b[39;00m \u001b[38;5;129;01mand\u001b[39;00m\n\u001b[0;32m    344\u001b[0m         parse_int \u001b[38;5;129;01mis\u001b[39;00m \u001b[38;5;28;01mNone\u001b[39;00m \u001b[38;5;129;01mand\u001b[39;00m parse_float \u001b[38;5;129;01mis\u001b[39;00m \u001b[38;5;28;01mNone\u001b[39;00m \u001b[38;5;129;01mand\u001b[39;00m\n\u001b[0;32m    345\u001b[0m         parse_constant \u001b[38;5;129;01mis\u001b[39;00m \u001b[38;5;28;01mNone\u001b[39;00m \u001b[38;5;129;01mand\u001b[39;00m object_pairs_hook \u001b[38;5;129;01mis\u001b[39;00m \u001b[38;5;28;01mNone\u001b[39;00m \u001b[38;5;129;01mand\u001b[39;00m \u001b[38;5;129;01mnot\u001b[39;00m kw):\n\u001b[1;32m--> 346\u001b[0m     \u001b[38;5;28;01mreturn\u001b[39;00m \u001b[43m_default_decoder\u001b[49m\u001b[38;5;241;43m.\u001b[39;49m\u001b[43mdecode\u001b[49m\u001b[43m(\u001b[49m\u001b[43ms\u001b[49m\u001b[43m)\u001b[49m\n\u001b[0;32m    347\u001b[0m \u001b[38;5;28;01mif\u001b[39;00m \u001b[38;5;28mcls\u001b[39m \u001b[38;5;129;01mis\u001b[39;00m \u001b[38;5;28;01mNone\u001b[39;00m:\n\u001b[0;32m    348\u001b[0m     \u001b[38;5;28mcls\u001b[39m \u001b[38;5;241m=\u001b[39m JSONDecoder\n",
      "File \u001b[1;32mD:\\ProgramData\\Miniconda3\\envs\\py311\\Lib\\json\\decoder.py:340\u001b[0m, in \u001b[0;36mJSONDecoder.decode\u001b[1;34m(self, s, _w)\u001b[0m\n\u001b[0;32m    338\u001b[0m end \u001b[38;5;241m=\u001b[39m _w(s, end)\u001b[38;5;241m.\u001b[39mend()\n\u001b[0;32m    339\u001b[0m \u001b[38;5;28;01mif\u001b[39;00m end \u001b[38;5;241m!=\u001b[39m \u001b[38;5;28mlen\u001b[39m(s):\n\u001b[1;32m--> 340\u001b[0m     \u001b[38;5;28;01mraise\u001b[39;00m JSONDecodeError(\u001b[38;5;124m\"\u001b[39m\u001b[38;5;124mExtra data\u001b[39m\u001b[38;5;124m\"\u001b[39m, s, end)\n\u001b[0;32m    341\u001b[0m \u001b[38;5;28;01mreturn\u001b[39;00m obj\n",
      "\u001b[1;31mJSONDecodeError\u001b[0m: Extra data: line 21 column 1 (char 392)"
     ]
    }
   ],
   "source": [
    "describe_multiple(urls[i:i+1])"
   ]
  },
  {
   "cell_type": "code",
   "execution_count": 28,
   "id": "66c419bc-9f48-4d6e-aa9d-1d70f3570cb5",
   "metadata": {},
   "outputs": [],
   "source": [
    "s = '''```json\n",
    "[\n",
    "    {\n",
    "        \"exist\": \"是\",\n",
    "        \"category\": {\n",
    "            \"primary\": \"图书\",\n",
    "            \"secondary\": \"儿童绘本\"\n",
    "        },\n",
    "        \"freshness\": \"新\",\n",
    "        \"description\": \"中国儿童百科全书科学与技术篇\"\n",
    "    },\n",
    "    {\n",
    "        \"exist\": \"是\",\n",
    "        \"category\": {\n",
    "            \"primary\": \"图书\",\n",
    "            \"secondary\": \"儿童绘本\"\n",
    "        },\n",
    "        \"freshness\": \"新\",\n",
    "        \"description\": \"中国儿童百科全书文化生活篇\"\n",
    "    }\n",
    "]\n",
    "```\n",
    "\n",
    "根据提供的信息，两张图都是关于《中国儿童百科全书》系列的两册。这两本书都属于“儿童绘本”类别，并且它们的新旧程度均为“新”。'''"
   ]
  },
  {
   "cell_type": "code",
   "execution_count": 33,
   "id": "c6b5f858-8321-49ed-aafc-a6416404fe60",
   "metadata": {},
   "outputs": [],
   "source": [
    "import re\n",
    "def extract_json_content_multiline(text):\n",
    "    matched_content = re.search(r\"```json\\s([\\s\\S]+?)\\s```\", text)\n",
    "    return matched_content.group(1) if matched_content else None"
   ]
  },
  {
   "cell_type": "code",
   "execution_count": 35,
   "id": "48bfe22b-6814-4c82-ad73-968ce22f42c6",
   "metadata": {},
   "outputs": [],
   "source": [
    "text = extract_json_content_multiline(s)"
   ]
  },
  {
   "cell_type": "code",
   "execution_count": 37,
   "id": "d38d0d41-59fa-4847-802b-ae738aa5b264",
   "metadata": {},
   "outputs": [],
   "source": [
    "item1 = json.loads(text)"
   ]
  },
  {
   "cell_type": "code",
   "execution_count": 41,
   "id": "b04ad79d-6eb7-4db6-a206-42786356e97c",
   "metadata": {},
   "outputs": [
    {
     "data": {
      "text/plain": [
       "False"
      ]
     },
     "execution_count": 41,
     "metadata": {},
     "output_type": "execute_result"
    }
   ],
   "source": [
    "type(item1) == dict"
   ]
  },
  {
   "cell_type": "code",
   "execution_count": 39,
   "id": "11ee1ec8-518e-4afb-9458-e7fe34a7ef45",
   "metadata": {},
   "outputs": [
    {
     "data": {
      "text/plain": [
       "dict"
      ]
     },
     "execution_count": 39,
     "metadata": {},
     "output_type": "execute_result"
    }
   ],
   "source": [
    "type(item1[0])"
   ]
  },
  {
   "cell_type": "code",
   "execution_count": 48,
   "id": "b7776860-28dc-451a-82dd-b7e40ac5c504",
   "metadata": {},
   "outputs": [
    {
     "data": {
      "text/plain": [
       "ResultDetail(exist='否', category=None, freshness=None, description=None)"
      ]
     },
     "execution_count": 48,
     "metadata": {},
     "output_type": "execute_result"
    }
   ],
   "source": [
    "ResultDetail(exist=\"否\")"
   ]
  },
  {
   "cell_type": "code",
   "execution_count": null,
   "id": "7e1a3203-009b-4de2-b80a-6ada4de845d3",
   "metadata": {},
   "outputs": [],
   "source": []
  }
 ],
 "metadata": {
  "kernelspec": {
   "display_name": "Python 3 (ipykernel)",
   "language": "python",
   "name": "python3"
  },
  "language_info": {
   "codemirror_mode": {
    "name": "ipython",
    "version": 3
   },
   "file_extension": ".py",
   "mimetype": "text/x-python",
   "name": "python",
   "nbconvert_exporter": "python",
   "pygments_lexer": "ipython3",
   "version": "3.11.5"
  }
 },
 "nbformat": 4,
 "nbformat_minor": 5
}
