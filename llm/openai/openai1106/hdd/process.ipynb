{
 "cells": [
  {
   "cell_type": "code",
   "execution_count": 23,
   "metadata": {},
   "outputs": [],
   "source": [
    "import pandas as pd\n",
    "import openpyxl\n",
    "import openpyxl.drawing.image\n",
    "import json\n",
    "\n",
    "def extract_images_from_xlsx(file_path):\n",
    "    workbook = openpyxl.load_workbook(filename=file_path)\n",
    "    images = []\n",
    "\n",
    "    for sheet in workbook.worksheets:\n",
    "        for drawing in sheet._images:\n",
    "            if isinstance(drawing, openpyxl.drawing.image.Image):\n",
    "                images.append(drawing)\n",
    "\n",
    "    return images\n",
    "\n",
    "def read_xls_with_images(file_path):\n",
    "    df = pd.read_excel(file_path, keep_default_na=False)\n",
    "    images = extract_images_from_xlsx(file_path)\n",
    "    assert len(df) == len(images)\n",
    "    df[\"image\"] = images\n",
    "    return df\n",
    "\n",
    "def process(x):\n",
    "    response = json.loads(x)\n",
    "    s = response[\"choices\"][0][\"message\"][\"content\"].lstrip(\"```json\\n\").rstrip(\"\\n```\")\n",
    "    item = json.loads(s)\n",
    "    exist = item[\"exist\"]\n",
    "    primary = secondary = freshness = \"\"\n",
    "    if exist == \"是\":\n",
    "        primary = item[\"category\"][\"primary\"]\n",
    "        secondary = item[\"category\"][\"secondary\"]\n",
    "        freshness = item[\"freshness\"]\n",
    "    return exist, primary, secondary, freshness, response[\"usage\"][\"total_tokens\"], json.dumps(item, ensure_ascii=False), x\n",
    "\n",
    "\n",
    "def main():\n",
    "    ifile = \"data.xlsx\"\n",
    "    ofile = \"data2.xlsx\"\n",
    "    df = read_xls_with_images(ifile)\n",
    "    \n",
    "    df = df.head(91)\n",
    "    results = pd.DataFrame(open(\"output.jsonl\").readlines())\n",
    "    df[\"results\"] = results.loc[:,0]\n",
    "    \n",
    "    df[\"exist\"], df[\"primary\"], df[\"secondary\"], df[\"freshness\"], df[\"tokens\"], df[\"json\"], df[\"model_output\"] = zip(*df[\"results\"].map(process))\n",
    "\n",
    "    df.drop('image', axis=1).drop('results', axis=1).to_excel(ofile, index=False)\n",
    "    \n",
    "    workbook = openpyxl.load_workbook(ofile)\n",
    "    sheet = workbook.active\n",
    "\n",
    "    sheet.column_dimensions['E'].width = 20\n",
    "\n",
    "    for i in range(2, len(df) + 2):\n",
    "        sheet.row_dimensions[i].height = 160\n",
    "\n",
    "    for index, row in df.iterrows():\n",
    "        image = row['image']\n",
    "        image.width = 160\n",
    "        image.height = 200\n",
    "        cell = 'E' + str(index + 2)\n",
    "        sheet.add_image(image, cell)\n",
    "\n",
    "    workbook.save(ofile)\n"
   ]
  },
  {
   "cell_type": "code",
   "execution_count": 24,
   "metadata": {},
   "outputs": [],
   "source": [
    "main()"
   ]
  },
  {
   "cell_type": "code",
   "execution_count": null,
   "metadata": {},
   "outputs": [],
   "source": []
  }
 ],
 "metadata": {
  "kernelspec": {
   "display_name": "oai1106",
   "language": "python",
   "name": "python3"
  },
  "language_info": {
   "codemirror_mode": {
    "name": "ipython",
    "version": 3
   },
   "file_extension": ".py",
   "mimetype": "text/x-python",
   "name": "python",
   "nbconvert_exporter": "python",
   "pygments_lexer": "ipython3",
   "version": "3.11.5"
  }
 },
 "nbformat": 4,
 "nbformat_minor": 2
}
