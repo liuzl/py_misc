{
 "cells": [
  {
   "cell_type": "code",
   "execution_count": 84,
   "metadata": {},
   "outputs": [],
   "source": [
    "import pandas as pd\n",
    "import openpyxl\n",
    "import openpyxl.drawing.image\n",
    "import base64\n",
    "import json\n",
    "\n",
    "def extract_images_from_xlsx(file_path):\n",
    "    workbook = openpyxl.load_workbook(filename=file_path)\n",
    "    images = []\n",
    "\n",
    "    for sheet in workbook.worksheets:\n",
    "        for drawing in sheet._images:\n",
    "            if isinstance(drawing, openpyxl.drawing.image.Image):\n",
    "                images.append(drawing)\n",
    "\n",
    "    return images\n",
    "\n",
    "def read_xls_with_images(file_path):\n",
    "    df = pd.read_excel(file_path, keep_default_na=False)\n",
    "    images = extract_images_from_xlsx(file_path)\n",
    "    assert len(df) == len(images)\n",
    "    df[\"image\"] = images\n",
    "    return df"
   ]
  },
  {
   "cell_type": "code",
   "execution_count": 85,
   "metadata": {},
   "outputs": [],
   "source": [
    "df = read_xls_with_images('data.xlsx')"
   ]
  },
  {
   "cell_type": "code",
   "execution_count": 86,
   "metadata": {},
   "outputs": [],
   "source": [
    "import os\n",
    "import openai\n",
    "from dotenv import load_dotenv, find_dotenv\n",
    "_ = load_dotenv(find_dotenv())\n",
    "\n",
    "client = openai.OpenAI(\n",
    "    api_key=os.getenv(\"OPENAI_API_KEY\"),\n",
    "    base_url=os.getenv(\"OPENAI_BASE_URL\"),\n",
    ")"
   ]
  },
  {
   "cell_type": "code",
   "execution_count": 95,
   "metadata": {},
   "outputs": [],
   "source": [
    "prompt='''任务简介：\n",
    "- 识别图片中的主要物品，判断其分类并评估新旧程度。\n",
    "\n",
    "分类标准：\n",
    "- 服装：大衣、皮衣、半袖、裤子、裙子、内衣裤、秋衣类、毛衣类、工装、校服。\n",
    "- 家电：空气净化器、厨房家电、家居家电。\n",
    "- 乐器：电子乐器、琴类。\n",
    "- 玩具：小件（手办）、大件、毛绒玩具。\n",
    "- 图书：儿童绘本、课外书、小说、套装书籍、课本。\n",
    "- 手机：智能手机、功能机。\n",
    "- 笔记本电脑：品牌电脑、非品牌电脑。\n",
    "\n",
    "回答格式（JSON）：\n",
    "{\n",
    "    \"exist\": \"是/否\",\n",
    "    \"category\": {\n",
    "        \"primary\": \"一级分类\",\n",
    "        \"secondary\": \"二级分类\"\n",
    "    },\n",
    "    \"freshness\": \"新/旧/中等\"\n",
    "}\n",
    "'''\n",
    "\n",
    "def describe(b64image):\n",
    "    response = client.chat.completions.create(\n",
    "        model=\"gpt-4-vision-preview\",\n",
    "        messages=[{\n",
    "            \"role\": \"user\",\n",
    "            \"content\": [\n",
    "                {\"type\": \"text\", \"text\": prompt},\n",
    "                {\n",
    "                    \"type\": \"image_url\",\n",
    "                    \"image_url\": {\n",
    "                        \"url\": b64image,\n",
    "                        \"detail\": \"low\",\n",
    "                    }\n",
    "                }\n",
    "            ]\n",
    "        }],\n",
    "        max_tokens=300,\n",
    "    )\n",
    "    print(response.model_dump_json())\n",
    "    return response"
   ]
  },
  {
   "cell_type": "code",
   "execution_count": 96,
   "metadata": {},
   "outputs": [],
   "source": [
    "def process(image: openpyxl.drawing.image.Image):\n",
    "    x = f\"data:image/{image.format};base64,{base64.b64encode(image.ref.getvalue()).decode()}\"\n",
    "    response = describe(x)\n",
    "    s = response.choices[0].message.content.lstrip(\"```json\\n\").rstrip(\"\\n```\")\n",
    "    item = json.loads(s)\n",
    "    exist = item[\"exist\"]\n",
    "    primary = secondary = freshness = \"\"\n",
    "    if exist == \"是\":\n",
    "        primary = item[\"category\"][\"primary\"]\n",
    "        secondary = item[\"category\"][\"secondary\"]\n",
    "        freshness = item[\"freshness\"]\n",
    "    return exist, primary, secondary, freshness, response.usage.total_tokens, json.dumps(item, ensure_ascii=False), response.model_dump_json()"
   ]
  },
  {
   "cell_type": "code",
   "execution_count": 97,
   "metadata": {},
   "outputs": [
    {
     "name": "stdout",
     "output_type": "stream",
     "text": [
      "{\"id\":\"chatcmpl-8NAnnXuRnhfG7jrEDByQP0X4LcovD\",\"choices\":[{\"finish_reason\":null,\"index\":0,\"message\":{\"content\":\"{\\n    \\\"exist\\\": \\\"是\\\",\\n    \\\"category\\\": {\\n        \\\"primary\\\": \\\"玩具\\\",\\n        \\\"secondary\\\": \\\"毛绒玩具\\\"\\n    },\\n    \\\"freshness\\\": \\\"中等\\\"\\n}\",\"role\":\"assistant\",\"function_call\":null,\"tool_calls\":null},\"finish_details\":{\"type\":\"stop\",\"stop\":\"<|fim_suffix|>\"}}],\"created\":1700533759,\"model\":\"gpt-4-1106-vision-preview\",\"object\":\"chat.completion\",\"system_fingerprint\":null,\"usage\":{\"completion_tokens\":47,\"prompt_tokens\":376,\"total_tokens\":423}}\n"
     ]
    }
   ],
   "source": [
    "out = process(df.loc[28, \"image\"])"
   ]
  },
  {
   "cell_type": "code",
   "execution_count": 90,
   "metadata": {},
   "outputs": [
    {
     "data": {
      "text/plain": [
       "('是',\n",
       " '玩具',\n",
       " '毛绒玩具',\n",
       " '新',\n",
       " 426,\n",
       " '{\"exist\": \"是\", \"category\": {\"primary\": \"玩具\", \"secondary\": \"毛绒玩具\"}, \"freshness\": \"新\"}',\n",
       " '{\"id\":\"chatcmpl-8NAhSSZvBSwX8DwzSmr1Yb5xHzDD0\",\"choices\":[{\"finish_reason\":null,\"index\":0,\"message\":{\"content\":\"```json\\\\n{\\\\n    \\\\\"exist\\\\\": \\\\\"是\\\\\",\\\\n    \\\\\"category\\\\\": {\\\\n        \\\\\"primary\\\\\": \\\\\"玩具\\\\\",\\\\n        \\\\\"secondary\\\\\": \\\\\"毛绒玩具\\\\\"\\\\n    },\\\\n    \\\\\"freshness\\\\\": \\\\\"新\\\\\"\\\\n}\\\\n```\",\"role\":\"assistant\",\"function_call\":null,\"tool_calls\":null},\"finish_details\":{\"type\":\"stop\",\"stop\":\"<|fim_suffix|>\"}}],\"created\":1700533366,\"model\":\"gpt-4-1106-vision-preview\",\"object\":\"chat.completion\",\"system_fingerprint\":null,\"usage\":{\"completion_tokens\":50,\"prompt_tokens\":376,\"total_tokens\":426}}')"
      ]
     },
     "execution_count": 90,
     "metadata": {},
     "output_type": "execute_result"
    }
   ],
   "source": [
    "out"
   ]
  },
  {
   "cell_type": "code",
   "execution_count": 92,
   "metadata": {},
   "outputs": [],
   "source": [
    "def process1(x):\n",
    "    return x,x,x,x"
   ]
  },
  {
   "cell_type": "code",
   "execution_count": 93,
   "metadata": {},
   "outputs": [
    {
     "data": {
      "text/plain": [
       "(29, 29, 29, 29)"
      ]
     },
     "execution_count": 93,
     "metadata": {},
     "output_type": "execute_result"
    }
   ],
   "source": [
    "process1(df.loc[28, \"序号\"])"
   ]
  },
  {
   "cell_type": "code",
   "execution_count": 94,
   "metadata": {},
   "outputs": [
    {
     "data": {
      "text/plain": [
       "0              (1, 1, 1, 1)\n",
       "1              (2, 2, 2, 2)\n",
       "2              (3, 3, 3, 3)\n",
       "3              (4, 4, 4, 4)\n",
       "4              (5, 5, 5, 5)\n",
       "               ...         \n",
       "236    (237, 237, 237, 237)\n",
       "237    (238, 238, 238, 238)\n",
       "238    (239, 239, 239, 239)\n",
       "239    (240, 240, 240, 240)\n",
       "240    (241, 241, 241, 241)\n",
       "Name: 序号, Length: 241, dtype: object"
      ]
     },
     "execution_count": 94,
     "metadata": {},
     "output_type": "execute_result"
    }
   ],
   "source": [
    "df[\"序号\"].map(process1)"
   ]
  },
  {
   "cell_type": "code",
   "execution_count": null,
   "metadata": {},
   "outputs": [],
   "source": [
    "df[\"exist\"], df[\"primary\"], df[\"secondary\"], df[\"freshness\"], df[\"tokens\"], df[\"json\"], df[\"model\"] = zip(*df[\"image\"].map(process))"
   ]
  }
 ],
 "metadata": {
  "kernelspec": {
   "display_name": "oai1106",
   "language": "python",
   "name": "python3"
  },
  "language_info": {
   "codemirror_mode": {
    "name": "ipython",
    "version": 3
   },
   "file_extension": ".py",
   "mimetype": "text/x-python",
   "name": "python",
   "nbconvert_exporter": "python",
   "pygments_lexer": "ipython3",
   "version": "3.11.5"
  }
 },
 "nbformat": 4,
 "nbformat_minor": 2
}
