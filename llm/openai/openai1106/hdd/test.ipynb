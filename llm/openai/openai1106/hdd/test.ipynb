{
 "cells": [
  {
   "cell_type": "code",
   "execution_count": 1,
   "metadata": {},
   "outputs": [],
   "source": [
    "import pandas as pd\n",
    "import openpyxl\n",
    "import openpyxl.drawing.image\n",
    "import base64\n",
    "import json\n",
    "\n",
    "def extract_images_from_xlsx(file_path):\n",
    "    workbook = openpyxl.load_workbook(filename=file_path)\n",
    "    images = []\n",
    "\n",
    "    for sheet in workbook.worksheets:\n",
    "        for drawing in sheet._images:\n",
    "            if isinstance(drawing, openpyxl.drawing.image.Image):\n",
    "                item = f\"data:image/{drawing.format};base64,{base64.b64encode(drawing.ref.getvalue()).decode()}\"\n",
    "                images.append(item)\n",
    "\n",
    "    return images\n",
    "\n",
    "def read_xls_with_images(file_path):\n",
    "    df = pd.read_excel(file_path, keep_default_na=False)\n",
    "    images = extract_images_from_xlsx(file_path)\n",
    "    assert len(df) == len(images)\n",
    "    df[\"image\"] = images\n",
    "    return df"
   ]
  },
  {
   "cell_type": "code",
   "execution_count": 2,
   "metadata": {},
   "outputs": [],
   "source": [
    "df = read_xls_with_images('data.xlsx')"
   ]
  },
  {
   "cell_type": "code",
   "execution_count": 3,
   "metadata": {},
   "outputs": [],
   "source": [
    "import os\n",
    "import openai\n",
    "from dotenv import load_dotenv, find_dotenv\n",
    "_ = load_dotenv(find_dotenv())\n",
    "\n",
    "client = openai.OpenAI(\n",
    "    api_key=os.getenv(\"OPENAI_API_KEY\"),\n",
    "    base_url=os.getenv(\"OPENAI_BASE_URL\"),\n",
    ")"
   ]
  },
  {
   "cell_type": "code",
   "execution_count": 4,
   "metadata": {},
   "outputs": [],
   "source": [
    "def describe(b64image):\n",
    "    response = client.chat.completions.create(\n",
    "        model=\"gpt-4-vision-preview\",\n",
    "        messages=[{\n",
    "            \"role\": \"user\",\n",
    "            \"content\": [\n",
    "                {\"type\": \"text\", \"text\":\"\"},\n",
    "                {\n",
    "                    \"type\": \"image_url\",\n",
    "                    \"image_url\": {\n",
    "                        \"url\": b64image,\n",
    "                        \"detail\": \"low\",\n",
    "                    }\n",
    "                }\n",
    "            ]\n",
    "        }],\n",
    "        max_tokens=300,\n",
    "    )\n",
    "    return response"
   ]
  },
  {
   "cell_type": "code",
   "execution_count": 5,
   "metadata": {},
   "outputs": [],
   "source": [
    "response = describe(df.loc[2, \"image\"])"
   ]
  },
  {
   "cell_type": "markdown",
   "metadata": {},
   "source": []
  },
  {
   "cell_type": "code",
   "execution_count": 6,
   "metadata": {},
   "outputs": [
    {
     "name": "stdout",
     "output_type": "stream",
     "text": [
      "{\n",
      "  \"id\": \"chatcmpl-8Msd4ZKZBW067tXzTIdf2icb6ht1c\",\n",
      "  \"choices\": [\n",
      "    {\n",
      "      \"finish_reason\": null,\n",
      "      \"index\": 0,\n",
      "      \"message\": {\n",
      "        \"content\": \"You've shared an image of a pair of light-colored shoes placed on a floor. The shoes appear to be neatly positioned side by side, facing up, with their laces tied. It's a simple image that showcases the shoes quite prominently, potentially for the purpose of sale, evaluation, or to share with someone. If you have any specific questions about these shoes or if there's anything else you'd like to know or say about them, feel free to ask!\",\n",
      "        \"role\": \"assistant\",\n",
      "        \"function_call\": null,\n",
      "        \"tool_calls\": null\n",
      "      },\n",
      "      \"finish_details\": {\n",
      "        \"type\": \"stop\",\n",
      "        \"stop\": \"<|fim_suffix|>\"\n",
      "      }\n",
      "    }\n",
      "  ],\n",
      "  \"created\": 1700463902,\n",
      "  \"model\": \"gpt-4-1106-vision-preview\",\n",
      "  \"object\": \"chat.completion\",\n",
      "  \"system_fingerprint\": null,\n",
      "  \"usage\": {\n",
      "    \"completion_tokens\": 94,\n",
      "    \"prompt_tokens\": 92,\n",
      "    \"total_tokens\": 186\n",
      "  }\n",
      "}\n"
     ]
    }
   ],
   "source": [
    "print(json.dumps(json.loads(response.model_dump_json()), indent=2))"
   ]
  },
  {
   "cell_type": "code",
   "execution_count": null,
   "metadata": {},
   "outputs": [],
   "source": []
  }
 ],
 "metadata": {
  "kernelspec": {
   "display_name": "oai1106",
   "language": "python",
   "name": "python3"
  },
  "language_info": {
   "codemirror_mode": {
    "name": "ipython",
    "version": 3
   },
   "file_extension": ".py",
   "mimetype": "text/x-python",
   "name": "python",
   "nbconvert_exporter": "python",
   "pygments_lexer": "ipython3",
   "version": "3.11.5"
  }
 },
 "nbformat": 4,
 "nbformat_minor": 2
}
