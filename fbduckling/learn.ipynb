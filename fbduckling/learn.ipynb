{
 "cells": [
  {
   "cell_type": "code",
   "execution_count": 1,
   "metadata": {},
   "outputs": [],
   "source": [
    "import duckling"
   ]
  },
  {
   "cell_type": "code",
   "execution_count": 2,
   "metadata": {},
   "outputs": [],
   "source": [
    "tag = duckling.Duckling()"
   ]
  },
  {
   "cell_type": "code",
   "execution_count": 3,
   "metadata": {},
   "outputs": [],
   "source": [
    "text = \"明年国庆节下午两点半的时候，我们去王龙家吧，需要开车三到四百公里呢\""
   ]
  },
  {
   "cell_type": "code",
   "execution_count": 4,
   "metadata": {},
   "outputs": [
    {
     "data": {
      "text/plain": [
       "[{'body': '明年国庆节下午两点半',\n",
       "  'start': 0,\n",
       "  'value': {'values': [{'value': '2022-10-01T14:30:00.000+08:00',\n",
       "     'grain': 'minute',\n",
       "     'type': 'value'}],\n",
       "   'value': '2022-10-01T14:30:00.000+08:00',\n",
       "   'grain': 'minute',\n",
       "   'type': 'value'},\n",
       "  'end': 10,\n",
       "  'dim': 'time',\n",
       "  'latent': False},\n",
       " {'body': '三到四百公里',\n",
       "  'start': 26,\n",
       "  'value': {'to': {'value': 400, 'unit': 'kilometre'},\n",
       "   'from': {'value': 3, 'unit': 'kilometre'},\n",
       "   'type': 'interval'},\n",
       "  'end': 32,\n",
       "  'dim': 'distance',\n",
       "  'latent': False}]"
      ]
     },
     "execution_count": 4,
     "metadata": {},
     "output_type": "execute_result"
    }
   ],
   "source": [
    "tag(text)"
   ]
  },
  {
   "cell_type": "code",
   "execution_count": 10,
   "metadata": {},
   "outputs": [
    {
     "data": {
      "text/plain": [
       "[{'body': '今天',\n",
       "  'start': 0,\n",
       "  'value': {'values': [{'value': '2021-07-08T00:00:00.000+08:00',\n",
       "     'grain': 'day',\n",
       "     'type': 'value'}],\n",
       "   'value': '2021-07-08T00:00:00.000+08:00',\n",
       "   'grain': 'day',\n",
       "   'type': 'value'},\n",
       "  'end': 2,\n",
       "  'dim': 'time',\n",
       "  'latent': False},\n",
       " {'body': '明天',\n",
       "  'start': 8,\n",
       "  'value': {'values': [{'value': '2021-07-09T00:00:00.000+08:00',\n",
       "     'grain': 'day',\n",
       "     'type': 'value'}],\n",
       "   'value': '2021-07-09T00:00:00.000+08:00',\n",
       "   'grain': 'day',\n",
       "   'type': 'value'},\n",
       "  'end': 10,\n",
       "  'dim': 'time',\n",
       "  'latent': False}]"
      ]
     },
     "execution_count": 10,
     "metadata": {},
     "output_type": "execute_result"
    }
   ],
   "source": [
    "tag(\"今天天气怎么样？明天呢\")"
   ]
  },
  {
   "cell_type": "code",
   "execution_count": 16,
   "metadata": {},
   "outputs": [
    {
     "data": {
      "text/plain": [
       "[{'body': '五十七万',\n",
       "  'start': 0,\n",
       "  'value': {'value': 570000, 'type': 'value'},\n",
       "  'end': 4,\n",
       "  'dim': 'number',\n",
       "  'latent': False},\n",
       " {'body': '七万三千零二十',\n",
       "  'start': 2,\n",
       "  'value': {'value': 73020, 'type': 'value'},\n",
       "  'end': 9,\n",
       "  'dim': 'number',\n",
       "  'latent': False}]"
      ]
     },
     "execution_count": 16,
     "metadata": {},
     "output_type": "execute_result"
    }
   ],
   "source": [
    "tag(\"五十七万三千零二十\")"
   ]
  },
  {
   "cell_type": "code",
   "execution_count": null,
   "metadata": {},
   "outputs": [],
   "source": []
  }
 ],
 "metadata": {
  "kernelspec": {
   "display_name": "Python 3",
   "language": "python",
   "name": "python3"
  },
  "language_info": {
   "codemirror_mode": {
    "name": "ipython",
    "version": 3
   },
   "file_extension": ".py",
   "mimetype": "text/x-python",
   "name": "python",
   "nbconvert_exporter": "python",
   "pygments_lexer": "ipython3",
   "version": "3.7.6"
  }
 },
 "nbformat": 4,
 "nbformat_minor": 2
}
