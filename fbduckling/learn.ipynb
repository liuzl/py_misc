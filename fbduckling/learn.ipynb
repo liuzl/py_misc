{
 "cells": [
  {
   "cell_type": "code",
   "execution_count": 3,
   "metadata": {},
   "outputs": [],
   "source": [
    "import duckling"
   ]
  },
  {
   "cell_type": "code",
   "execution_count": 4,
   "metadata": {},
   "outputs": [],
   "source": [
    "tag = duckling.Duckling()"
   ]
  },
  {
   "cell_type": "code",
   "execution_count": 11,
   "metadata": {},
   "outputs": [],
   "source": [
    "text = \"明年国庆节下午两点半的时候，我们去王龙家吧，需要开车三到四百公里呢\""
   ]
  },
  {
   "cell_type": "code",
   "execution_count": 12,
   "metadata": {},
   "outputs": [
    {
     "data": {
      "text/plain": [
       "[{'body': '明年国庆节下午两点半',\n",
       "  'start': 0,\n",
       "  'value': {'values': [{'value': '2021-10-01T14:30:00.000+08:00',\n",
       "     'grain': 'minute',\n",
       "     'type': 'value'}],\n",
       "   'value': '2021-10-01T14:30:00.000+08:00',\n",
       "   'grain': 'minute',\n",
       "   'type': 'value'},\n",
       "  'end': 10,\n",
       "  'dim': 'time',\n",
       "  'latent': False},\n",
       " {'body': '三到四百',\n",
       "  'start': 26,\n",
       "  'value': {'to': {'value': 14, 'unit': 'unknown'},\n",
       "   'from': {'value': 3, 'unit': 'unknown'},\n",
       "   'type': 'interval'},\n",
       "  'end': 30,\n",
       "  'dim': 'amount-of-money',\n",
       "  'latent': False},\n",
       " {'body': '三到四百',\n",
       "  'start': 26,\n",
       "  'value': {'to': {'value': 400, 'unit': 'unknown'},\n",
       "   'from': {'value': 3, 'unit': 'unknown'},\n",
       "   'type': 'interval'},\n",
       "  'end': 30,\n",
       "  'dim': 'amount-of-money',\n",
       "  'latent': False},\n",
       " {'body': '四百公里',\n",
       "  'start': 28,\n",
       "  'value': {'value': 400, 'type': 'value', 'unit': 'kilometre'},\n",
       "  'end': 32,\n",
       "  'dim': 'distance',\n",
       "  'latent': False}]"
      ]
     },
     "execution_count": 12,
     "metadata": {},
     "output_type": "execute_result"
    }
   ],
   "source": [
    "tag(text)"
   ]
  },
  {
   "cell_type": "code",
   "execution_count": null,
   "metadata": {},
   "outputs": [],
   "source": []
  }
 ],
 "metadata": {
  "kernelspec": {
   "display_name": "Python 3",
   "language": "python",
   "name": "python3"
  },
  "language_info": {
   "codemirror_mode": {
    "name": "ipython",
    "version": 3
   },
   "file_extension": ".py",
   "mimetype": "text/x-python",
   "name": "python",
   "nbconvert_exporter": "python",
   "pygments_lexer": "ipython3",
   "version": "3.7.1"
  }
 },
 "nbformat": 4,
 "nbformat_minor": 2
}
