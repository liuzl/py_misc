{
 "cells": [
  {
   "cell_type": "code",
   "execution_count": 9,
   "id": "1f814cdc",
   "metadata": {},
   "outputs": [],
   "source": [
    "import pandas as pd\n",
    "import numpy as np\n",
    "import json\n",
    "import os\n",
    "import uuid\n",
    "\n",
    "\n",
    "from sentence_transformers import SentenceTransformer, util\n",
    "\n",
    "import elasticsearch\n",
    "from elasticsearch import Elasticsearch\n",
    "from elasticsearch import helpers\n",
    "\n",
    "from tqdm.auto import tqdm\n",
    "tqdm.pandas()"
   ]
  },
  {
   "cell_type": "code",
   "execution_count": 10,
   "id": "6371682b",
   "metadata": {},
   "outputs": [
    {
     "name": "stdout",
     "output_type": "stream",
     "text": [
      "Wall time: 2.39 s\n"
     ]
    }
   ],
   "source": [
    "%%time\n",
    "df  = pd.read_csv(\"data job posts.csv\")"
   ]
  },
  {
   "cell_type": "code",
   "execution_count": 12,
   "id": "6a3a4d07",
   "metadata": {},
   "outputs": [],
   "source": [
    "class Tokenizer(object):\n",
    "    def __init__(self):\n",
    "        self.model = SentenceTransformer('all-MiniLM-L6-v2')\n",
    "\n",
    "    def get_token(self, documents):\n",
    "        sentences  = [documents]\n",
    "        sentence_embeddings = self.model.encode(sentences)\n",
    "        encod_np_array = np.array(sentence_embeddings)\n",
    "        encod_list = encod_np_array.tolist()\n",
    "        return encod_list[0]\n"
   ]
  },
  {
   "cell_type": "code",
   "execution_count": 13,
   "id": "ee665151",
   "metadata": {},
   "outputs": [],
   "source": [
    "token_instance = Tokenizer()"
   ]
  },
  {
   "cell_type": "code",
   "execution_count": 14,
   "id": "0cfa3730",
   "metadata": {},
   "outputs": [],
   "source": [
    "df = df.head(5000)\n",
    "df = df.dropna(how='all')"
   ]
  },
  {
   "cell_type": "code",
   "execution_count": 18,
   "id": "080fa699",
   "metadata": {},
   "outputs": [
    {
     "data": {
      "application/vnd.jupyter.widget-view+json": {
       "model_id": "e06729bdb4564473952254de5c681aa1",
       "version_major": 2,
       "version_minor": 0
      },
      "text/plain": [
       "  0%|          | 0/5000 [00:00<?, ?it/s]"
      ]
     },
     "metadata": {},
     "output_type": "display_data"
    }
   ],
   "source": [
    "df['vector'] = df['jobpost'].progress_apply(token_instance.get_token)"
   ]
  },
  {
   "cell_type": "markdown",
   "id": "7f909bd8",
   "metadata": {},
   "source": [
    "```sh\n",
    "PUT posting1 \n",
    "{\n",
    "   \"mappings\":{\n",
    "      \"properties\":{\n",
    "         \"vector\":{\n",
    "            \"type\":\"dense_vector\",\n",
    "            \"dims\":384,\n",
    "            \"index\": true,\n",
    "            \"similarity\": \"cosine\"\n",
    "         }\n",
    "      }\n",
    "   }\n",
    "}\n",
    "\n",
    "```"
   ]
  },
  {
   "cell_type": "code",
   "execution_count": 19,
   "id": "a1e67dcd",
   "metadata": {},
   "outputs": [],
   "source": [
    "elk_data = df.to_dict(\"records\")"
   ]
  },
  {
   "cell_type": "code",
   "execution_count": 31,
   "id": "273a930c",
   "metadata": {},
   "outputs": [],
   "source": [
    "ENDPOINT = 'https://localhost:9200/'\n",
    "USERNAME = 'elastic'\n",
    "PASSWORD = 'vOfdH9D7uTx4hSZ7mAc0'"
   ]
  },
  {
   "cell_type": "code",
   "execution_count": 32,
   "id": "c91708a6",
   "metadata": {},
   "outputs": [
    {
     "data": {
      "text/plain": [
       "True"
      ]
     },
     "execution_count": 32,
     "metadata": {},
     "output_type": "execute_result"
    }
   ],
   "source": [
    "es = Elasticsearch(\n",
    "    hosts=[ENDPOINT],\n",
    "    ca_certs = 'D:\\work\\es\\elasticsearch-8.4.0\\config\\certs\\http_ca.crt',\n",
    "    basic_auth=(USERNAME, PASSWORD)\n",
    ")\n",
    "es.ping()"
   ]
  },
  {
   "cell_type": "code",
   "execution_count": 39,
   "id": "a3e2a056",
   "metadata": {},
   "outputs": [],
   "source": [
    "doc_id = 0\n",
    "for x in elk_data:\n",
    "    doc_id += 1\n",
    "    try:\n",
    "        doc = {\n",
    "           \"title\":x.get(\"Title\", \"\"),\n",
    "            \"company\":x.get(\"Company\", \"\"),\n",
    "            \"location\":x.get(\"Location\", \"\"),\n",
    "            \"salary\":x.get(\"Salary\", \"\"),\n",
    "            \"vector\":x.get(\"vector\", \"\"),\n",
    "            \"job_description\":x.get(\"JobDescription\", \"\"),\n",
    "\n",
    "        }\n",
    "        es.index(index='posting1', id=doc_id, document=doc)\n",
    "    except Exception as e: pass"
   ]
  },
  {
   "cell_type": "code",
   "execution_count": 85,
   "id": "20ec0b78",
   "metadata": {},
   "outputs": [
    {
     "data": {
      "text/plain": [
       "[{'company': 'CQG Yerevan', 'title': 'C++ Senior Software Developer (UNIX)'},\n",
       " {'company': 'CQG Yerevan', 'title': 'C++ Senior Software Developer (UNIX)'},\n",
       " {'company': 'CQG Yerevan', 'title': 'C++ Senior Software Developer (UNIX)'},\n",
       " {'company': 'CQG-Yerevan', 'title': 'C++ Senior Software Developer (UNIX)'},\n",
       " {'company': 'Lycos Europe',\n",
       "  'title': 'Java or C++ backend developer for Lycos Communities'},\n",
       " {'company': 'CQG-Yerevan', 'title': 'C++ Senior Software Developer (UNIX)'},\n",
       " {'company': 'ISMO Tech CJSC', 'title': 'C++ Software Developer'},\n",
       " {'company': 'CQG-Yerevan', 'title': 'C++ Senior Software Developer (UNIX)'},\n",
       " {'company': 'Vested Development, Inc.',\n",
       "  'title': 'Java Senior Developer / Architect'},\n",
       " {'company': 'Vested Development, Inc.',\n",
       "  'title': 'Java Senior Developer/ Architect'}]"
      ]
     },
     "execution_count": 85,
     "metadata": {},
     "output_type": "execute_result"
    }
   ],
   "source": [
    "#INPUT = input(\"Enter the Input Query \")\n",
    "INPUT = \"someone that knows Java or C++\"\n",
    "token_vector = token_instance.get_token(INPUT)\n",
    "\n",
    "knn = {\n",
    "    \"field\": \"vector\",\n",
    "    \"query_vector\": token_vector,\n",
    "    \"k\": 10,\n",
    "    \"num_candidates\": 10\n",
    "}\n",
    "\n",
    "q = {\n",
    "    \"match\": {\n",
    "      \"title\": INPUT\n",
    "    }\n",
    "}\n",
    "\n",
    "res = es.search(index='posting1', knn=knn, _source=[\"title\",\"company\"])\n",
    "docs = [x['_source'] for x in res['hits']['hits']] \n",
    "docs"
   ]
  },
  {
   "cell_type": "code",
   "execution_count": 87,
   "id": "d4a55100",
   "metadata": {},
   "outputs": [
    {
     "data": {
      "text/plain": [
       "[{'company': 'Lycos Europe',\n",
       "  'title': 'Java or C++ backend developer for Lycos Communities'},\n",
       " {'company': 'Lycos Europe', 'title': 'Java/C++ Backend Developers'},\n",
       " {'company': 'Lycos Europe', 'title': 'Java/C++/PHP Software Developers'},\n",
       " {'company': 'LVFH', 'title': 'Senior or Intermediate Software Engineer'},\n",
       " {'company': 'Lycos Armenia CJSC',\n",
       "  'title': 'Java/C++ Developer for Lycos Mail'},\n",
       " {'company': 'Lycos Europe',\n",
       "  'title': 'Java/C++ Developer for Lycos Communities'},\n",
       " {'company': 'CQGI MA', 'title': 'C++/ C# Senior Developer'},\n",
       " {'company': 'CQGI MA', 'title': 'C++/ C# Senior Developer'},\n",
       " {'company': 'Lycos Europe', 'title': 'C/C++ Software  Developers'},\n",
       " {'company': 'Lycos Europe', 'title': 'C/C++ Software  Developers'}]"
      ]
     },
     "execution_count": 87,
     "metadata": {},
     "output_type": "execute_result"
    }
   ],
   "source": [
    "res = es.search(index='posting1',query=q,knn=knn, _source=[\"title\",\"company\"])\n",
    "docs = [x['_source'] for x in res['hits']['hits']] \n",
    "docs"
   ]
  },
  {
   "cell_type": "code",
   "execution_count": null,
   "id": "943af7fe",
   "metadata": {},
   "outputs": [],
   "source": []
  }
 ],
 "metadata": {
  "kernelspec": {
   "display_name": "Python 3 (ipykernel)",
   "language": "python",
   "name": "python3"
  },
  "language_info": {
   "codemirror_mode": {
    "name": "ipython",
    "version": 3
   },
   "file_extension": ".py",
   "mimetype": "text/x-python",
   "name": "python",
   "nbconvert_exporter": "python",
   "pygments_lexer": "ipython3",
   "version": "3.7.10"
  }
 },
 "nbformat": 4,
 "nbformat_minor": 5
}
